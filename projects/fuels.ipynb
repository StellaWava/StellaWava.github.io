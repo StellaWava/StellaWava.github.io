{
 "cells": [
  {
   "cell_type": "code",
   "execution_count": 8,
   "metadata": {},
   "outputs": [],
   "source": [
    "import pandas as pd\n",
    "import numpy as np\n",
    "import os\n",
    "\n",
    "#viz\n",
    "import matplotlib.pyplot as plt\n",
    "import seaborn as sns\n",
    "import scipy as sp\n",
    "import plotly\n",
    "import plotly.express as px\n",
    "import plotly.io as pio"
   ]
  },
  {
   "cell_type": "code",
   "execution_count": 5,
   "metadata": {},
   "outputs": [
    {
     "data": {
      "text/plain": [
       "(8133, 24)"
      ]
     },
     "execution_count": 5,
     "metadata": {},
     "output_type": "execute_result"
    }
   ],
   "source": [
    "#import data\n",
    "df = pd.read_csv(r'C:\\Users\\pc\\Desktop\\PROJECTS\\DATA_PRODUCT\\clean_file.csv', delimiter=',')\n",
    "df.shape"
   ]
  },
  {
   "cell_type": "code",
   "execution_count": 7,
   "metadata": {},
   "outputs": [
    {
     "name": "stdout",
     "output_type": "stream",
     "text": [
      "['ELEC' 'E85' 'BD' 'CNG' 'LPG' 'LNG' 'HY']\n"
     ]
    }
   ],
   "source": [
    "#we only have natural gas left after mining\n",
    "print (df['Fuel Type Code'].unique())"
   ]
  },
  {
   "cell_type": "markdown",
   "metadata": {},
   "source": [
    "Examining Fuel Station Distribution by \n",
    "a) Fuel Code and \n",
    "b) State"
   ]
  },
  {
   "cell_type": "code",
   "execution_count": 9,
   "metadata": {},
   "outputs": [
    {
     "data": {
      "application/vnd.plotly.v1+json": {
       "config": {
        "plotlyServerURL": "https://plot.ly"
       },
       "data": [
        {
         "alignmentgroup": "True",
         "hovertemplate": "Fuel Type Code=%{x}<br>count=%{y}<extra></extra>",
         "legendgroup": "ELEC",
         "marker": {
          "color": "#636efa",
          "pattern": {
           "shape": ""
          }
         },
         "name": "ELEC",
         "offsetgroup": "ELEC",
         "orientation": "v",
         "showlegend": true,
         "textposition": "auto",
         "type": "bar",
         "x": [
          "ELEC"
         ],
         "xaxis": "x",
         "y": [
          3907
         ],
         "yaxis": "y"
        },
        {
         "alignmentgroup": "True",
         "hovertemplate": "Fuel Type Code=%{x}<br>count=%{y}<extra></extra>",
         "legendgroup": "E85",
         "marker": {
          "color": "#EF553B",
          "pattern": {
           "shape": ""
          }
         },
         "name": "E85",
         "offsetgroup": "E85",
         "orientation": "v",
         "showlegend": true,
         "textposition": "auto",
         "type": "bar",
         "x": [
          "E85"
         ],
         "xaxis": "x",
         "y": [
          2669
         ],
         "yaxis": "y"
        },
        {
         "alignmentgroup": "True",
         "hovertemplate": "Fuel Type Code=%{x}<br>count=%{y}<extra></extra>",
         "legendgroup": "CNG",
         "marker": {
          "color": "#00cc96",
          "pattern": {
           "shape": ""
          }
         },
         "name": "CNG",
         "offsetgroup": "CNG",
         "orientation": "v",
         "showlegend": true,
         "textposition": "auto",
         "type": "bar",
         "x": [
          "CNG"
         ],
         "xaxis": "x",
         "y": [
          937
         ],
         "yaxis": "y"
        },
        {
         "alignmentgroup": "True",
         "hovertemplate": "Fuel Type Code=%{x}<br>count=%{y}<extra></extra>",
         "legendgroup": "BD",
         "marker": {
          "color": "#ab63fa",
          "pattern": {
           "shape": ""
          }
         },
         "name": "BD",
         "offsetgroup": "BD",
         "orientation": "v",
         "showlegend": true,
         "textposition": "auto",
         "type": "bar",
         "x": [
          "BD"
         ],
         "xaxis": "x",
         "y": [
          323
         ],
         "yaxis": "y"
        },
        {
         "alignmentgroup": "True",
         "hovertemplate": "Fuel Type Code=%{x}<br>count=%{y}<extra></extra>",
         "legendgroup": "LPG",
         "marker": {
          "color": "#FFA15A",
          "pattern": {
           "shape": ""
          }
         },
         "name": "LPG",
         "offsetgroup": "LPG",
         "orientation": "v",
         "showlegend": true,
         "textposition": "auto",
         "type": "bar",
         "x": [
          "LPG"
         ],
         "xaxis": "x",
         "y": [
          211
         ],
         "yaxis": "y"
        },
        {
         "alignmentgroup": "True",
         "hovertemplate": "Fuel Type Code=%{x}<br>count=%{y}<extra></extra>",
         "legendgroup": "LNG",
         "marker": {
          "color": "#19d3f3",
          "pattern": {
           "shape": ""
          }
         },
         "name": "LNG",
         "offsetgroup": "LNG",
         "orientation": "v",
         "showlegend": true,
         "textposition": "auto",
         "type": "bar",
         "x": [
          "LNG"
         ],
         "xaxis": "x",
         "y": [
          76
         ],
         "yaxis": "y"
        },
        {
         "alignmentgroup": "True",
         "hovertemplate": "Fuel Type Code=%{x}<br>count=%{y}<extra></extra>",
         "legendgroup": "HY",
         "marker": {
          "color": "#FF6692",
          "pattern": {
           "shape": ""
          }
         },
         "name": "HY",
         "offsetgroup": "HY",
         "orientation": "v",
         "showlegend": true,
         "textposition": "auto",
         "type": "bar",
         "x": [
          "HY"
         ],
         "xaxis": "x",
         "y": [
          10
         ],
         "yaxis": "y"
        }
       ],
       "layout": {
        "barmode": "relative",
        "height": 400,
        "legend": {
         "title": {
          "text": "Fuel Type Code"
         },
         "tracegroupgap": 0
        },
        "template": {
         "data": {
          "bar": [
           {
            "error_x": {
             "color": "#2a3f5f"
            },
            "error_y": {
             "color": "#2a3f5f"
            },
            "marker": {
             "line": {
              "color": "#E5ECF6",
              "width": 0.5
             },
             "pattern": {
              "fillmode": "overlay",
              "size": 10,
              "solidity": 0.2
             }
            },
            "type": "bar"
           }
          ],
          "barpolar": [
           {
            "marker": {
             "line": {
              "color": "#E5ECF6",
              "width": 0.5
             },
             "pattern": {
              "fillmode": "overlay",
              "size": 10,
              "solidity": 0.2
             }
            },
            "type": "barpolar"
           }
          ],
          "carpet": [
           {
            "aaxis": {
             "endlinecolor": "#2a3f5f",
             "gridcolor": "white",
             "linecolor": "white",
             "minorgridcolor": "white",
             "startlinecolor": "#2a3f5f"
            },
            "baxis": {
             "endlinecolor": "#2a3f5f",
             "gridcolor": "white",
             "linecolor": "white",
             "minorgridcolor": "white",
             "startlinecolor": "#2a3f5f"
            },
            "type": "carpet"
           }
          ],
          "choropleth": [
           {
            "colorbar": {
             "outlinewidth": 0,
             "ticks": ""
            },
            "type": "choropleth"
           }
          ],
          "contour": [
           {
            "colorbar": {
             "outlinewidth": 0,
             "ticks": ""
            },
            "colorscale": [
             [
              0,
              "#0d0887"
             ],
             [
              0.1111111111111111,
              "#46039f"
             ],
             [
              0.2222222222222222,
              "#7201a8"
             ],
             [
              0.3333333333333333,
              "#9c179e"
             ],
             [
              0.4444444444444444,
              "#bd3786"
             ],
             [
              0.5555555555555556,
              "#d8576b"
             ],
             [
              0.6666666666666666,
              "#ed7953"
             ],
             [
              0.7777777777777778,
              "#fb9f3a"
             ],
             [
              0.8888888888888888,
              "#fdca26"
             ],
             [
              1,
              "#f0f921"
             ]
            ],
            "type": "contour"
           }
          ],
          "contourcarpet": [
           {
            "colorbar": {
             "outlinewidth": 0,
             "ticks": ""
            },
            "type": "contourcarpet"
           }
          ],
          "heatmap": [
           {
            "colorbar": {
             "outlinewidth": 0,
             "ticks": ""
            },
            "colorscale": [
             [
              0,
              "#0d0887"
             ],
             [
              0.1111111111111111,
              "#46039f"
             ],
             [
              0.2222222222222222,
              "#7201a8"
             ],
             [
              0.3333333333333333,
              "#9c179e"
             ],
             [
              0.4444444444444444,
              "#bd3786"
             ],
             [
              0.5555555555555556,
              "#d8576b"
             ],
             [
              0.6666666666666666,
              "#ed7953"
             ],
             [
              0.7777777777777778,
              "#fb9f3a"
             ],
             [
              0.8888888888888888,
              "#fdca26"
             ],
             [
              1,
              "#f0f921"
             ]
            ],
            "type": "heatmap"
           }
          ],
          "heatmapgl": [
           {
            "colorbar": {
             "outlinewidth": 0,
             "ticks": ""
            },
            "colorscale": [
             [
              0,
              "#0d0887"
             ],
             [
              0.1111111111111111,
              "#46039f"
             ],
             [
              0.2222222222222222,
              "#7201a8"
             ],
             [
              0.3333333333333333,
              "#9c179e"
             ],
             [
              0.4444444444444444,
              "#bd3786"
             ],
             [
              0.5555555555555556,
              "#d8576b"
             ],
             [
              0.6666666666666666,
              "#ed7953"
             ],
             [
              0.7777777777777778,
              "#fb9f3a"
             ],
             [
              0.8888888888888888,
              "#fdca26"
             ],
             [
              1,
              "#f0f921"
             ]
            ],
            "type": "heatmapgl"
           }
          ],
          "histogram": [
           {
            "marker": {
             "pattern": {
              "fillmode": "overlay",
              "size": 10,
              "solidity": 0.2
             }
            },
            "type": "histogram"
           }
          ],
          "histogram2d": [
           {
            "colorbar": {
             "outlinewidth": 0,
             "ticks": ""
            },
            "colorscale": [
             [
              0,
              "#0d0887"
             ],
             [
              0.1111111111111111,
              "#46039f"
             ],
             [
              0.2222222222222222,
              "#7201a8"
             ],
             [
              0.3333333333333333,
              "#9c179e"
             ],
             [
              0.4444444444444444,
              "#bd3786"
             ],
             [
              0.5555555555555556,
              "#d8576b"
             ],
             [
              0.6666666666666666,
              "#ed7953"
             ],
             [
              0.7777777777777778,
              "#fb9f3a"
             ],
             [
              0.8888888888888888,
              "#fdca26"
             ],
             [
              1,
              "#f0f921"
             ]
            ],
            "type": "histogram2d"
           }
          ],
          "histogram2dcontour": [
           {
            "colorbar": {
             "outlinewidth": 0,
             "ticks": ""
            },
            "colorscale": [
             [
              0,
              "#0d0887"
             ],
             [
              0.1111111111111111,
              "#46039f"
             ],
             [
              0.2222222222222222,
              "#7201a8"
             ],
             [
              0.3333333333333333,
              "#9c179e"
             ],
             [
              0.4444444444444444,
              "#bd3786"
             ],
             [
              0.5555555555555556,
              "#d8576b"
             ],
             [
              0.6666666666666666,
              "#ed7953"
             ],
             [
              0.7777777777777778,
              "#fb9f3a"
             ],
             [
              0.8888888888888888,
              "#fdca26"
             ],
             [
              1,
              "#f0f921"
             ]
            ],
            "type": "histogram2dcontour"
           }
          ],
          "mesh3d": [
           {
            "colorbar": {
             "outlinewidth": 0,
             "ticks": ""
            },
            "type": "mesh3d"
           }
          ],
          "parcoords": [
           {
            "line": {
             "colorbar": {
              "outlinewidth": 0,
              "ticks": ""
             }
            },
            "type": "parcoords"
           }
          ],
          "pie": [
           {
            "automargin": true,
            "type": "pie"
           }
          ],
          "scatter": [
           {
            "fillpattern": {
             "fillmode": "overlay",
             "size": 10,
             "solidity": 0.2
            },
            "type": "scatter"
           }
          ],
          "scatter3d": [
           {
            "line": {
             "colorbar": {
              "outlinewidth": 0,
              "ticks": ""
             }
            },
            "marker": {
             "colorbar": {
              "outlinewidth": 0,
              "ticks": ""
             }
            },
            "type": "scatter3d"
           }
          ],
          "scattercarpet": [
           {
            "marker": {
             "colorbar": {
              "outlinewidth": 0,
              "ticks": ""
             }
            },
            "type": "scattercarpet"
           }
          ],
          "scattergeo": [
           {
            "marker": {
             "colorbar": {
              "outlinewidth": 0,
              "ticks": ""
             }
            },
            "type": "scattergeo"
           }
          ],
          "scattergl": [
           {
            "marker": {
             "colorbar": {
              "outlinewidth": 0,
              "ticks": ""
             }
            },
            "type": "scattergl"
           }
          ],
          "scattermapbox": [
           {
            "marker": {
             "colorbar": {
              "outlinewidth": 0,
              "ticks": ""
             }
            },
            "type": "scattermapbox"
           }
          ],
          "scatterpolar": [
           {
            "marker": {
             "colorbar": {
              "outlinewidth": 0,
              "ticks": ""
             }
            },
            "type": "scatterpolar"
           }
          ],
          "scatterpolargl": [
           {
            "marker": {
             "colorbar": {
              "outlinewidth": 0,
              "ticks": ""
             }
            },
            "type": "scatterpolargl"
           }
          ],
          "scatterternary": [
           {
            "marker": {
             "colorbar": {
              "outlinewidth": 0,
              "ticks": ""
             }
            },
            "type": "scatterternary"
           }
          ],
          "surface": [
           {
            "colorbar": {
             "outlinewidth": 0,
             "ticks": ""
            },
            "colorscale": [
             [
              0,
              "#0d0887"
             ],
             [
              0.1111111111111111,
              "#46039f"
             ],
             [
              0.2222222222222222,
              "#7201a8"
             ],
             [
              0.3333333333333333,
              "#9c179e"
             ],
             [
              0.4444444444444444,
              "#bd3786"
             ],
             [
              0.5555555555555556,
              "#d8576b"
             ],
             [
              0.6666666666666666,
              "#ed7953"
             ],
             [
              0.7777777777777778,
              "#fb9f3a"
             ],
             [
              0.8888888888888888,
              "#fdca26"
             ],
             [
              1,
              "#f0f921"
             ]
            ],
            "type": "surface"
           }
          ],
          "table": [
           {
            "cells": {
             "fill": {
              "color": "#EBF0F8"
             },
             "line": {
              "color": "white"
             }
            },
            "header": {
             "fill": {
              "color": "#C8D4E3"
             },
             "line": {
              "color": "white"
             }
            },
            "type": "table"
           }
          ]
         },
         "layout": {
          "annotationdefaults": {
           "arrowcolor": "#2a3f5f",
           "arrowhead": 0,
           "arrowwidth": 1
          },
          "autotypenumbers": "strict",
          "coloraxis": {
           "colorbar": {
            "outlinewidth": 0,
            "ticks": ""
           }
          },
          "colorscale": {
           "diverging": [
            [
             0,
             "#8e0152"
            ],
            [
             0.1,
             "#c51b7d"
            ],
            [
             0.2,
             "#de77ae"
            ],
            [
             0.3,
             "#f1b6da"
            ],
            [
             0.4,
             "#fde0ef"
            ],
            [
             0.5,
             "#f7f7f7"
            ],
            [
             0.6,
             "#e6f5d0"
            ],
            [
             0.7,
             "#b8e186"
            ],
            [
             0.8,
             "#7fbc41"
            ],
            [
             0.9,
             "#4d9221"
            ],
            [
             1,
             "#276419"
            ]
           ],
           "sequential": [
            [
             0,
             "#0d0887"
            ],
            [
             0.1111111111111111,
             "#46039f"
            ],
            [
             0.2222222222222222,
             "#7201a8"
            ],
            [
             0.3333333333333333,
             "#9c179e"
            ],
            [
             0.4444444444444444,
             "#bd3786"
            ],
            [
             0.5555555555555556,
             "#d8576b"
            ],
            [
             0.6666666666666666,
             "#ed7953"
            ],
            [
             0.7777777777777778,
             "#fb9f3a"
            ],
            [
             0.8888888888888888,
             "#fdca26"
            ],
            [
             1,
             "#f0f921"
            ]
           ],
           "sequentialminus": [
            [
             0,
             "#0d0887"
            ],
            [
             0.1111111111111111,
             "#46039f"
            ],
            [
             0.2222222222222222,
             "#7201a8"
            ],
            [
             0.3333333333333333,
             "#9c179e"
            ],
            [
             0.4444444444444444,
             "#bd3786"
            ],
            [
             0.5555555555555556,
             "#d8576b"
            ],
            [
             0.6666666666666666,
             "#ed7953"
            ],
            [
             0.7777777777777778,
             "#fb9f3a"
            ],
            [
             0.8888888888888888,
             "#fdca26"
            ],
            [
             1,
             "#f0f921"
            ]
           ]
          },
          "colorway": [
           "#636efa",
           "#EF553B",
           "#00cc96",
           "#ab63fa",
           "#FFA15A",
           "#19d3f3",
           "#FF6692",
           "#B6E880",
           "#FF97FF",
           "#FECB52"
          ],
          "font": {
           "color": "#2a3f5f"
          },
          "geo": {
           "bgcolor": "white",
           "lakecolor": "white",
           "landcolor": "#E5ECF6",
           "showlakes": true,
           "showland": true,
           "subunitcolor": "white"
          },
          "hoverlabel": {
           "align": "left"
          },
          "hovermode": "closest",
          "mapbox": {
           "style": "light"
          },
          "paper_bgcolor": "white",
          "plot_bgcolor": "#E5ECF6",
          "polar": {
           "angularaxis": {
            "gridcolor": "white",
            "linecolor": "white",
            "ticks": ""
           },
           "bgcolor": "#E5ECF6",
           "radialaxis": {
            "gridcolor": "white",
            "linecolor": "white",
            "ticks": ""
           }
          },
          "scene": {
           "xaxis": {
            "backgroundcolor": "#E5ECF6",
            "gridcolor": "white",
            "gridwidth": 2,
            "linecolor": "white",
            "showbackground": true,
            "ticks": "",
            "zerolinecolor": "white"
           },
           "yaxis": {
            "backgroundcolor": "#E5ECF6",
            "gridcolor": "white",
            "gridwidth": 2,
            "linecolor": "white",
            "showbackground": true,
            "ticks": "",
            "zerolinecolor": "white"
           },
           "zaxis": {
            "backgroundcolor": "#E5ECF6",
            "gridcolor": "white",
            "gridwidth": 2,
            "linecolor": "white",
            "showbackground": true,
            "ticks": "",
            "zerolinecolor": "white"
           }
          },
          "shapedefaults": {
           "line": {
            "color": "#2a3f5f"
           }
          },
          "ternary": {
           "aaxis": {
            "gridcolor": "white",
            "linecolor": "white",
            "ticks": ""
           },
           "baxis": {
            "gridcolor": "white",
            "linecolor": "white",
            "ticks": ""
           },
           "bgcolor": "#E5ECF6",
           "caxis": {
            "gridcolor": "white",
            "linecolor": "white",
            "ticks": ""
           }
          },
          "title": {
           "x": 0.05
          },
          "xaxis": {
           "automargin": true,
           "gridcolor": "white",
           "linecolor": "white",
           "ticks": "",
           "title": {
            "standoff": 15
           },
           "zerolinecolor": "white",
           "zerolinewidth": 2
          },
          "yaxis": {
           "automargin": true,
           "gridcolor": "white",
           "linecolor": "white",
           "ticks": "",
           "title": {
            "standoff": 15
           },
           "zerolinecolor": "white",
           "zerolinewidth": 2
          }
         }
        },
        "title": {
         "text": "Number of Fuel Stations by Type Codes"
        },
        "width": 400,
        "xaxis": {
         "anchor": "y",
         "categoryarray": [
          "ELEC",
          "E85",
          "CNG",
          "BD",
          "LPG",
          "LNG",
          "HY"
         ],
         "categoryorder": "array",
         "domain": [
          0,
          1
         ],
         "title": {
          "text": "Fuel Type Code"
         }
        },
        "yaxis": {
         "anchor": "x",
         "domain": [
          0,
          1
         ],
         "title": {
          "text": "count"
         }
        }
       }
      }
     },
     "metadata": {},
     "output_type": "display_data"
    }
   ],
   "source": [
    "# Bar chart for 'Fuel Type Code'\n",
    "fig_fuel_type = px.bar(df['Fuel Type Code'].value_counts().reset_index(), x='Fuel Type Code', y='count',color='Fuel Type Code', \n",
    "                       labels={'index': 'Fuel Type Code', 'Fuel Type Code': 'Fuel Type Code'},\n",
    "                       title='Number of Fuel Stations by Type Codes',height=400,  # Set height\n",
    "                  width=400)\n",
    "fig_fuel_type.show()"
   ]
  },
  {
   "cell_type": "code",
   "execution_count": 10,
   "metadata": {},
   "outputs": [
    {
     "data": {
      "text/html": [
       "<div>\n",
       "<style scoped>\n",
       "    .dataframe tbody tr th:only-of-type {\n",
       "        vertical-align: middle;\n",
       "    }\n",
       "\n",
       "    .dataframe tbody tr th {\n",
       "        vertical-align: top;\n",
       "    }\n",
       "\n",
       "    .dataframe thead th {\n",
       "        text-align: right;\n",
       "    }\n",
       "</style>\n",
       "<table border=\"1\" class=\"dataframe\">\n",
       "  <thead>\n",
       "    <tr style=\"text-align: right;\">\n",
       "      <th></th>\n",
       "      <th>State</th>\n",
       "      <th>Fuel Type Code</th>\n",
       "      <th>count</th>\n",
       "    </tr>\n",
       "  </thead>\n",
       "  <tbody>\n",
       "    <tr>\n",
       "      <th>0</th>\n",
       "      <td>AK</td>\n",
       "      <td>CNG</td>\n",
       "      <td>1</td>\n",
       "    </tr>\n",
       "    <tr>\n",
       "      <th>1</th>\n",
       "      <td>AK</td>\n",
       "      <td>ELEC</td>\n",
       "      <td>1</td>\n",
       "    </tr>\n",
       "    <tr>\n",
       "      <th>2</th>\n",
       "      <td>AL</td>\n",
       "      <td>BD</td>\n",
       "      <td>3</td>\n",
       "    </tr>\n",
       "    <tr>\n",
       "      <th>3</th>\n",
       "      <td>AL</td>\n",
       "      <td>CNG</td>\n",
       "      <td>10</td>\n",
       "    </tr>\n",
       "    <tr>\n",
       "      <th>4</th>\n",
       "      <td>AL</td>\n",
       "      <td>E85</td>\n",
       "      <td>25</td>\n",
       "    </tr>\n",
       "    <tr>\n",
       "      <th>...</th>\n",
       "      <td>...</td>\n",
       "      <td>...</td>\n",
       "      <td>...</td>\n",
       "    </tr>\n",
       "    <tr>\n",
       "      <th>251</th>\n",
       "      <td>WV</td>\n",
       "      <td>LPG</td>\n",
       "      <td>1</td>\n",
       "    </tr>\n",
       "    <tr>\n",
       "      <th>252</th>\n",
       "      <td>WY</td>\n",
       "      <td>CNG</td>\n",
       "      <td>7</td>\n",
       "    </tr>\n",
       "    <tr>\n",
       "      <th>253</th>\n",
       "      <td>WY</td>\n",
       "      <td>E85</td>\n",
       "      <td>6</td>\n",
       "    </tr>\n",
       "    <tr>\n",
       "      <th>254</th>\n",
       "      <td>WY</td>\n",
       "      <td>ELEC</td>\n",
       "      <td>4</td>\n",
       "    </tr>\n",
       "    <tr>\n",
       "      <th>255</th>\n",
       "      <td>WY</td>\n",
       "      <td>LPG</td>\n",
       "      <td>7</td>\n",
       "    </tr>\n",
       "  </tbody>\n",
       "</table>\n",
       "<p>256 rows × 3 columns</p>\n",
       "</div>"
      ],
      "text/plain": [
       "    State Fuel Type Code  count\n",
       "0      AK            CNG      1\n",
       "1      AK           ELEC      1\n",
       "2      AL             BD      3\n",
       "3      AL            CNG     10\n",
       "4      AL            E85     25\n",
       "..    ...            ...    ...\n",
       "251    WV            LPG      1\n",
       "252    WY            CNG      7\n",
       "253    WY            E85      6\n",
       "254    WY           ELEC      4\n",
       "255    WY            LPG      7\n",
       "\n",
       "[256 rows x 3 columns]"
      ]
     },
     "execution_count": 10,
     "metadata": {},
     "output_type": "execute_result"
    }
   ],
   "source": [
    "f_counts = df.groupby(['State', 'Fuel Type Code']).size().reset_index(name='count')\n",
    "f_counts"
   ]
  },
  {
   "cell_type": "code",
   "execution_count": 11,
   "metadata": {},
   "outputs": [
    {
     "data": {
      "text/html": [
       "<div>\n",
       "<style scoped>\n",
       "    .dataframe tbody tr th:only-of-type {\n",
       "        vertical-align: middle;\n",
       "    }\n",
       "\n",
       "    .dataframe tbody tr th {\n",
       "        vertical-align: top;\n",
       "    }\n",
       "\n",
       "    .dataframe thead th {\n",
       "        text-align: right;\n",
       "    }\n",
       "</style>\n",
       "<table border=\"1\" class=\"dataframe\">\n",
       "  <thead>\n",
       "    <tr style=\"text-align: right;\">\n",
       "      <th>Fuel Type Code</th>\n",
       "      <th>State</th>\n",
       "      <th>BD</th>\n",
       "      <th>CNG</th>\n",
       "      <th>E85</th>\n",
       "      <th>ELEC</th>\n",
       "      <th>HY</th>\n",
       "      <th>LNG</th>\n",
       "      <th>LPG</th>\n",
       "    </tr>\n",
       "  </thead>\n",
       "  <tbody>\n",
       "    <tr>\n",
       "      <th>0</th>\n",
       "      <td>AK</td>\n",
       "      <td>0.0</td>\n",
       "      <td>1.0</td>\n",
       "      <td>0.0</td>\n",
       "      <td>1.0</td>\n",
       "      <td>0.0</td>\n",
       "      <td>0.0</td>\n",
       "      <td>0.0</td>\n",
       "    </tr>\n",
       "    <tr>\n",
       "      <th>1</th>\n",
       "      <td>AL</td>\n",
       "      <td>3.0</td>\n",
       "      <td>10.0</td>\n",
       "      <td>25.0</td>\n",
       "      <td>27.0</td>\n",
       "      <td>0.0</td>\n",
       "      <td>2.0</td>\n",
       "      <td>3.0</td>\n",
       "    </tr>\n",
       "    <tr>\n",
       "      <th>2</th>\n",
       "      <td>AR</td>\n",
       "      <td>1.0</td>\n",
       "      <td>10.0</td>\n",
       "      <td>44.0</td>\n",
       "      <td>23.0</td>\n",
       "      <td>0.0</td>\n",
       "      <td>1.0</td>\n",
       "      <td>5.0</td>\n",
       "    </tr>\n",
       "    <tr>\n",
       "      <th>3</th>\n",
       "      <td>AZ</td>\n",
       "      <td>4.0</td>\n",
       "      <td>12.0</td>\n",
       "      <td>24.0</td>\n",
       "      <td>28.0</td>\n",
       "      <td>0.0</td>\n",
       "      <td>2.0</td>\n",
       "      <td>7.0</td>\n",
       "    </tr>\n",
       "    <tr>\n",
       "      <th>4</th>\n",
       "      <td>CA</td>\n",
       "      <td>60.0</td>\n",
       "      <td>180.0</td>\n",
       "      <td>83.0</td>\n",
       "      <td>811.0</td>\n",
       "      <td>9.0</td>\n",
       "      <td>18.0</td>\n",
       "      <td>15.0</td>\n",
       "    </tr>\n",
       "  </tbody>\n",
       "</table>\n",
       "</div>"
      ],
      "text/plain": [
       "Fuel Type Code State    BD    CNG   E85   ELEC   HY   LNG   LPG\n",
       "0                 AK   0.0    1.0   0.0    1.0  0.0   0.0   0.0\n",
       "1                 AL   3.0   10.0  25.0   27.0  0.0   2.0   3.0\n",
       "2                 AR   1.0   10.0  44.0   23.0  0.0   1.0   5.0\n",
       "3                 AZ   4.0   12.0  24.0   28.0  0.0   2.0   7.0\n",
       "4                 CA  60.0  180.0  83.0  811.0  9.0  18.0  15.0"
      ]
     },
     "execution_count": 11,
     "metadata": {},
     "output_type": "execute_result"
    }
   ],
   "source": [
    "df_pivot = f_counts.pivot_table(index='State', columns='Fuel Type Code', values='count', fill_value=0).reset_index()\n",
    "\n",
    "# Example to show the pivot table\n",
    "df_pivot.head()"
   ]
  },
  {
   "cell_type": "code",
   "execution_count": 12,
   "metadata": {},
   "outputs": [
    {
     "data": {
      "text/html": [
       "<div>\n",
       "<style scoped>\n",
       "    .dataframe tbody tr th:only-of-type {\n",
       "        vertical-align: middle;\n",
       "    }\n",
       "\n",
       "    .dataframe tbody tr th {\n",
       "        vertical-align: top;\n",
       "    }\n",
       "\n",
       "    .dataframe thead th {\n",
       "        text-align: right;\n",
       "    }\n",
       "</style>\n",
       "<table border=\"1\" class=\"dataframe\">\n",
       "  <thead>\n",
       "    <tr style=\"text-align: right;\">\n",
       "      <th></th>\n",
       "      <th>State</th>\n",
       "      <th>BD</th>\n",
       "      <th>CNG</th>\n",
       "      <th>E85</th>\n",
       "      <th>ELEC</th>\n",
       "      <th>HY</th>\n",
       "      <th>LNG</th>\n",
       "      <th>LPG</th>\n",
       "      <th>Latitude</th>\n",
       "      <th>Longitude</th>\n",
       "    </tr>\n",
       "  </thead>\n",
       "  <tbody>\n",
       "    <tr>\n",
       "      <th>0</th>\n",
       "      <td>AK</td>\n",
       "      <td>0.0</td>\n",
       "      <td>1.0</td>\n",
       "      <td>0.0</td>\n",
       "      <td>1.0</td>\n",
       "      <td>0.0</td>\n",
       "      <td>0.0</td>\n",
       "      <td>0.0</td>\n",
       "      <td>59.769632</td>\n",
       "      <td>-142.246685</td>\n",
       "    </tr>\n",
       "    <tr>\n",
       "      <th>1</th>\n",
       "      <td>AL</td>\n",
       "      <td>3.0</td>\n",
       "      <td>10.0</td>\n",
       "      <td>25.0</td>\n",
       "      <td>27.0</td>\n",
       "      <td>0.0</td>\n",
       "      <td>2.0</td>\n",
       "      <td>3.0</td>\n",
       "      <td>33.149385</td>\n",
       "      <td>-86.575788</td>\n",
       "    </tr>\n",
       "    <tr>\n",
       "      <th>2</th>\n",
       "      <td>AR</td>\n",
       "      <td>1.0</td>\n",
       "      <td>10.0</td>\n",
       "      <td>44.0</td>\n",
       "      <td>23.0</td>\n",
       "      <td>0.0</td>\n",
       "      <td>1.0</td>\n",
       "      <td>5.0</td>\n",
       "      <td>35.286055</td>\n",
       "      <td>-92.733858</td>\n",
       "    </tr>\n",
       "    <tr>\n",
       "      <th>3</th>\n",
       "      <td>AZ</td>\n",
       "      <td>4.0</td>\n",
       "      <td>12.0</td>\n",
       "      <td>24.0</td>\n",
       "      <td>28.0</td>\n",
       "      <td>0.0</td>\n",
       "      <td>2.0</td>\n",
       "      <td>7.0</td>\n",
       "      <td>33.321934</td>\n",
       "      <td>-112.002447</td>\n",
       "    </tr>\n",
       "    <tr>\n",
       "      <th>4</th>\n",
       "      <td>CA</td>\n",
       "      <td>60.0</td>\n",
       "      <td>180.0</td>\n",
       "      <td>83.0</td>\n",
       "      <td>811.0</td>\n",
       "      <td>9.0</td>\n",
       "      <td>18.0</td>\n",
       "      <td>15.0</td>\n",
       "      <td>35.681238</td>\n",
       "      <td>-119.593732</td>\n",
       "    </tr>\n",
       "  </tbody>\n",
       "</table>\n",
       "</div>"
      ],
      "text/plain": [
       "  State    BD    CNG   E85   ELEC   HY   LNG   LPG   Latitude   Longitude\n",
       "0    AK   0.0    1.0   0.0    1.0  0.0   0.0   0.0  59.769632 -142.246685\n",
       "1    AL   3.0   10.0  25.0   27.0  0.0   2.0   3.0  33.149385  -86.575788\n",
       "2    AR   1.0   10.0  44.0   23.0  0.0   1.0   5.0  35.286055  -92.733858\n",
       "3    AZ   4.0   12.0  24.0   28.0  0.0   2.0   7.0  33.321934 -112.002447\n",
       "4    CA  60.0  180.0  83.0  811.0  9.0  18.0  15.0  35.681238 -119.593732"
      ]
     },
     "execution_count": 12,
     "metadata": {},
     "output_type": "execute_result"
    }
   ],
   "source": [
    "#df_merged = f_counts.merge(df_geo, on='State')\n",
    "df_centroids = df.groupby('State').agg({'Latitude': 'mean', 'Longitude': 'mean'}).reset_index()\n",
    "df_pivot = df_pivot.merge(df_centroids, on='State')\n",
    "\n",
    "df_pivot.head()"
   ]
  },
  {
   "cell_type": "code",
   "execution_count": 23,
   "metadata": {},
   "outputs": [
    {
     "data": {
      "application/vnd.plotly.v1+json": {
       "config": {
        "plotlyServerURL": "https://plot.ly"
       },
       "data": [
        {
         "geo": "geo",
         "hovertemplate": "<b>%{hovertext}</b><br><br>Fuel Type Code=BD<br>Total Count=%{marker.size}<br>Latitude=%{lat}<br>Longitude=%{lon}<extra></extra>",
         "hovertext": [
          "AK",
          "AL",
          "AR",
          "AZ",
          "CA",
          "CO",
          "CT",
          "DC",
          "DE",
          "FL",
          "GA",
          "HI",
          "IA",
          "ID",
          "IL",
          "IN",
          "KS",
          "KY",
          "LA",
          "MA",
          "MD",
          "ME",
          "MI",
          "MN",
          "MO",
          "MS",
          "MT",
          "NC",
          "ND",
          "NE",
          "NH",
          "NJ",
          "NM",
          "NV",
          "NY",
          "OH",
          "OK",
          "OR",
          "PA",
          "RI",
          "SC",
          "SD",
          "TN",
          "TX",
          "UT",
          "VA",
          "VT",
          "WA",
          "WI",
          "WV",
          "WY"
         ],
         "lat": [
          59.769632,
          33.149385040000006,
          35.28605478452381,
          33.32193447272727,
          35.68123785988946,
          39.65038613061905,
          41.468994677710846,
          38.90908324368421,
          39.284420823846155,
          27.87361186523077,
          33.43758773315508,
          21.134644521633987,
          42.01044740431373,
          43.71873369393939,
          41.051554351634145,
          40.308852056896555,
          38.49387393111111,
          38.001259122549016,
          31.03886318653846,
          42.21212110752688,
          39.12464393333333,
          43.79046214375,
          42.71156794502618,
          45.01279086698337,
          38.50542361006711,
          32.61881825769231,
          46.40108460714286,
          35.63475296939394,
          47.30727818333333,
          41.282287821978024,
          43.411488266666666,
          40.306625672753626,
          34.689143970731706,
          37.304669120408164,
          41.87460270554572,
          40.35206921115385,
          35.69378745223881,
          44.84587781025641,
          40.44079077888325,
          41.72494232857143,
          34.2017080715,
          44.329451762999994,
          35.93222569240506,
          31.09553660235142,
          39.90424470188679,
          37.784979639795914,
          44.033605884375,
          47.41322754924657,
          43.85164825629139,
          38.961762346428564,
          41.93267832083333
         ],
         "legendgroup": "BD",
         "lon": [
          -142.24668450000001,
          -86.57578833857143,
          -92.73385822380953,
          -112.00244725194806,
          -119.59373160773809,
          -105.23319142571428,
          -72.87198358493977,
          -77.02888349842105,
          -75.48205707923077,
          -81.65970471215384,
          -84.01403285240642,
          -157.4984723228758,
          -93.33293725529411,
          -114.88861554242425,
          -88.57941889878047,
          -86.3414257037931,
          -96.72070918222222,
          -85.33354005392157,
          -91.95932790769231,
          -71.34543366129033,
          -76.77595584444444,
          -71.1661214,
          -84.03920615931936,
          -93.74651232731591,
          -92.3537819375839,
          -89.6722033653846,
          -111.56985717857143,
          -79.76434644112554,
          -98.69940205277777,
          -97.78964983846154,
          -71.39264198095238,
          -74.4804454331884,
          -106.57989203902439,
          -116.00810157551021,
          -74.83666441749263,
          -83.13128711769231,
          -97.03794583731344,
          -122.61687731196581,
          -77.89222372741116,
          -71.43262282857144,
          -81.275386174,
          -98.237233304,
          -86.01817157784811,
          -97.26281626886305,
          -112.0091118783019,
          -77.99691915034013,
          -72.890002109375,
          -121.57048115958904,
          -89.20380258708609,
          -80.53789537499999,
          -107.40980571666667
         ],
         "marker": {
          "color": "#636efa",
          "opacity": 0.8,
          "size": [
           0,
           3,
           1,
           4,
           60,
           8,
           2,
           3,
           0,
           8,
           5,
           8,
           8,
           2,
           6,
           3,
           5,
           2,
           0,
           3,
           2,
           2,
           11,
           5,
           3,
           0,
           2,
           24,
           2,
           2,
           3,
           1,
           4,
           2,
           9,
           7,
           1,
           22,
           5,
           3,
           19,
           1,
           24,
           9,
           3,
           3,
           1,
           17,
           5,
           0,
           0
          ],
          "sizemode": "area",
          "sizeref": 0.6620408163265306,
          "symbol": "circle"
         },
         "mode": "markers",
         "name": "BD",
         "showlegend": true,
         "type": "scattergeo"
        },
        {
         "geo": "geo",
         "hovertemplate": "<b>%{hovertext}</b><br><br>Fuel Type Code=CNG<br>Total Count=%{marker.size}<br>Latitude=%{lat}<br>Longitude=%{lon}<extra></extra>",
         "hovertext": [
          "AK",
          "AL",
          "AR",
          "AZ",
          "CA",
          "CO",
          "CT",
          "DC",
          "DE",
          "FL",
          "GA",
          "HI",
          "IA",
          "ID",
          "IL",
          "IN",
          "KS",
          "KY",
          "LA",
          "MA",
          "MD",
          "ME",
          "MI",
          "MN",
          "MO",
          "MS",
          "MT",
          "NC",
          "ND",
          "NE",
          "NH",
          "NJ",
          "NM",
          "NV",
          "NY",
          "OH",
          "OK",
          "OR",
          "PA",
          "RI",
          "SC",
          "SD",
          "TN",
          "TX",
          "UT",
          "VA",
          "VT",
          "WA",
          "WI",
          "WV",
          "WY"
         ],
         "lat": [
          59.769632,
          33.149385040000006,
          35.28605478452381,
          33.32193447272727,
          35.68123785988946,
          39.65038613061905,
          41.468994677710846,
          38.90908324368421,
          39.284420823846155,
          27.87361186523077,
          33.43758773315508,
          21.134644521633987,
          42.01044740431373,
          43.71873369393939,
          41.051554351634145,
          40.308852056896555,
          38.49387393111111,
          38.001259122549016,
          31.03886318653846,
          42.21212110752688,
          39.12464393333333,
          43.79046214375,
          42.71156794502618,
          45.01279086698337,
          38.50542361006711,
          32.61881825769231,
          46.40108460714286,
          35.63475296939394,
          47.30727818333333,
          41.282287821978024,
          43.411488266666666,
          40.306625672753626,
          34.689143970731706,
          37.304669120408164,
          41.87460270554572,
          40.35206921115385,
          35.69378745223881,
          44.84587781025641,
          40.44079077888325,
          41.72494232857143,
          34.2017080715,
          44.329451762999994,
          35.93222569240506,
          31.09553660235142,
          39.90424470188679,
          37.784979639795914,
          44.033605884375,
          47.41322754924657,
          43.85164825629139,
          38.961762346428564,
          41.93267832083333
         ],
         "legendgroup": "CNG",
         "lon": [
          -142.24668450000001,
          -86.57578833857143,
          -92.73385822380953,
          -112.00244725194806,
          -119.59373160773809,
          -105.23319142571428,
          -72.87198358493977,
          -77.02888349842105,
          -75.48205707923077,
          -81.65970471215384,
          -84.01403285240642,
          -157.4984723228758,
          -93.33293725529411,
          -114.88861554242425,
          -88.57941889878047,
          -86.3414257037931,
          -96.72070918222222,
          -85.33354005392157,
          -91.95932790769231,
          -71.34543366129033,
          -76.77595584444444,
          -71.1661214,
          -84.03920615931936,
          -93.74651232731591,
          -92.3537819375839,
          -89.6722033653846,
          -111.56985717857143,
          -79.76434644112554,
          -98.69940205277777,
          -97.78964983846154,
          -71.39264198095238,
          -74.4804454331884,
          -106.57989203902439,
          -116.00810157551021,
          -74.83666441749263,
          -83.13128711769231,
          -97.03794583731344,
          -122.61687731196581,
          -77.89222372741116,
          -71.43262282857144,
          -81.275386174,
          -98.237233304,
          -86.01817157784811,
          -97.26281626886305,
          -112.0091118783019,
          -77.99691915034013,
          -72.890002109375,
          -121.57048115958904,
          -89.20380258708609,
          -80.53789537499999,
          -107.40980571666667
         ],
         "marker": {
          "color": "#EF553B",
          "opacity": 0.8,
          "size": [
           1,
           10,
           10,
           12,
           180,
           17,
           7,
           0,
           1,
           21,
           19,
           0,
           5,
           2,
           24,
           21,
           7,
           6,
           18,
           12,
           3,
           1,
           15,
           12,
           8,
           5,
           0,
           23,
           0,
           8,
           2,
           8,
           9,
           6,
           86,
           32,
           89,
           4,
           35,
           3,
           5,
           0,
           11,
           74,
           45,
           8,
           2,
           6,
           54,
           3,
           7
          ],
          "sizemode": "area",
          "sizeref": 0.6620408163265306,
          "symbol": "circle"
         },
         "mode": "markers",
         "name": "CNG",
         "showlegend": true,
         "type": "scattergeo"
        },
        {
         "geo": "geo",
         "hovertemplate": "<b>%{hovertext}</b><br><br>Fuel Type Code=E85<br>Total Count=%{marker.size}<br>Latitude=%{lat}<br>Longitude=%{lon}<extra></extra>",
         "hovertext": [
          "AK",
          "AL",
          "AR",
          "AZ",
          "CA",
          "CO",
          "CT",
          "DC",
          "DE",
          "FL",
          "GA",
          "HI",
          "IA",
          "ID",
          "IL",
          "IN",
          "KS",
          "KY",
          "LA",
          "MA",
          "MD",
          "ME",
          "MI",
          "MN",
          "MO",
          "MS",
          "MT",
          "NC",
          "ND",
          "NE",
          "NH",
          "NJ",
          "NM",
          "NV",
          "NY",
          "OH",
          "OK",
          "OR",
          "PA",
          "RI",
          "SC",
          "SD",
          "TN",
          "TX",
          "UT",
          "VA",
          "VT",
          "WA",
          "WI",
          "WV",
          "WY"
         ],
         "lat": [
          59.769632,
          33.149385040000006,
          35.28605478452381,
          33.32193447272727,
          35.68123785988946,
          39.65038613061905,
          41.468994677710846,
          38.90908324368421,
          39.284420823846155,
          27.87361186523077,
          33.43758773315508,
          21.134644521633987,
          42.01044740431373,
          43.71873369393939,
          41.051554351634145,
          40.308852056896555,
          38.49387393111111,
          38.001259122549016,
          31.03886318653846,
          42.21212110752688,
          39.12464393333333,
          43.79046214375,
          42.71156794502618,
          45.01279086698337,
          38.50542361006711,
          32.61881825769231,
          46.40108460714286,
          35.63475296939394,
          47.30727818333333,
          41.282287821978024,
          43.411488266666666,
          40.306625672753626,
          34.689143970731706,
          37.304669120408164,
          41.87460270554572,
          40.35206921115385,
          35.69378745223881,
          44.84587781025641,
          40.44079077888325,
          41.72494232857143,
          34.2017080715,
          44.329451762999994,
          35.93222569240506,
          31.09553660235142,
          39.90424470188679,
          37.784979639795914,
          44.033605884375,
          47.41322754924657,
          43.85164825629139,
          38.961762346428564,
          41.93267832083333
         ],
         "legendgroup": "E85",
         "lon": [
          -142.24668450000001,
          -86.57578833857143,
          -92.73385822380953,
          -112.00244725194806,
          -119.59373160773809,
          -105.23319142571428,
          -72.87198358493977,
          -77.02888349842105,
          -75.48205707923077,
          -81.65970471215384,
          -84.01403285240642,
          -157.4984723228758,
          -93.33293725529411,
          -114.88861554242425,
          -88.57941889878047,
          -86.3414257037931,
          -96.72070918222222,
          -85.33354005392157,
          -91.95932790769231,
          -71.34543366129033,
          -76.77595584444444,
          -71.1661214,
          -84.03920615931936,
          -93.74651232731591,
          -92.3537819375839,
          -89.6722033653846,
          -111.56985717857143,
          -79.76434644112554,
          -98.69940205277777,
          -97.78964983846154,
          -71.39264198095238,
          -74.4804454331884,
          -106.57989203902439,
          -116.00810157551021,
          -74.83666441749263,
          -83.13128711769231,
          -97.03794583731344,
          -122.61687731196581,
          -77.89222372741116,
          -71.43262282857144,
          -81.275386174,
          -98.237233304,
          -86.01817157784811,
          -97.26281626886305,
          -112.0091118783019,
          -77.99691915034013,
          -72.890002109375,
          -121.57048115958904,
          -89.20380258708609,
          -80.53789537499999,
          -107.40980571666667
         ],
         "marker": {
          "color": "#00cc96",
          "opacity": 0.8,
          "size": [
           0,
           25,
           44,
           24,
           83,
           79,
           2,
           1,
           0,
           55,
           37,
           0,
           201,
           5,
           218,
           188,
           23,
           60,
           8,
           9,
           18,
           0,
           232,
           268,
           102,
           3,
           1,
           12,
           65,
           75,
           0,
           3,
           9,
           21,
           80,
           126,
           25,
           5,
           36,
           0,
           65,
           85,
           63,
           126,
           3,
           11,
           0,
           10,
           150,
           7,
           6
          ],
          "sizemode": "area",
          "sizeref": 0.6620408163265306,
          "symbol": "circle"
         },
         "mode": "markers",
         "name": "E85",
         "showlegend": true,
         "type": "scattergeo"
        },
        {
         "geo": "geo",
         "hovertemplate": "<b>%{hovertext}</b><br><br>Fuel Type Code=ELEC<br>Total Count=%{marker.size}<br>Latitude=%{lat}<br>Longitude=%{lon}<extra></extra>",
         "hovertext": [
          "AK",
          "AL",
          "AR",
          "AZ",
          "CA",
          "CO",
          "CT",
          "DC",
          "DE",
          "FL",
          "GA",
          "HI",
          "IA",
          "ID",
          "IL",
          "IN",
          "KS",
          "KY",
          "LA",
          "MA",
          "MD",
          "ME",
          "MI",
          "MN",
          "MO",
          "MS",
          "MT",
          "NC",
          "ND",
          "NE",
          "NH",
          "NJ",
          "NM",
          "NV",
          "NY",
          "OH",
          "OK",
          "OR",
          "PA",
          "RI",
          "SC",
          "SD",
          "TN",
          "TX",
          "UT",
          "VA",
          "VT",
          "WA",
          "WI",
          "WV",
          "WY"
         ],
         "lat": [
          59.769632,
          33.149385040000006,
          35.28605478452381,
          33.32193447272727,
          35.68123785988946,
          39.65038613061905,
          41.468994677710846,
          38.90908324368421,
          39.284420823846155,
          27.87361186523077,
          33.43758773315508,
          21.134644521633987,
          42.01044740431373,
          43.71873369393939,
          41.051554351634145,
          40.308852056896555,
          38.49387393111111,
          38.001259122549016,
          31.03886318653846,
          42.21212110752688,
          39.12464393333333,
          43.79046214375,
          42.71156794502618,
          45.01279086698337,
          38.50542361006711,
          32.61881825769231,
          46.40108460714286,
          35.63475296939394,
          47.30727818333333,
          41.282287821978024,
          43.411488266666666,
          40.306625672753626,
          34.689143970731706,
          37.304669120408164,
          41.87460270554572,
          40.35206921115385,
          35.69378745223881,
          44.84587781025641,
          40.44079077888325,
          41.72494232857143,
          34.2017080715,
          44.329451762999994,
          35.93222569240506,
          31.09553660235142,
          39.90424470188679,
          37.784979639795914,
          44.033605884375,
          47.41322754924657,
          43.85164825629139,
          38.961762346428564,
          41.93267832083333
         ],
         "legendgroup": "ELEC",
         "lon": [
          -142.24668450000001,
          -86.57578833857143,
          -92.73385822380953,
          -112.00244725194806,
          -119.59373160773809,
          -105.23319142571428,
          -72.87198358493977,
          -77.02888349842105,
          -75.48205707923077,
          -81.65970471215384,
          -84.01403285240642,
          -157.4984723228758,
          -93.33293725529411,
          -114.88861554242425,
          -88.57941889878047,
          -86.3414257037931,
          -96.72070918222222,
          -85.33354005392157,
          -91.95932790769231,
          -71.34543366129033,
          -76.77595584444444,
          -71.1661214,
          -84.03920615931936,
          -93.74651232731591,
          -92.3537819375839,
          -89.6722033653846,
          -111.56985717857143,
          -79.76434644112554,
          -98.69940205277777,
          -97.78964983846154,
          -71.39264198095238,
          -74.4804454331884,
          -106.57989203902439,
          -116.00810157551021,
          -74.83666441749263,
          -83.13128711769231,
          -97.03794583731344,
          -122.61687731196581,
          -77.89222372741116,
          -71.43262282857144,
          -81.275386174,
          -98.237233304,
          -86.01817157784811,
          -97.26281626886305,
          -112.0091118783019,
          -77.99691915034013,
          -72.890002109375,
          -121.57048115958904,
          -89.20380258708609,
          -80.53789537499999,
          -107.40980571666667
         ],
         "marker": {
          "color": "#ab63fa",
          "opacity": 0.8,
          "size": [
           1,
           27,
           23,
           28,
           811,
           101,
           153,
           15,
           10,
           167,
           114,
           145,
           36,
           14,
           151,
           68,
           53,
           28,
           24,
           66,
           56,
           29,
           122,
           133,
           28,
           14,
           8,
           169,
           3,
           3,
           37,
           56,
           15,
           12,
           159,
           81,
           17,
           81,
           115,
           8,
           104,
           8,
           55,
           155,
           36,
           121,
           29,
           109,
           88,
           17,
           4
          ],
          "sizemode": "area",
          "sizeref": 0.6620408163265306,
          "symbol": "circle"
         },
         "mode": "markers",
         "name": "ELEC",
         "showlegend": true,
         "type": "scattergeo"
        },
        {
         "geo": "geo",
         "hovertemplate": "<b>%{hovertext}</b><br><br>Fuel Type Code=HY<br>Total Count=%{marker.size}<br>Latitude=%{lat}<br>Longitude=%{lon}<extra></extra>",
         "hovertext": [
          "AK",
          "AL",
          "AR",
          "AZ",
          "CA",
          "CO",
          "CT",
          "DC",
          "DE",
          "FL",
          "GA",
          "HI",
          "IA",
          "ID",
          "IL",
          "IN",
          "KS",
          "KY",
          "LA",
          "MA",
          "MD",
          "ME",
          "MI",
          "MN",
          "MO",
          "MS",
          "MT",
          "NC",
          "ND",
          "NE",
          "NH",
          "NJ",
          "NM",
          "NV",
          "NY",
          "OH",
          "OK",
          "OR",
          "PA",
          "RI",
          "SC",
          "SD",
          "TN",
          "TX",
          "UT",
          "VA",
          "VT",
          "WA",
          "WI",
          "WV",
          "WY"
         ],
         "lat": [
          59.769632,
          33.149385040000006,
          35.28605478452381,
          33.32193447272727,
          35.68123785988946,
          39.65038613061905,
          41.468994677710846,
          38.90908324368421,
          39.284420823846155,
          27.87361186523077,
          33.43758773315508,
          21.134644521633987,
          42.01044740431373,
          43.71873369393939,
          41.051554351634145,
          40.308852056896555,
          38.49387393111111,
          38.001259122549016,
          31.03886318653846,
          42.21212110752688,
          39.12464393333333,
          43.79046214375,
          42.71156794502618,
          45.01279086698337,
          38.50542361006711,
          32.61881825769231,
          46.40108460714286,
          35.63475296939394,
          47.30727818333333,
          41.282287821978024,
          43.411488266666666,
          40.306625672753626,
          34.689143970731706,
          37.304669120408164,
          41.87460270554572,
          40.35206921115385,
          35.69378745223881,
          44.84587781025641,
          40.44079077888325,
          41.72494232857143,
          34.2017080715,
          44.329451762999994,
          35.93222569240506,
          31.09553660235142,
          39.90424470188679,
          37.784979639795914,
          44.033605884375,
          47.41322754924657,
          43.85164825629139,
          38.961762346428564,
          41.93267832083333
         ],
         "legendgroup": "HY",
         "lon": [
          -142.24668450000001,
          -86.57578833857143,
          -92.73385822380953,
          -112.00244725194806,
          -119.59373160773809,
          -105.23319142571428,
          -72.87198358493977,
          -77.02888349842105,
          -75.48205707923077,
          -81.65970471215384,
          -84.01403285240642,
          -157.4984723228758,
          -93.33293725529411,
          -114.88861554242425,
          -88.57941889878047,
          -86.3414257037931,
          -96.72070918222222,
          -85.33354005392157,
          -91.95932790769231,
          -71.34543366129033,
          -76.77595584444444,
          -71.1661214,
          -84.03920615931936,
          -93.74651232731591,
          -92.3537819375839,
          -89.6722033653846,
          -111.56985717857143,
          -79.76434644112554,
          -98.69940205277777,
          -97.78964983846154,
          -71.39264198095238,
          -74.4804454331884,
          -106.57989203902439,
          -116.00810157551021,
          -74.83666441749263,
          -83.13128711769231,
          -97.03794583731344,
          -122.61687731196581,
          -77.89222372741116,
          -71.43262282857144,
          -81.275386174,
          -98.237233304,
          -86.01817157784811,
          -97.26281626886305,
          -112.0091118783019,
          -77.99691915034013,
          -72.890002109375,
          -121.57048115958904,
          -89.20380258708609,
          -80.53789537499999,
          -107.40980571666667
         ],
         "marker": {
          "color": "#FFA15A",
          "opacity": 0.8,
          "size": [
           0,
           0,
           0,
           0,
           9,
           0,
           1,
           0,
           0,
           0,
           0,
           0,
           0,
           0,
           0,
           0,
           0,
           0,
           0,
           0,
           0,
           0,
           0,
           0,
           0,
           0,
           0,
           0,
           0,
           0,
           0,
           0,
           0,
           0,
           0,
           0,
           0,
           0,
           0,
           0,
           0,
           0,
           0,
           0,
           0,
           0,
           0,
           0,
           0,
           0,
           0
          ],
          "sizemode": "area",
          "sizeref": 0.6620408163265306,
          "symbol": "circle"
         },
         "mode": "markers",
         "name": "HY",
         "showlegend": true,
         "type": "scattergeo"
        },
        {
         "geo": "geo",
         "hovertemplate": "<b>%{hovertext}</b><br><br>Fuel Type Code=LNG<br>Total Count=%{marker.size}<br>Latitude=%{lat}<br>Longitude=%{lon}<extra></extra>",
         "hovertext": [
          "AK",
          "AL",
          "AR",
          "AZ",
          "CA",
          "CO",
          "CT",
          "DC",
          "DE",
          "FL",
          "GA",
          "HI",
          "IA",
          "ID",
          "IL",
          "IN",
          "KS",
          "KY",
          "LA",
          "MA",
          "MD",
          "ME",
          "MI",
          "MN",
          "MO",
          "MS",
          "MT",
          "NC",
          "ND",
          "NE",
          "NH",
          "NJ",
          "NM",
          "NV",
          "NY",
          "OH",
          "OK",
          "OR",
          "PA",
          "RI",
          "SC",
          "SD",
          "TN",
          "TX",
          "UT",
          "VA",
          "VT",
          "WA",
          "WI",
          "WV",
          "WY"
         ],
         "lat": [
          59.769632,
          33.149385040000006,
          35.28605478452381,
          33.32193447272727,
          35.68123785988946,
          39.65038613061905,
          41.468994677710846,
          38.90908324368421,
          39.284420823846155,
          27.87361186523077,
          33.43758773315508,
          21.134644521633987,
          42.01044740431373,
          43.71873369393939,
          41.051554351634145,
          40.308852056896555,
          38.49387393111111,
          38.001259122549016,
          31.03886318653846,
          42.21212110752688,
          39.12464393333333,
          43.79046214375,
          42.71156794502618,
          45.01279086698337,
          38.50542361006711,
          32.61881825769231,
          46.40108460714286,
          35.63475296939394,
          47.30727818333333,
          41.282287821978024,
          43.411488266666666,
          40.306625672753626,
          34.689143970731706,
          37.304669120408164,
          41.87460270554572,
          40.35206921115385,
          35.69378745223881,
          44.84587781025641,
          40.44079077888325,
          41.72494232857143,
          34.2017080715,
          44.329451762999994,
          35.93222569240506,
          31.09553660235142,
          39.90424470188679,
          37.784979639795914,
          44.033605884375,
          47.41322754924657,
          43.85164825629139,
          38.961762346428564,
          41.93267832083333
         ],
         "legendgroup": "LNG",
         "lon": [
          -142.24668450000001,
          -86.57578833857143,
          -92.73385822380953,
          -112.00244725194806,
          -119.59373160773809,
          -105.23319142571428,
          -72.87198358493977,
          -77.02888349842105,
          -75.48205707923077,
          -81.65970471215384,
          -84.01403285240642,
          -157.4984723228758,
          -93.33293725529411,
          -114.88861554242425,
          -88.57941889878047,
          -86.3414257037931,
          -96.72070918222222,
          -85.33354005392157,
          -91.95932790769231,
          -71.34543366129033,
          -76.77595584444444,
          -71.1661214,
          -84.03920615931936,
          -93.74651232731591,
          -92.3537819375839,
          -89.6722033653846,
          -111.56985717857143,
          -79.76434644112554,
          -98.69940205277777,
          -97.78964983846154,
          -71.39264198095238,
          -74.4804454331884,
          -106.57989203902439,
          -116.00810157551021,
          -74.83666441749263,
          -83.13128711769231,
          -97.03794583731344,
          -122.61687731196581,
          -77.89222372741116,
          -71.43262282857144,
          -81.275386174,
          -98.237233304,
          -86.01817157784811,
          -97.26281626886305,
          -112.0091118783019,
          -77.99691915034013,
          -72.890002109375,
          -121.57048115958904,
          -89.20380258708609,
          -80.53789537499999,
          -107.40980571666667
         ],
         "marker": {
          "color": "#19d3f3",
          "opacity": 0.8,
          "size": [
           0,
           2,
           1,
           2,
           18,
           0,
           1,
           0,
           0,
           1,
           4,
           0,
           0,
           7,
           1,
           2,
           0,
           1,
           2,
           1,
           0,
           0,
           0,
           0,
           0,
           0,
           0,
           1,
           0,
           0,
           0,
           0,
           1,
           3,
           0,
           3,
           1,
           1,
           1,
           0,
           1,
           0,
           2,
           11,
           6,
           0,
           0,
           1,
           1,
           0,
           0
          ],
          "sizemode": "area",
          "sizeref": 0.6620408163265306,
          "symbol": "circle"
         },
         "mode": "markers",
         "name": "LNG",
         "showlegend": true,
         "type": "scattergeo"
        },
        {
         "geo": "geo",
         "hovertemplate": "<b>%{hovertext}</b><br><br>Fuel Type Code=LPG<br>Total Count=%{marker.size}<br>Latitude=%{lat}<br>Longitude=%{lon}<extra></extra>",
         "hovertext": [
          "AK",
          "AL",
          "AR",
          "AZ",
          "CA",
          "CO",
          "CT",
          "DC",
          "DE",
          "FL",
          "GA",
          "HI",
          "IA",
          "ID",
          "IL",
          "IN",
          "KS",
          "KY",
          "LA",
          "MA",
          "MD",
          "ME",
          "MI",
          "MN",
          "MO",
          "MS",
          "MT",
          "NC",
          "ND",
          "NE",
          "NH",
          "NJ",
          "NM",
          "NV",
          "NY",
          "OH",
          "OK",
          "OR",
          "PA",
          "RI",
          "SC",
          "SD",
          "TN",
          "TX",
          "UT",
          "VA",
          "VT",
          "WA",
          "WI",
          "WV",
          "WY"
         ],
         "lat": [
          59.769632,
          33.149385040000006,
          35.28605478452381,
          33.32193447272727,
          35.68123785988946,
          39.65038613061905,
          41.468994677710846,
          38.90908324368421,
          39.284420823846155,
          27.87361186523077,
          33.43758773315508,
          21.134644521633987,
          42.01044740431373,
          43.71873369393939,
          41.051554351634145,
          40.308852056896555,
          38.49387393111111,
          38.001259122549016,
          31.03886318653846,
          42.21212110752688,
          39.12464393333333,
          43.79046214375,
          42.71156794502618,
          45.01279086698337,
          38.50542361006711,
          32.61881825769231,
          46.40108460714286,
          35.63475296939394,
          47.30727818333333,
          41.282287821978024,
          43.411488266666666,
          40.306625672753626,
          34.689143970731706,
          37.304669120408164,
          41.87460270554572,
          40.35206921115385,
          35.69378745223881,
          44.84587781025641,
          40.44079077888325,
          41.72494232857143,
          34.2017080715,
          44.329451762999994,
          35.93222569240506,
          31.09553660235142,
          39.90424470188679,
          37.784979639795914,
          44.033605884375,
          47.41322754924657,
          43.85164825629139,
          38.961762346428564,
          41.93267832083333
         ],
         "legendgroup": "LPG",
         "lon": [
          -142.24668450000001,
          -86.57578833857143,
          -92.73385822380953,
          -112.00244725194806,
          -119.59373160773809,
          -105.23319142571428,
          -72.87198358493977,
          -77.02888349842105,
          -75.48205707923077,
          -81.65970471215384,
          -84.01403285240642,
          -157.4984723228758,
          -93.33293725529411,
          -114.88861554242425,
          -88.57941889878047,
          -86.3414257037931,
          -96.72070918222222,
          -85.33354005392157,
          -91.95932790769231,
          -71.34543366129033,
          -76.77595584444444,
          -71.1661214,
          -84.03920615931936,
          -93.74651232731591,
          -92.3537819375839,
          -89.6722033653846,
          -111.56985717857143,
          -79.76434644112554,
          -98.69940205277777,
          -97.78964983846154,
          -71.39264198095238,
          -74.4804454331884,
          -106.57989203902439,
          -116.00810157551021,
          -74.83666441749263,
          -83.13128711769231,
          -97.03794583731344,
          -122.61687731196581,
          -77.89222372741116,
          -71.43262282857144,
          -81.275386174,
          -98.237233304,
          -86.01817157784811,
          -97.26281626886305,
          -112.0091118783019,
          -77.99691915034013,
          -72.890002109375,
          -121.57048115958904,
          -89.20380258708609,
          -80.53789537499999,
          -107.40980571666667
         ],
         "marker": {
          "color": "#FF6692",
          "opacity": 0.8,
          "size": [
           0,
           3,
           5,
           7,
           15,
           5,
           0,
           0,
           2,
           8,
           8,
           0,
           5,
           3,
           10,
           8,
           2,
           5,
           0,
           2,
           2,
           0,
           2,
           3,
           8,
           4,
           3,
           2,
           2,
           3,
           0,
           1,
           3,
           5,
           5,
           11,
           1,
           4,
           5,
           0,
           6,
           6,
           3,
           12,
           13,
           4,
           0,
           3,
           4,
           1,
           7
          ],
          "sizemode": "area",
          "sizeref": 0.6620408163265306,
          "symbol": "circle"
         },
         "mode": "markers",
         "name": "LPG",
         "showlegend": true,
         "type": "scattergeo"
        }
       ],
       "layout": {
        "geo": {
         "center": {},
         "countrycolor": "rgb(245, 245, 245)",
         "domain": {
          "x": [
           0,
           1
          ],
          "y": [
           0,
           1
          ]
         },
         "landcolor": "rgb(240, 240, 240)",
         "oceancolor": "rgb(255, 255, 255)",
         "scope": "usa",
         "showcountries": true,
         "showland": true,
         "showocean": true
        },
        "legend": {
         "itemsizing": "constant",
         "title": {
          "text": "Fuel Type Code"
         },
         "tracegroupgap": 0
        },
        "template": {
         "data": {
          "bar": [
           {
            "error_x": {
             "color": "#2a3f5f"
            },
            "error_y": {
             "color": "#2a3f5f"
            },
            "marker": {
             "line": {
              "color": "#E5ECF6",
              "width": 0.5
             },
             "pattern": {
              "fillmode": "overlay",
              "size": 10,
              "solidity": 0.2
             }
            },
            "type": "bar"
           }
          ],
          "barpolar": [
           {
            "marker": {
             "line": {
              "color": "#E5ECF6",
              "width": 0.5
             },
             "pattern": {
              "fillmode": "overlay",
              "size": 10,
              "solidity": 0.2
             }
            },
            "type": "barpolar"
           }
          ],
          "carpet": [
           {
            "aaxis": {
             "endlinecolor": "#2a3f5f",
             "gridcolor": "white",
             "linecolor": "white",
             "minorgridcolor": "white",
             "startlinecolor": "#2a3f5f"
            },
            "baxis": {
             "endlinecolor": "#2a3f5f",
             "gridcolor": "white",
             "linecolor": "white",
             "minorgridcolor": "white",
             "startlinecolor": "#2a3f5f"
            },
            "type": "carpet"
           }
          ],
          "choropleth": [
           {
            "colorbar": {
             "outlinewidth": 0,
             "ticks": ""
            },
            "type": "choropleth"
           }
          ],
          "contour": [
           {
            "colorbar": {
             "outlinewidth": 0,
             "ticks": ""
            },
            "colorscale": [
             [
              0,
              "#0d0887"
             ],
             [
              0.1111111111111111,
              "#46039f"
             ],
             [
              0.2222222222222222,
              "#7201a8"
             ],
             [
              0.3333333333333333,
              "#9c179e"
             ],
             [
              0.4444444444444444,
              "#bd3786"
             ],
             [
              0.5555555555555556,
              "#d8576b"
             ],
             [
              0.6666666666666666,
              "#ed7953"
             ],
             [
              0.7777777777777778,
              "#fb9f3a"
             ],
             [
              0.8888888888888888,
              "#fdca26"
             ],
             [
              1,
              "#f0f921"
             ]
            ],
            "type": "contour"
           }
          ],
          "contourcarpet": [
           {
            "colorbar": {
             "outlinewidth": 0,
             "ticks": ""
            },
            "type": "contourcarpet"
           }
          ],
          "heatmap": [
           {
            "colorbar": {
             "outlinewidth": 0,
             "ticks": ""
            },
            "colorscale": [
             [
              0,
              "#0d0887"
             ],
             [
              0.1111111111111111,
              "#46039f"
             ],
             [
              0.2222222222222222,
              "#7201a8"
             ],
             [
              0.3333333333333333,
              "#9c179e"
             ],
             [
              0.4444444444444444,
              "#bd3786"
             ],
             [
              0.5555555555555556,
              "#d8576b"
             ],
             [
              0.6666666666666666,
              "#ed7953"
             ],
             [
              0.7777777777777778,
              "#fb9f3a"
             ],
             [
              0.8888888888888888,
              "#fdca26"
             ],
             [
              1,
              "#f0f921"
             ]
            ],
            "type": "heatmap"
           }
          ],
          "heatmapgl": [
           {
            "colorbar": {
             "outlinewidth": 0,
             "ticks": ""
            },
            "colorscale": [
             [
              0,
              "#0d0887"
             ],
             [
              0.1111111111111111,
              "#46039f"
             ],
             [
              0.2222222222222222,
              "#7201a8"
             ],
             [
              0.3333333333333333,
              "#9c179e"
             ],
             [
              0.4444444444444444,
              "#bd3786"
             ],
             [
              0.5555555555555556,
              "#d8576b"
             ],
             [
              0.6666666666666666,
              "#ed7953"
             ],
             [
              0.7777777777777778,
              "#fb9f3a"
             ],
             [
              0.8888888888888888,
              "#fdca26"
             ],
             [
              1,
              "#f0f921"
             ]
            ],
            "type": "heatmapgl"
           }
          ],
          "histogram": [
           {
            "marker": {
             "pattern": {
              "fillmode": "overlay",
              "size": 10,
              "solidity": 0.2
             }
            },
            "type": "histogram"
           }
          ],
          "histogram2d": [
           {
            "colorbar": {
             "outlinewidth": 0,
             "ticks": ""
            },
            "colorscale": [
             [
              0,
              "#0d0887"
             ],
             [
              0.1111111111111111,
              "#46039f"
             ],
             [
              0.2222222222222222,
              "#7201a8"
             ],
             [
              0.3333333333333333,
              "#9c179e"
             ],
             [
              0.4444444444444444,
              "#bd3786"
             ],
             [
              0.5555555555555556,
              "#d8576b"
             ],
             [
              0.6666666666666666,
              "#ed7953"
             ],
             [
              0.7777777777777778,
              "#fb9f3a"
             ],
             [
              0.8888888888888888,
              "#fdca26"
             ],
             [
              1,
              "#f0f921"
             ]
            ],
            "type": "histogram2d"
           }
          ],
          "histogram2dcontour": [
           {
            "colorbar": {
             "outlinewidth": 0,
             "ticks": ""
            },
            "colorscale": [
             [
              0,
              "#0d0887"
             ],
             [
              0.1111111111111111,
              "#46039f"
             ],
             [
              0.2222222222222222,
              "#7201a8"
             ],
             [
              0.3333333333333333,
              "#9c179e"
             ],
             [
              0.4444444444444444,
              "#bd3786"
             ],
             [
              0.5555555555555556,
              "#d8576b"
             ],
             [
              0.6666666666666666,
              "#ed7953"
             ],
             [
              0.7777777777777778,
              "#fb9f3a"
             ],
             [
              0.8888888888888888,
              "#fdca26"
             ],
             [
              1,
              "#f0f921"
             ]
            ],
            "type": "histogram2dcontour"
           }
          ],
          "mesh3d": [
           {
            "colorbar": {
             "outlinewidth": 0,
             "ticks": ""
            },
            "type": "mesh3d"
           }
          ],
          "parcoords": [
           {
            "line": {
             "colorbar": {
              "outlinewidth": 0,
              "ticks": ""
             }
            },
            "type": "parcoords"
           }
          ],
          "pie": [
           {
            "automargin": true,
            "type": "pie"
           }
          ],
          "scatter": [
           {
            "fillpattern": {
             "fillmode": "overlay",
             "size": 10,
             "solidity": 0.2
            },
            "type": "scatter"
           }
          ],
          "scatter3d": [
           {
            "line": {
             "colorbar": {
              "outlinewidth": 0,
              "ticks": ""
             }
            },
            "marker": {
             "colorbar": {
              "outlinewidth": 0,
              "ticks": ""
             }
            },
            "type": "scatter3d"
           }
          ],
          "scattercarpet": [
           {
            "marker": {
             "colorbar": {
              "outlinewidth": 0,
              "ticks": ""
             }
            },
            "type": "scattercarpet"
           }
          ],
          "scattergeo": [
           {
            "marker": {
             "colorbar": {
              "outlinewidth": 0,
              "ticks": ""
             }
            },
            "type": "scattergeo"
           }
          ],
          "scattergl": [
           {
            "marker": {
             "colorbar": {
              "outlinewidth": 0,
              "ticks": ""
             }
            },
            "type": "scattergl"
           }
          ],
          "scattermapbox": [
           {
            "marker": {
             "colorbar": {
              "outlinewidth": 0,
              "ticks": ""
             }
            },
            "type": "scattermapbox"
           }
          ],
          "scatterpolar": [
           {
            "marker": {
             "colorbar": {
              "outlinewidth": 0,
              "ticks": ""
             }
            },
            "type": "scatterpolar"
           }
          ],
          "scatterpolargl": [
           {
            "marker": {
             "colorbar": {
              "outlinewidth": 0,
              "ticks": ""
             }
            },
            "type": "scatterpolargl"
           }
          ],
          "scatterternary": [
           {
            "marker": {
             "colorbar": {
              "outlinewidth": 0,
              "ticks": ""
             }
            },
            "type": "scatterternary"
           }
          ],
          "surface": [
           {
            "colorbar": {
             "outlinewidth": 0,
             "ticks": ""
            },
            "colorscale": [
             [
              0,
              "#0d0887"
             ],
             [
              0.1111111111111111,
              "#46039f"
             ],
             [
              0.2222222222222222,
              "#7201a8"
             ],
             [
              0.3333333333333333,
              "#9c179e"
             ],
             [
              0.4444444444444444,
              "#bd3786"
             ],
             [
              0.5555555555555556,
              "#d8576b"
             ],
             [
              0.6666666666666666,
              "#ed7953"
             ],
             [
              0.7777777777777778,
              "#fb9f3a"
             ],
             [
              0.8888888888888888,
              "#fdca26"
             ],
             [
              1,
              "#f0f921"
             ]
            ],
            "type": "surface"
           }
          ],
          "table": [
           {
            "cells": {
             "fill": {
              "color": "#EBF0F8"
             },
             "line": {
              "color": "white"
             }
            },
            "header": {
             "fill": {
              "color": "#C8D4E3"
             },
             "line": {
              "color": "white"
             }
            },
            "type": "table"
           }
          ]
         },
         "layout": {
          "annotationdefaults": {
           "arrowcolor": "#2a3f5f",
           "arrowhead": 0,
           "arrowwidth": 1
          },
          "autotypenumbers": "strict",
          "coloraxis": {
           "colorbar": {
            "outlinewidth": 0,
            "ticks": ""
           }
          },
          "colorscale": {
           "diverging": [
            [
             0,
             "#8e0152"
            ],
            [
             0.1,
             "#c51b7d"
            ],
            [
             0.2,
             "#de77ae"
            ],
            [
             0.3,
             "#f1b6da"
            ],
            [
             0.4,
             "#fde0ef"
            ],
            [
             0.5,
             "#f7f7f7"
            ],
            [
             0.6,
             "#e6f5d0"
            ],
            [
             0.7,
             "#b8e186"
            ],
            [
             0.8,
             "#7fbc41"
            ],
            [
             0.9,
             "#4d9221"
            ],
            [
             1,
             "#276419"
            ]
           ],
           "sequential": [
            [
             0,
             "#0d0887"
            ],
            [
             0.1111111111111111,
             "#46039f"
            ],
            [
             0.2222222222222222,
             "#7201a8"
            ],
            [
             0.3333333333333333,
             "#9c179e"
            ],
            [
             0.4444444444444444,
             "#bd3786"
            ],
            [
             0.5555555555555556,
             "#d8576b"
            ],
            [
             0.6666666666666666,
             "#ed7953"
            ],
            [
             0.7777777777777778,
             "#fb9f3a"
            ],
            [
             0.8888888888888888,
             "#fdca26"
            ],
            [
             1,
             "#f0f921"
            ]
           ],
           "sequentialminus": [
            [
             0,
             "#0d0887"
            ],
            [
             0.1111111111111111,
             "#46039f"
            ],
            [
             0.2222222222222222,
             "#7201a8"
            ],
            [
             0.3333333333333333,
             "#9c179e"
            ],
            [
             0.4444444444444444,
             "#bd3786"
            ],
            [
             0.5555555555555556,
             "#d8576b"
            ],
            [
             0.6666666666666666,
             "#ed7953"
            ],
            [
             0.7777777777777778,
             "#fb9f3a"
            ],
            [
             0.8888888888888888,
             "#fdca26"
            ],
            [
             1,
             "#f0f921"
            ]
           ]
          },
          "colorway": [
           "#636efa",
           "#EF553B",
           "#00cc96",
           "#ab63fa",
           "#FFA15A",
           "#19d3f3",
           "#FF6692",
           "#B6E880",
           "#FF97FF",
           "#FECB52"
          ],
          "font": {
           "color": "#2a3f5f"
          },
          "geo": {
           "bgcolor": "white",
           "lakecolor": "white",
           "landcolor": "#E5ECF6",
           "showlakes": true,
           "showland": true,
           "subunitcolor": "white"
          },
          "hoverlabel": {
           "align": "left"
          },
          "hovermode": "closest",
          "mapbox": {
           "style": "light"
          },
          "paper_bgcolor": "white",
          "plot_bgcolor": "#E5ECF6",
          "polar": {
           "angularaxis": {
            "gridcolor": "white",
            "linecolor": "white",
            "ticks": ""
           },
           "bgcolor": "#E5ECF6",
           "radialaxis": {
            "gridcolor": "white",
            "linecolor": "white",
            "ticks": ""
           }
          },
          "scene": {
           "xaxis": {
            "backgroundcolor": "#E5ECF6",
            "gridcolor": "white",
            "gridwidth": 2,
            "linecolor": "white",
            "showbackground": true,
            "ticks": "",
            "zerolinecolor": "white"
           },
           "yaxis": {
            "backgroundcolor": "#E5ECF6",
            "gridcolor": "white",
            "gridwidth": 2,
            "linecolor": "white",
            "showbackground": true,
            "ticks": "",
            "zerolinecolor": "white"
           },
           "zaxis": {
            "backgroundcolor": "#E5ECF6",
            "gridcolor": "white",
            "gridwidth": 2,
            "linecolor": "white",
            "showbackground": true,
            "ticks": "",
            "zerolinecolor": "white"
           }
          },
          "shapedefaults": {
           "line": {
            "color": "#2a3f5f"
           }
          },
          "ternary": {
           "aaxis": {
            "gridcolor": "white",
            "linecolor": "white",
            "ticks": ""
           },
           "baxis": {
            "gridcolor": "white",
            "linecolor": "white",
            "ticks": ""
           },
           "bgcolor": "#E5ECF6",
           "caxis": {
            "gridcolor": "white",
            "linecolor": "white",
            "ticks": ""
           }
          },
          "title": {
           "x": 0.05
          },
          "xaxis": {
           "automargin": true,
           "gridcolor": "white",
           "linecolor": "white",
           "ticks": "",
           "title": {
            "standoff": 15
           },
           "zerolinecolor": "white",
           "zerolinewidth": 2
          },
          "yaxis": {
           "automargin": true,
           "gridcolor": "white",
           "linecolor": "white",
           "ticks": "",
           "title": {
            "standoff": 15
           },
           "zerolinecolor": "white",
           "zerolinewidth": 2
          }
         }
        },
        "title": {
         "text": "Distribution of Fuel Codes by State"
        }
       }
      }
     },
     "metadata": {},
     "output_type": "display_data"
    }
   ],
   "source": [
    "df_long = df_pivot.melt(id_vars=['State', 'Latitude', 'Longitude'], \n",
    "                        var_name='Fuel Type Code', \n",
    "                        value_name='Count')\n",
    "\n",
    "fig_map = px.scatter_geo(\n",
    "    df_long,\n",
    "    lat='Latitude',\n",
    "    lon='Longitude',\n",
    "    size='Count',  # Size of markers represents the count of each fuel type\n",
    "    color='Fuel Type Code',  # Color by fuel type code\n",
    "    hover_name='State',\n",
    "    size_max=35,\n",
    "    title='Distribution of Fuel Codes by State',\n",
    "    labels={'Count': 'Total Count'},\n",
    "    opacity=0.8,  # Make bubbles semi-transparent\n",
    "    scope='usa'  # Limit the map to the USA\n",
    ")\n",
    "\n",
    "fig_map.update_layout(\n",
    "    geo=dict(\n",
    "        scope='usa',\n",
    "        showland=True,\n",
    "        landcolor='rgb(240, 240, 240)',  # Light color for land\n",
    "        showocean=True,\n",
    "        oceancolor='rgb(255, 255, 255)',  # White ocean color\n",
    "        showcountries=True,\n",
    "        countrycolor='rgb(245, 245, 245)'  # White color for country borders\n",
    "    )\n",
    ")\n",
    "\n",
    "fig_map.show()"
   ]
  },
  {
   "cell_type": "code",
   "execution_count": 25,
   "metadata": {},
   "outputs": [
    {
     "data": {
      "application/vnd.plotly.v1+json": {
       "config": {
        "plotlyServerURL": "https://plot.ly"
       },
       "data": [
        {
         "geo": "geo",
         "hovertemplate": "<b>%{hovertext}</b><br><br>Fuel Type Code=BD<br>Total Count=%{marker.size}<br>Latitude=%{lat}<br>Longitude=%{lon}<extra></extra>",
         "hovertext": [
          "AK",
          "AL",
          "AR",
          "AZ",
          "CA",
          "CO",
          "CT",
          "DC",
          "DE",
          "FL",
          "GA",
          "HI",
          "IA",
          "ID",
          "IL",
          "IN",
          "KS",
          "KY",
          "LA",
          "MA",
          "MD",
          "ME",
          "MI",
          "MN",
          "MO",
          "MS",
          "MT",
          "NC",
          "ND",
          "NE",
          "NH",
          "NJ",
          "NM",
          "NV",
          "NY",
          "OH",
          "OK",
          "OR",
          "PA",
          "RI",
          "SC",
          "SD",
          "TN",
          "TX",
          "UT",
          "VA",
          "VT",
          "WA",
          "WI",
          "WV",
          "WY"
         ],
         "lat": [
          59.769632,
          33.149385040000006,
          35.28605478452381,
          33.32193447272727,
          35.68123785988946,
          39.65038613061905,
          41.468994677710846,
          38.90908324368421,
          39.284420823846155,
          27.87361186523077,
          33.43758773315508,
          21.134644521633987,
          42.01044740431373,
          43.71873369393939,
          41.051554351634145,
          40.308852056896555,
          38.49387393111111,
          38.001259122549016,
          31.03886318653846,
          42.21212110752688,
          39.12464393333333,
          43.79046214375,
          42.71156794502618,
          45.01279086698337,
          38.50542361006711,
          32.61881825769231,
          46.40108460714286,
          35.63475296939394,
          47.30727818333333,
          41.282287821978024,
          43.411488266666666,
          40.306625672753626,
          34.689143970731706,
          37.304669120408164,
          41.87460270554572,
          40.35206921115385,
          35.69378745223881,
          44.84587781025641,
          40.44079077888325,
          41.72494232857143,
          34.2017080715,
          44.329451762999994,
          35.93222569240506,
          31.09553660235142,
          39.90424470188679,
          37.784979639795914,
          44.033605884375,
          47.41322754924657,
          43.85164825629139,
          38.961762346428564,
          41.93267832083333
         ],
         "legendgroup": "BD",
         "lon": [
          -142.24668450000001,
          -86.57578833857143,
          -92.73385822380953,
          -112.00244725194806,
          -119.59373160773809,
          -105.23319142571428,
          -72.87198358493977,
          -77.02888349842105,
          -75.48205707923077,
          -81.65970471215384,
          -84.01403285240642,
          -157.4984723228758,
          -93.33293725529411,
          -114.88861554242425,
          -88.57941889878047,
          -86.3414257037931,
          -96.72070918222222,
          -85.33354005392157,
          -91.95932790769231,
          -71.34543366129033,
          -76.77595584444444,
          -71.1661214,
          -84.03920615931936,
          -93.74651232731591,
          -92.3537819375839,
          -89.6722033653846,
          -111.56985717857143,
          -79.76434644112554,
          -98.69940205277777,
          -97.78964983846154,
          -71.39264198095238,
          -74.4804454331884,
          -106.57989203902439,
          -116.00810157551021,
          -74.83666441749263,
          -83.13128711769231,
          -97.03794583731344,
          -122.61687731196581,
          -77.89222372741116,
          -71.43262282857144,
          -81.275386174,
          -98.237233304,
          -86.01817157784811,
          -97.26281626886305,
          -112.0091118783019,
          -77.99691915034013,
          -72.890002109375,
          -121.57048115958904,
          -89.20380258708609,
          -80.53789537499999,
          -107.40980571666667
         ],
         "marker": {
          "color": "#636efa",
          "opacity": 0.8,
          "size": [
           0,
           3,
           1,
           4,
           60,
           8,
           2,
           3,
           0,
           8,
           5,
           8,
           8,
           2,
           6,
           3,
           5,
           2,
           0,
           3,
           2,
           2,
           11,
           5,
           3,
           0,
           2,
           24,
           2,
           2,
           3,
           1,
           4,
           2,
           9,
           7,
           1,
           22,
           5,
           3,
           19,
           1,
           24,
           9,
           3,
           3,
           1,
           17,
           5,
           0,
           0
          ],
          "sizemode": "area",
          "sizeref": 0.6620408163265306,
          "symbol": "circle"
         },
         "mode": "markers",
         "name": "BD",
         "showlegend": true,
         "type": "scattergeo"
        },
        {
         "geo": "geo",
         "hovertemplate": "<b>%{hovertext}</b><br><br>Fuel Type Code=CNG<br>Total Count=%{marker.size}<br>Latitude=%{lat}<br>Longitude=%{lon}<extra></extra>",
         "hovertext": [
          "AK",
          "AL",
          "AR",
          "AZ",
          "CA",
          "CO",
          "CT",
          "DC",
          "DE",
          "FL",
          "GA",
          "HI",
          "IA",
          "ID",
          "IL",
          "IN",
          "KS",
          "KY",
          "LA",
          "MA",
          "MD",
          "ME",
          "MI",
          "MN",
          "MO",
          "MS",
          "MT",
          "NC",
          "ND",
          "NE",
          "NH",
          "NJ",
          "NM",
          "NV",
          "NY",
          "OH",
          "OK",
          "OR",
          "PA",
          "RI",
          "SC",
          "SD",
          "TN",
          "TX",
          "UT",
          "VA",
          "VT",
          "WA",
          "WI",
          "WV",
          "WY"
         ],
         "lat": [
          59.769632,
          33.149385040000006,
          35.28605478452381,
          33.32193447272727,
          35.68123785988946,
          39.65038613061905,
          41.468994677710846,
          38.90908324368421,
          39.284420823846155,
          27.87361186523077,
          33.43758773315508,
          21.134644521633987,
          42.01044740431373,
          43.71873369393939,
          41.051554351634145,
          40.308852056896555,
          38.49387393111111,
          38.001259122549016,
          31.03886318653846,
          42.21212110752688,
          39.12464393333333,
          43.79046214375,
          42.71156794502618,
          45.01279086698337,
          38.50542361006711,
          32.61881825769231,
          46.40108460714286,
          35.63475296939394,
          47.30727818333333,
          41.282287821978024,
          43.411488266666666,
          40.306625672753626,
          34.689143970731706,
          37.304669120408164,
          41.87460270554572,
          40.35206921115385,
          35.69378745223881,
          44.84587781025641,
          40.44079077888325,
          41.72494232857143,
          34.2017080715,
          44.329451762999994,
          35.93222569240506,
          31.09553660235142,
          39.90424470188679,
          37.784979639795914,
          44.033605884375,
          47.41322754924657,
          43.85164825629139,
          38.961762346428564,
          41.93267832083333
         ],
         "legendgroup": "CNG",
         "lon": [
          -142.24668450000001,
          -86.57578833857143,
          -92.73385822380953,
          -112.00244725194806,
          -119.59373160773809,
          -105.23319142571428,
          -72.87198358493977,
          -77.02888349842105,
          -75.48205707923077,
          -81.65970471215384,
          -84.01403285240642,
          -157.4984723228758,
          -93.33293725529411,
          -114.88861554242425,
          -88.57941889878047,
          -86.3414257037931,
          -96.72070918222222,
          -85.33354005392157,
          -91.95932790769231,
          -71.34543366129033,
          -76.77595584444444,
          -71.1661214,
          -84.03920615931936,
          -93.74651232731591,
          -92.3537819375839,
          -89.6722033653846,
          -111.56985717857143,
          -79.76434644112554,
          -98.69940205277777,
          -97.78964983846154,
          -71.39264198095238,
          -74.4804454331884,
          -106.57989203902439,
          -116.00810157551021,
          -74.83666441749263,
          -83.13128711769231,
          -97.03794583731344,
          -122.61687731196581,
          -77.89222372741116,
          -71.43262282857144,
          -81.275386174,
          -98.237233304,
          -86.01817157784811,
          -97.26281626886305,
          -112.0091118783019,
          -77.99691915034013,
          -72.890002109375,
          -121.57048115958904,
          -89.20380258708609,
          -80.53789537499999,
          -107.40980571666667
         ],
         "marker": {
          "color": "#EF553B",
          "opacity": 0.8,
          "size": [
           1,
           10,
           10,
           12,
           180,
           17,
           7,
           0,
           1,
           21,
           19,
           0,
           5,
           2,
           24,
           21,
           7,
           6,
           18,
           12,
           3,
           1,
           15,
           12,
           8,
           5,
           0,
           23,
           0,
           8,
           2,
           8,
           9,
           6,
           86,
           32,
           89,
           4,
           35,
           3,
           5,
           0,
           11,
           74,
           45,
           8,
           2,
           6,
           54,
           3,
           7
          ],
          "sizemode": "area",
          "sizeref": 0.6620408163265306,
          "symbol": "circle"
         },
         "mode": "markers",
         "name": "CNG",
         "showlegend": true,
         "type": "scattergeo"
        },
        {
         "geo": "geo",
         "hovertemplate": "<b>%{hovertext}</b><br><br>Fuel Type Code=E85<br>Total Count=%{marker.size}<br>Latitude=%{lat}<br>Longitude=%{lon}<extra></extra>",
         "hovertext": [
          "AK",
          "AL",
          "AR",
          "AZ",
          "CA",
          "CO",
          "CT",
          "DC",
          "DE",
          "FL",
          "GA",
          "HI",
          "IA",
          "ID",
          "IL",
          "IN",
          "KS",
          "KY",
          "LA",
          "MA",
          "MD",
          "ME",
          "MI",
          "MN",
          "MO",
          "MS",
          "MT",
          "NC",
          "ND",
          "NE",
          "NH",
          "NJ",
          "NM",
          "NV",
          "NY",
          "OH",
          "OK",
          "OR",
          "PA",
          "RI",
          "SC",
          "SD",
          "TN",
          "TX",
          "UT",
          "VA",
          "VT",
          "WA",
          "WI",
          "WV",
          "WY"
         ],
         "lat": [
          59.769632,
          33.149385040000006,
          35.28605478452381,
          33.32193447272727,
          35.68123785988946,
          39.65038613061905,
          41.468994677710846,
          38.90908324368421,
          39.284420823846155,
          27.87361186523077,
          33.43758773315508,
          21.134644521633987,
          42.01044740431373,
          43.71873369393939,
          41.051554351634145,
          40.308852056896555,
          38.49387393111111,
          38.001259122549016,
          31.03886318653846,
          42.21212110752688,
          39.12464393333333,
          43.79046214375,
          42.71156794502618,
          45.01279086698337,
          38.50542361006711,
          32.61881825769231,
          46.40108460714286,
          35.63475296939394,
          47.30727818333333,
          41.282287821978024,
          43.411488266666666,
          40.306625672753626,
          34.689143970731706,
          37.304669120408164,
          41.87460270554572,
          40.35206921115385,
          35.69378745223881,
          44.84587781025641,
          40.44079077888325,
          41.72494232857143,
          34.2017080715,
          44.329451762999994,
          35.93222569240506,
          31.09553660235142,
          39.90424470188679,
          37.784979639795914,
          44.033605884375,
          47.41322754924657,
          43.85164825629139,
          38.961762346428564,
          41.93267832083333
         ],
         "legendgroup": "E85",
         "lon": [
          -142.24668450000001,
          -86.57578833857143,
          -92.73385822380953,
          -112.00244725194806,
          -119.59373160773809,
          -105.23319142571428,
          -72.87198358493977,
          -77.02888349842105,
          -75.48205707923077,
          -81.65970471215384,
          -84.01403285240642,
          -157.4984723228758,
          -93.33293725529411,
          -114.88861554242425,
          -88.57941889878047,
          -86.3414257037931,
          -96.72070918222222,
          -85.33354005392157,
          -91.95932790769231,
          -71.34543366129033,
          -76.77595584444444,
          -71.1661214,
          -84.03920615931936,
          -93.74651232731591,
          -92.3537819375839,
          -89.6722033653846,
          -111.56985717857143,
          -79.76434644112554,
          -98.69940205277777,
          -97.78964983846154,
          -71.39264198095238,
          -74.4804454331884,
          -106.57989203902439,
          -116.00810157551021,
          -74.83666441749263,
          -83.13128711769231,
          -97.03794583731344,
          -122.61687731196581,
          -77.89222372741116,
          -71.43262282857144,
          -81.275386174,
          -98.237233304,
          -86.01817157784811,
          -97.26281626886305,
          -112.0091118783019,
          -77.99691915034013,
          -72.890002109375,
          -121.57048115958904,
          -89.20380258708609,
          -80.53789537499999,
          -107.40980571666667
         ],
         "marker": {
          "color": "#00cc96",
          "opacity": 0.8,
          "size": [
           0,
           25,
           44,
           24,
           83,
           79,
           2,
           1,
           0,
           55,
           37,
           0,
           201,
           5,
           218,
           188,
           23,
           60,
           8,
           9,
           18,
           0,
           232,
           268,
           102,
           3,
           1,
           12,
           65,
           75,
           0,
           3,
           9,
           21,
           80,
           126,
           25,
           5,
           36,
           0,
           65,
           85,
           63,
           126,
           3,
           11,
           0,
           10,
           150,
           7,
           6
          ],
          "sizemode": "area",
          "sizeref": 0.6620408163265306,
          "symbol": "circle"
         },
         "mode": "markers",
         "name": "E85",
         "showlegend": true,
         "type": "scattergeo"
        },
        {
         "geo": "geo",
         "hovertemplate": "<b>%{hovertext}</b><br><br>Fuel Type Code=ELEC<br>Total Count=%{marker.size}<br>Latitude=%{lat}<br>Longitude=%{lon}<extra></extra>",
         "hovertext": [
          "AK",
          "AL",
          "AR",
          "AZ",
          "CA",
          "CO",
          "CT",
          "DC",
          "DE",
          "FL",
          "GA",
          "HI",
          "IA",
          "ID",
          "IL",
          "IN",
          "KS",
          "KY",
          "LA",
          "MA",
          "MD",
          "ME",
          "MI",
          "MN",
          "MO",
          "MS",
          "MT",
          "NC",
          "ND",
          "NE",
          "NH",
          "NJ",
          "NM",
          "NV",
          "NY",
          "OH",
          "OK",
          "OR",
          "PA",
          "RI",
          "SC",
          "SD",
          "TN",
          "TX",
          "UT",
          "VA",
          "VT",
          "WA",
          "WI",
          "WV",
          "WY"
         ],
         "lat": [
          59.769632,
          33.149385040000006,
          35.28605478452381,
          33.32193447272727,
          35.68123785988946,
          39.65038613061905,
          41.468994677710846,
          38.90908324368421,
          39.284420823846155,
          27.87361186523077,
          33.43758773315508,
          21.134644521633987,
          42.01044740431373,
          43.71873369393939,
          41.051554351634145,
          40.308852056896555,
          38.49387393111111,
          38.001259122549016,
          31.03886318653846,
          42.21212110752688,
          39.12464393333333,
          43.79046214375,
          42.71156794502618,
          45.01279086698337,
          38.50542361006711,
          32.61881825769231,
          46.40108460714286,
          35.63475296939394,
          47.30727818333333,
          41.282287821978024,
          43.411488266666666,
          40.306625672753626,
          34.689143970731706,
          37.304669120408164,
          41.87460270554572,
          40.35206921115385,
          35.69378745223881,
          44.84587781025641,
          40.44079077888325,
          41.72494232857143,
          34.2017080715,
          44.329451762999994,
          35.93222569240506,
          31.09553660235142,
          39.90424470188679,
          37.784979639795914,
          44.033605884375,
          47.41322754924657,
          43.85164825629139,
          38.961762346428564,
          41.93267832083333
         ],
         "legendgroup": "ELEC",
         "lon": [
          -142.24668450000001,
          -86.57578833857143,
          -92.73385822380953,
          -112.00244725194806,
          -119.59373160773809,
          -105.23319142571428,
          -72.87198358493977,
          -77.02888349842105,
          -75.48205707923077,
          -81.65970471215384,
          -84.01403285240642,
          -157.4984723228758,
          -93.33293725529411,
          -114.88861554242425,
          -88.57941889878047,
          -86.3414257037931,
          -96.72070918222222,
          -85.33354005392157,
          -91.95932790769231,
          -71.34543366129033,
          -76.77595584444444,
          -71.1661214,
          -84.03920615931936,
          -93.74651232731591,
          -92.3537819375839,
          -89.6722033653846,
          -111.56985717857143,
          -79.76434644112554,
          -98.69940205277777,
          -97.78964983846154,
          -71.39264198095238,
          -74.4804454331884,
          -106.57989203902439,
          -116.00810157551021,
          -74.83666441749263,
          -83.13128711769231,
          -97.03794583731344,
          -122.61687731196581,
          -77.89222372741116,
          -71.43262282857144,
          -81.275386174,
          -98.237233304,
          -86.01817157784811,
          -97.26281626886305,
          -112.0091118783019,
          -77.99691915034013,
          -72.890002109375,
          -121.57048115958904,
          -89.20380258708609,
          -80.53789537499999,
          -107.40980571666667
         ],
         "marker": {
          "color": "#ab63fa",
          "opacity": 0.8,
          "size": [
           1,
           27,
           23,
           28,
           811,
           101,
           153,
           15,
           10,
           167,
           114,
           145,
           36,
           14,
           151,
           68,
           53,
           28,
           24,
           66,
           56,
           29,
           122,
           133,
           28,
           14,
           8,
           169,
           3,
           3,
           37,
           56,
           15,
           12,
           159,
           81,
           17,
           81,
           115,
           8,
           104,
           8,
           55,
           155,
           36,
           121,
           29,
           109,
           88,
           17,
           4
          ],
          "sizemode": "area",
          "sizeref": 0.6620408163265306,
          "symbol": "circle"
         },
         "mode": "markers",
         "name": "ELEC",
         "showlegend": true,
         "type": "scattergeo"
        },
        {
         "geo": "geo",
         "hovertemplate": "<b>%{hovertext}</b><br><br>Fuel Type Code=HY<br>Total Count=%{marker.size}<br>Latitude=%{lat}<br>Longitude=%{lon}<extra></extra>",
         "hovertext": [
          "AK",
          "AL",
          "AR",
          "AZ",
          "CA",
          "CO",
          "CT",
          "DC",
          "DE",
          "FL",
          "GA",
          "HI",
          "IA",
          "ID",
          "IL",
          "IN",
          "KS",
          "KY",
          "LA",
          "MA",
          "MD",
          "ME",
          "MI",
          "MN",
          "MO",
          "MS",
          "MT",
          "NC",
          "ND",
          "NE",
          "NH",
          "NJ",
          "NM",
          "NV",
          "NY",
          "OH",
          "OK",
          "OR",
          "PA",
          "RI",
          "SC",
          "SD",
          "TN",
          "TX",
          "UT",
          "VA",
          "VT",
          "WA",
          "WI",
          "WV",
          "WY"
         ],
         "lat": [
          59.769632,
          33.149385040000006,
          35.28605478452381,
          33.32193447272727,
          35.68123785988946,
          39.65038613061905,
          41.468994677710846,
          38.90908324368421,
          39.284420823846155,
          27.87361186523077,
          33.43758773315508,
          21.134644521633987,
          42.01044740431373,
          43.71873369393939,
          41.051554351634145,
          40.308852056896555,
          38.49387393111111,
          38.001259122549016,
          31.03886318653846,
          42.21212110752688,
          39.12464393333333,
          43.79046214375,
          42.71156794502618,
          45.01279086698337,
          38.50542361006711,
          32.61881825769231,
          46.40108460714286,
          35.63475296939394,
          47.30727818333333,
          41.282287821978024,
          43.411488266666666,
          40.306625672753626,
          34.689143970731706,
          37.304669120408164,
          41.87460270554572,
          40.35206921115385,
          35.69378745223881,
          44.84587781025641,
          40.44079077888325,
          41.72494232857143,
          34.2017080715,
          44.329451762999994,
          35.93222569240506,
          31.09553660235142,
          39.90424470188679,
          37.784979639795914,
          44.033605884375,
          47.41322754924657,
          43.85164825629139,
          38.961762346428564,
          41.93267832083333
         ],
         "legendgroup": "HY",
         "lon": [
          -142.24668450000001,
          -86.57578833857143,
          -92.73385822380953,
          -112.00244725194806,
          -119.59373160773809,
          -105.23319142571428,
          -72.87198358493977,
          -77.02888349842105,
          -75.48205707923077,
          -81.65970471215384,
          -84.01403285240642,
          -157.4984723228758,
          -93.33293725529411,
          -114.88861554242425,
          -88.57941889878047,
          -86.3414257037931,
          -96.72070918222222,
          -85.33354005392157,
          -91.95932790769231,
          -71.34543366129033,
          -76.77595584444444,
          -71.1661214,
          -84.03920615931936,
          -93.74651232731591,
          -92.3537819375839,
          -89.6722033653846,
          -111.56985717857143,
          -79.76434644112554,
          -98.69940205277777,
          -97.78964983846154,
          -71.39264198095238,
          -74.4804454331884,
          -106.57989203902439,
          -116.00810157551021,
          -74.83666441749263,
          -83.13128711769231,
          -97.03794583731344,
          -122.61687731196581,
          -77.89222372741116,
          -71.43262282857144,
          -81.275386174,
          -98.237233304,
          -86.01817157784811,
          -97.26281626886305,
          -112.0091118783019,
          -77.99691915034013,
          -72.890002109375,
          -121.57048115958904,
          -89.20380258708609,
          -80.53789537499999,
          -107.40980571666667
         ],
         "marker": {
          "color": "#FFA15A",
          "opacity": 0.8,
          "size": [
           0,
           0,
           0,
           0,
           9,
           0,
           1,
           0,
           0,
           0,
           0,
           0,
           0,
           0,
           0,
           0,
           0,
           0,
           0,
           0,
           0,
           0,
           0,
           0,
           0,
           0,
           0,
           0,
           0,
           0,
           0,
           0,
           0,
           0,
           0,
           0,
           0,
           0,
           0,
           0,
           0,
           0,
           0,
           0,
           0,
           0,
           0,
           0,
           0,
           0,
           0
          ],
          "sizemode": "area",
          "sizeref": 0.6620408163265306,
          "symbol": "circle"
         },
         "mode": "markers",
         "name": "HY",
         "showlegend": true,
         "type": "scattergeo"
        },
        {
         "geo": "geo",
         "hovertemplate": "<b>%{hovertext}</b><br><br>Fuel Type Code=LNG<br>Total Count=%{marker.size}<br>Latitude=%{lat}<br>Longitude=%{lon}<extra></extra>",
         "hovertext": [
          "AK",
          "AL",
          "AR",
          "AZ",
          "CA",
          "CO",
          "CT",
          "DC",
          "DE",
          "FL",
          "GA",
          "HI",
          "IA",
          "ID",
          "IL",
          "IN",
          "KS",
          "KY",
          "LA",
          "MA",
          "MD",
          "ME",
          "MI",
          "MN",
          "MO",
          "MS",
          "MT",
          "NC",
          "ND",
          "NE",
          "NH",
          "NJ",
          "NM",
          "NV",
          "NY",
          "OH",
          "OK",
          "OR",
          "PA",
          "RI",
          "SC",
          "SD",
          "TN",
          "TX",
          "UT",
          "VA",
          "VT",
          "WA",
          "WI",
          "WV",
          "WY"
         ],
         "lat": [
          59.769632,
          33.149385040000006,
          35.28605478452381,
          33.32193447272727,
          35.68123785988946,
          39.65038613061905,
          41.468994677710846,
          38.90908324368421,
          39.284420823846155,
          27.87361186523077,
          33.43758773315508,
          21.134644521633987,
          42.01044740431373,
          43.71873369393939,
          41.051554351634145,
          40.308852056896555,
          38.49387393111111,
          38.001259122549016,
          31.03886318653846,
          42.21212110752688,
          39.12464393333333,
          43.79046214375,
          42.71156794502618,
          45.01279086698337,
          38.50542361006711,
          32.61881825769231,
          46.40108460714286,
          35.63475296939394,
          47.30727818333333,
          41.282287821978024,
          43.411488266666666,
          40.306625672753626,
          34.689143970731706,
          37.304669120408164,
          41.87460270554572,
          40.35206921115385,
          35.69378745223881,
          44.84587781025641,
          40.44079077888325,
          41.72494232857143,
          34.2017080715,
          44.329451762999994,
          35.93222569240506,
          31.09553660235142,
          39.90424470188679,
          37.784979639795914,
          44.033605884375,
          47.41322754924657,
          43.85164825629139,
          38.961762346428564,
          41.93267832083333
         ],
         "legendgroup": "LNG",
         "lon": [
          -142.24668450000001,
          -86.57578833857143,
          -92.73385822380953,
          -112.00244725194806,
          -119.59373160773809,
          -105.23319142571428,
          -72.87198358493977,
          -77.02888349842105,
          -75.48205707923077,
          -81.65970471215384,
          -84.01403285240642,
          -157.4984723228758,
          -93.33293725529411,
          -114.88861554242425,
          -88.57941889878047,
          -86.3414257037931,
          -96.72070918222222,
          -85.33354005392157,
          -91.95932790769231,
          -71.34543366129033,
          -76.77595584444444,
          -71.1661214,
          -84.03920615931936,
          -93.74651232731591,
          -92.3537819375839,
          -89.6722033653846,
          -111.56985717857143,
          -79.76434644112554,
          -98.69940205277777,
          -97.78964983846154,
          -71.39264198095238,
          -74.4804454331884,
          -106.57989203902439,
          -116.00810157551021,
          -74.83666441749263,
          -83.13128711769231,
          -97.03794583731344,
          -122.61687731196581,
          -77.89222372741116,
          -71.43262282857144,
          -81.275386174,
          -98.237233304,
          -86.01817157784811,
          -97.26281626886305,
          -112.0091118783019,
          -77.99691915034013,
          -72.890002109375,
          -121.57048115958904,
          -89.20380258708609,
          -80.53789537499999,
          -107.40980571666667
         ],
         "marker": {
          "color": "#19d3f3",
          "opacity": 0.8,
          "size": [
           0,
           2,
           1,
           2,
           18,
           0,
           1,
           0,
           0,
           1,
           4,
           0,
           0,
           7,
           1,
           2,
           0,
           1,
           2,
           1,
           0,
           0,
           0,
           0,
           0,
           0,
           0,
           1,
           0,
           0,
           0,
           0,
           1,
           3,
           0,
           3,
           1,
           1,
           1,
           0,
           1,
           0,
           2,
           11,
           6,
           0,
           0,
           1,
           1,
           0,
           0
          ],
          "sizemode": "area",
          "sizeref": 0.6620408163265306,
          "symbol": "circle"
         },
         "mode": "markers",
         "name": "LNG",
         "showlegend": true,
         "type": "scattergeo"
        },
        {
         "geo": "geo",
         "hovertemplate": "<b>%{hovertext}</b><br><br>Fuel Type Code=LPG<br>Total Count=%{marker.size}<br>Latitude=%{lat}<br>Longitude=%{lon}<extra></extra>",
         "hovertext": [
          "AK",
          "AL",
          "AR",
          "AZ",
          "CA",
          "CO",
          "CT",
          "DC",
          "DE",
          "FL",
          "GA",
          "HI",
          "IA",
          "ID",
          "IL",
          "IN",
          "KS",
          "KY",
          "LA",
          "MA",
          "MD",
          "ME",
          "MI",
          "MN",
          "MO",
          "MS",
          "MT",
          "NC",
          "ND",
          "NE",
          "NH",
          "NJ",
          "NM",
          "NV",
          "NY",
          "OH",
          "OK",
          "OR",
          "PA",
          "RI",
          "SC",
          "SD",
          "TN",
          "TX",
          "UT",
          "VA",
          "VT",
          "WA",
          "WI",
          "WV",
          "WY"
         ],
         "lat": [
          59.769632,
          33.149385040000006,
          35.28605478452381,
          33.32193447272727,
          35.68123785988946,
          39.65038613061905,
          41.468994677710846,
          38.90908324368421,
          39.284420823846155,
          27.87361186523077,
          33.43758773315508,
          21.134644521633987,
          42.01044740431373,
          43.71873369393939,
          41.051554351634145,
          40.308852056896555,
          38.49387393111111,
          38.001259122549016,
          31.03886318653846,
          42.21212110752688,
          39.12464393333333,
          43.79046214375,
          42.71156794502618,
          45.01279086698337,
          38.50542361006711,
          32.61881825769231,
          46.40108460714286,
          35.63475296939394,
          47.30727818333333,
          41.282287821978024,
          43.411488266666666,
          40.306625672753626,
          34.689143970731706,
          37.304669120408164,
          41.87460270554572,
          40.35206921115385,
          35.69378745223881,
          44.84587781025641,
          40.44079077888325,
          41.72494232857143,
          34.2017080715,
          44.329451762999994,
          35.93222569240506,
          31.09553660235142,
          39.90424470188679,
          37.784979639795914,
          44.033605884375,
          47.41322754924657,
          43.85164825629139,
          38.961762346428564,
          41.93267832083333
         ],
         "legendgroup": "LPG",
         "lon": [
          -142.24668450000001,
          -86.57578833857143,
          -92.73385822380953,
          -112.00244725194806,
          -119.59373160773809,
          -105.23319142571428,
          -72.87198358493977,
          -77.02888349842105,
          -75.48205707923077,
          -81.65970471215384,
          -84.01403285240642,
          -157.4984723228758,
          -93.33293725529411,
          -114.88861554242425,
          -88.57941889878047,
          -86.3414257037931,
          -96.72070918222222,
          -85.33354005392157,
          -91.95932790769231,
          -71.34543366129033,
          -76.77595584444444,
          -71.1661214,
          -84.03920615931936,
          -93.74651232731591,
          -92.3537819375839,
          -89.6722033653846,
          -111.56985717857143,
          -79.76434644112554,
          -98.69940205277777,
          -97.78964983846154,
          -71.39264198095238,
          -74.4804454331884,
          -106.57989203902439,
          -116.00810157551021,
          -74.83666441749263,
          -83.13128711769231,
          -97.03794583731344,
          -122.61687731196581,
          -77.89222372741116,
          -71.43262282857144,
          -81.275386174,
          -98.237233304,
          -86.01817157784811,
          -97.26281626886305,
          -112.0091118783019,
          -77.99691915034013,
          -72.890002109375,
          -121.57048115958904,
          -89.20380258708609,
          -80.53789537499999,
          -107.40980571666667
         ],
         "marker": {
          "color": "#FF6692",
          "opacity": 0.8,
          "size": [
           0,
           3,
           5,
           7,
           15,
           5,
           0,
           0,
           2,
           8,
           8,
           0,
           5,
           3,
           10,
           8,
           2,
           5,
           0,
           2,
           2,
           0,
           2,
           3,
           8,
           4,
           3,
           2,
           2,
           3,
           0,
           1,
           3,
           5,
           5,
           11,
           1,
           4,
           5,
           0,
           6,
           6,
           3,
           12,
           13,
           4,
           0,
           3,
           4,
           1,
           7
          ],
          "sizemode": "area",
          "sizeref": 0.6620408163265306,
          "symbol": "circle"
         },
         "mode": "markers",
         "name": "LPG",
         "showlegend": true,
         "type": "scattergeo"
        }
       ],
       "layout": {
        "geo": {
         "center": {},
         "countrycolor": "rgb(255, 255, 255)",
         "domain": {
          "x": [
           0,
           1
          ],
          "y": [
           0,
           1
          ]
         },
         "landcolor": "rgb(240, 240, 240)",
         "oceancolor": "rgb(255, 255, 255)",
         "scope": "usa",
         "showcountries": true,
         "showland": true,
         "showocean": true
        },
        "legend": {
         "itemsizing": "constant",
         "orientation": "h",
         "title": {
          "text": "Fuel Type Code"
         },
         "tracegroupgap": 0,
         "x": 0.5,
         "xanchor": "center",
         "y": -0.3,
         "yanchor": "bottom"
        },
        "margin": {
         "b": 0,
         "l": 0,
         "r": 0,
         "t": 50
        },
        "template": {
         "data": {
          "bar": [
           {
            "error_x": {
             "color": "#2a3f5f"
            },
            "error_y": {
             "color": "#2a3f5f"
            },
            "marker": {
             "line": {
              "color": "#E5ECF6",
              "width": 0.5
             },
             "pattern": {
              "fillmode": "overlay",
              "size": 10,
              "solidity": 0.2
             }
            },
            "type": "bar"
           }
          ],
          "barpolar": [
           {
            "marker": {
             "line": {
              "color": "#E5ECF6",
              "width": 0.5
             },
             "pattern": {
              "fillmode": "overlay",
              "size": 10,
              "solidity": 0.2
             }
            },
            "type": "barpolar"
           }
          ],
          "carpet": [
           {
            "aaxis": {
             "endlinecolor": "#2a3f5f",
             "gridcolor": "white",
             "linecolor": "white",
             "minorgridcolor": "white",
             "startlinecolor": "#2a3f5f"
            },
            "baxis": {
             "endlinecolor": "#2a3f5f",
             "gridcolor": "white",
             "linecolor": "white",
             "minorgridcolor": "white",
             "startlinecolor": "#2a3f5f"
            },
            "type": "carpet"
           }
          ],
          "choropleth": [
           {
            "colorbar": {
             "outlinewidth": 0,
             "ticks": ""
            },
            "type": "choropleth"
           }
          ],
          "contour": [
           {
            "colorbar": {
             "outlinewidth": 0,
             "ticks": ""
            },
            "colorscale": [
             [
              0,
              "#0d0887"
             ],
             [
              0.1111111111111111,
              "#46039f"
             ],
             [
              0.2222222222222222,
              "#7201a8"
             ],
             [
              0.3333333333333333,
              "#9c179e"
             ],
             [
              0.4444444444444444,
              "#bd3786"
             ],
             [
              0.5555555555555556,
              "#d8576b"
             ],
             [
              0.6666666666666666,
              "#ed7953"
             ],
             [
              0.7777777777777778,
              "#fb9f3a"
             ],
             [
              0.8888888888888888,
              "#fdca26"
             ],
             [
              1,
              "#f0f921"
             ]
            ],
            "type": "contour"
           }
          ],
          "contourcarpet": [
           {
            "colorbar": {
             "outlinewidth": 0,
             "ticks": ""
            },
            "type": "contourcarpet"
           }
          ],
          "heatmap": [
           {
            "colorbar": {
             "outlinewidth": 0,
             "ticks": ""
            },
            "colorscale": [
             [
              0,
              "#0d0887"
             ],
             [
              0.1111111111111111,
              "#46039f"
             ],
             [
              0.2222222222222222,
              "#7201a8"
             ],
             [
              0.3333333333333333,
              "#9c179e"
             ],
             [
              0.4444444444444444,
              "#bd3786"
             ],
             [
              0.5555555555555556,
              "#d8576b"
             ],
             [
              0.6666666666666666,
              "#ed7953"
             ],
             [
              0.7777777777777778,
              "#fb9f3a"
             ],
             [
              0.8888888888888888,
              "#fdca26"
             ],
             [
              1,
              "#f0f921"
             ]
            ],
            "type": "heatmap"
           }
          ],
          "heatmapgl": [
           {
            "colorbar": {
             "outlinewidth": 0,
             "ticks": ""
            },
            "colorscale": [
             [
              0,
              "#0d0887"
             ],
             [
              0.1111111111111111,
              "#46039f"
             ],
             [
              0.2222222222222222,
              "#7201a8"
             ],
             [
              0.3333333333333333,
              "#9c179e"
             ],
             [
              0.4444444444444444,
              "#bd3786"
             ],
             [
              0.5555555555555556,
              "#d8576b"
             ],
             [
              0.6666666666666666,
              "#ed7953"
             ],
             [
              0.7777777777777778,
              "#fb9f3a"
             ],
             [
              0.8888888888888888,
              "#fdca26"
             ],
             [
              1,
              "#f0f921"
             ]
            ],
            "type": "heatmapgl"
           }
          ],
          "histogram": [
           {
            "marker": {
             "pattern": {
              "fillmode": "overlay",
              "size": 10,
              "solidity": 0.2
             }
            },
            "type": "histogram"
           }
          ],
          "histogram2d": [
           {
            "colorbar": {
             "outlinewidth": 0,
             "ticks": ""
            },
            "colorscale": [
             [
              0,
              "#0d0887"
             ],
             [
              0.1111111111111111,
              "#46039f"
             ],
             [
              0.2222222222222222,
              "#7201a8"
             ],
             [
              0.3333333333333333,
              "#9c179e"
             ],
             [
              0.4444444444444444,
              "#bd3786"
             ],
             [
              0.5555555555555556,
              "#d8576b"
             ],
             [
              0.6666666666666666,
              "#ed7953"
             ],
             [
              0.7777777777777778,
              "#fb9f3a"
             ],
             [
              0.8888888888888888,
              "#fdca26"
             ],
             [
              1,
              "#f0f921"
             ]
            ],
            "type": "histogram2d"
           }
          ],
          "histogram2dcontour": [
           {
            "colorbar": {
             "outlinewidth": 0,
             "ticks": ""
            },
            "colorscale": [
             [
              0,
              "#0d0887"
             ],
             [
              0.1111111111111111,
              "#46039f"
             ],
             [
              0.2222222222222222,
              "#7201a8"
             ],
             [
              0.3333333333333333,
              "#9c179e"
             ],
             [
              0.4444444444444444,
              "#bd3786"
             ],
             [
              0.5555555555555556,
              "#d8576b"
             ],
             [
              0.6666666666666666,
              "#ed7953"
             ],
             [
              0.7777777777777778,
              "#fb9f3a"
             ],
             [
              0.8888888888888888,
              "#fdca26"
             ],
             [
              1,
              "#f0f921"
             ]
            ],
            "type": "histogram2dcontour"
           }
          ],
          "mesh3d": [
           {
            "colorbar": {
             "outlinewidth": 0,
             "ticks": ""
            },
            "type": "mesh3d"
           }
          ],
          "parcoords": [
           {
            "line": {
             "colorbar": {
              "outlinewidth": 0,
              "ticks": ""
             }
            },
            "type": "parcoords"
           }
          ],
          "pie": [
           {
            "automargin": true,
            "type": "pie"
           }
          ],
          "scatter": [
           {
            "fillpattern": {
             "fillmode": "overlay",
             "size": 10,
             "solidity": 0.2
            },
            "type": "scatter"
           }
          ],
          "scatter3d": [
           {
            "line": {
             "colorbar": {
              "outlinewidth": 0,
              "ticks": ""
             }
            },
            "marker": {
             "colorbar": {
              "outlinewidth": 0,
              "ticks": ""
             }
            },
            "type": "scatter3d"
           }
          ],
          "scattercarpet": [
           {
            "marker": {
             "colorbar": {
              "outlinewidth": 0,
              "ticks": ""
             }
            },
            "type": "scattercarpet"
           }
          ],
          "scattergeo": [
           {
            "marker": {
             "colorbar": {
              "outlinewidth": 0,
              "ticks": ""
             }
            },
            "type": "scattergeo"
           }
          ],
          "scattergl": [
           {
            "marker": {
             "colorbar": {
              "outlinewidth": 0,
              "ticks": ""
             }
            },
            "type": "scattergl"
           }
          ],
          "scattermapbox": [
           {
            "marker": {
             "colorbar": {
              "outlinewidth": 0,
              "ticks": ""
             }
            },
            "type": "scattermapbox"
           }
          ],
          "scatterpolar": [
           {
            "marker": {
             "colorbar": {
              "outlinewidth": 0,
              "ticks": ""
             }
            },
            "type": "scatterpolar"
           }
          ],
          "scatterpolargl": [
           {
            "marker": {
             "colorbar": {
              "outlinewidth": 0,
              "ticks": ""
             }
            },
            "type": "scatterpolargl"
           }
          ],
          "scatterternary": [
           {
            "marker": {
             "colorbar": {
              "outlinewidth": 0,
              "ticks": ""
             }
            },
            "type": "scatterternary"
           }
          ],
          "surface": [
           {
            "colorbar": {
             "outlinewidth": 0,
             "ticks": ""
            },
            "colorscale": [
             [
              0,
              "#0d0887"
             ],
             [
              0.1111111111111111,
              "#46039f"
             ],
             [
              0.2222222222222222,
              "#7201a8"
             ],
             [
              0.3333333333333333,
              "#9c179e"
             ],
             [
              0.4444444444444444,
              "#bd3786"
             ],
             [
              0.5555555555555556,
              "#d8576b"
             ],
             [
              0.6666666666666666,
              "#ed7953"
             ],
             [
              0.7777777777777778,
              "#fb9f3a"
             ],
             [
              0.8888888888888888,
              "#fdca26"
             ],
             [
              1,
              "#f0f921"
             ]
            ],
            "type": "surface"
           }
          ],
          "table": [
           {
            "cells": {
             "fill": {
              "color": "#EBF0F8"
             },
             "line": {
              "color": "white"
             }
            },
            "header": {
             "fill": {
              "color": "#C8D4E3"
             },
             "line": {
              "color": "white"
             }
            },
            "type": "table"
           }
          ]
         },
         "layout": {
          "annotationdefaults": {
           "arrowcolor": "#2a3f5f",
           "arrowhead": 0,
           "arrowwidth": 1
          },
          "autotypenumbers": "strict",
          "coloraxis": {
           "colorbar": {
            "outlinewidth": 0,
            "ticks": ""
           }
          },
          "colorscale": {
           "diverging": [
            [
             0,
             "#8e0152"
            ],
            [
             0.1,
             "#c51b7d"
            ],
            [
             0.2,
             "#de77ae"
            ],
            [
             0.3,
             "#f1b6da"
            ],
            [
             0.4,
             "#fde0ef"
            ],
            [
             0.5,
             "#f7f7f7"
            ],
            [
             0.6,
             "#e6f5d0"
            ],
            [
             0.7,
             "#b8e186"
            ],
            [
             0.8,
             "#7fbc41"
            ],
            [
             0.9,
             "#4d9221"
            ],
            [
             1,
             "#276419"
            ]
           ],
           "sequential": [
            [
             0,
             "#0d0887"
            ],
            [
             0.1111111111111111,
             "#46039f"
            ],
            [
             0.2222222222222222,
             "#7201a8"
            ],
            [
             0.3333333333333333,
             "#9c179e"
            ],
            [
             0.4444444444444444,
             "#bd3786"
            ],
            [
             0.5555555555555556,
             "#d8576b"
            ],
            [
             0.6666666666666666,
             "#ed7953"
            ],
            [
             0.7777777777777778,
             "#fb9f3a"
            ],
            [
             0.8888888888888888,
             "#fdca26"
            ],
            [
             1,
             "#f0f921"
            ]
           ],
           "sequentialminus": [
            [
             0,
             "#0d0887"
            ],
            [
             0.1111111111111111,
             "#46039f"
            ],
            [
             0.2222222222222222,
             "#7201a8"
            ],
            [
             0.3333333333333333,
             "#9c179e"
            ],
            [
             0.4444444444444444,
             "#bd3786"
            ],
            [
             0.5555555555555556,
             "#d8576b"
            ],
            [
             0.6666666666666666,
             "#ed7953"
            ],
            [
             0.7777777777777778,
             "#fb9f3a"
            ],
            [
             0.8888888888888888,
             "#fdca26"
            ],
            [
             1,
             "#f0f921"
            ]
           ]
          },
          "colorway": [
           "#636efa",
           "#EF553B",
           "#00cc96",
           "#ab63fa",
           "#FFA15A",
           "#19d3f3",
           "#FF6692",
           "#B6E880",
           "#FF97FF",
           "#FECB52"
          ],
          "font": {
           "color": "#2a3f5f"
          },
          "geo": {
           "bgcolor": "white",
           "lakecolor": "white",
           "landcolor": "#E5ECF6",
           "showlakes": true,
           "showland": true,
           "subunitcolor": "white"
          },
          "hoverlabel": {
           "align": "left"
          },
          "hovermode": "closest",
          "mapbox": {
           "style": "light"
          },
          "paper_bgcolor": "white",
          "plot_bgcolor": "#E5ECF6",
          "polar": {
           "angularaxis": {
            "gridcolor": "white",
            "linecolor": "white",
            "ticks": ""
           },
           "bgcolor": "#E5ECF6",
           "radialaxis": {
            "gridcolor": "white",
            "linecolor": "white",
            "ticks": ""
           }
          },
          "scene": {
           "xaxis": {
            "backgroundcolor": "#E5ECF6",
            "gridcolor": "white",
            "gridwidth": 2,
            "linecolor": "white",
            "showbackground": true,
            "ticks": "",
            "zerolinecolor": "white"
           },
           "yaxis": {
            "backgroundcolor": "#E5ECF6",
            "gridcolor": "white",
            "gridwidth": 2,
            "linecolor": "white",
            "showbackground": true,
            "ticks": "",
            "zerolinecolor": "white"
           },
           "zaxis": {
            "backgroundcolor": "#E5ECF6",
            "gridcolor": "white",
            "gridwidth": 2,
            "linecolor": "white",
            "showbackground": true,
            "ticks": "",
            "zerolinecolor": "white"
           }
          },
          "shapedefaults": {
           "line": {
            "color": "#2a3f5f"
           }
          },
          "ternary": {
           "aaxis": {
            "gridcolor": "white",
            "linecolor": "white",
            "ticks": ""
           },
           "baxis": {
            "gridcolor": "white",
            "linecolor": "white",
            "ticks": ""
           },
           "bgcolor": "#E5ECF6",
           "caxis": {
            "gridcolor": "white",
            "linecolor": "white",
            "ticks": ""
           }
          },
          "title": {
           "x": 0.05
          },
          "xaxis": {
           "automargin": true,
           "gridcolor": "white",
           "linecolor": "white",
           "ticks": "",
           "title": {
            "standoff": 15
           },
           "zerolinecolor": "white",
           "zerolinewidth": 2
          },
          "yaxis": {
           "automargin": true,
           "gridcolor": "white",
           "linecolor": "white",
           "ticks": "",
           "title": {
            "standoff": 15
           },
           "zerolinecolor": "white",
           "zerolinewidth": 2
          }
         }
        },
        "title": {
         "text": "Distribution of Fuel Type Codes by State",
         "x": 0.5,
         "xanchor": "center",
         "yanchor": "top"
        }
       }
      }
     },
     "metadata": {},
     "output_type": "display_data"
    }
   ],
   "source": [
    "import plotly.express as px\n",
    "\n",
    "fig_map = px.scatter_geo(\n",
    "    df_long,\n",
    "    lat='Latitude',\n",
    "    lon='Longitude',\n",
    "    size='Count',  # Size of markers represents the count of each fuel type\n",
    "    color='Fuel Type Code',  # Color by fuel type code\n",
    "    hover_name='State',\n",
    "    size_max=35,\n",
    "    title='Distribution of Fuel Type Codes by State',\n",
    "    labels={'Count': 'Total Count'},\n",
    "    opacity=0.8,  # Make bubbles semi-transparent\n",
    "    scope='usa'  # Limit the map to the USA\n",
    ")\n",
    "\n",
    "fig_map.update_layout(\n",
    "    title={\n",
    "        'text': 'Distribution of Fuel Type Codes by State',\n",
    "        'x': 0.5,\n",
    "        'xanchor': 'center',\n",
    "        'yanchor': 'top'\n",
    "    },\n",
    "    legend={\n",
    "        'orientation': 'h',\n",
    "        'yanchor': 'bottom',\n",
    "        'y': -0.3,\n",
    "        'xanchor': 'center',\n",
    "        'x': 0.5\n",
    "    },\n",
    "    margin=dict(l=0, r=0, t=50, b=0),\n",
    "    geo=dict(\n",
    "        scope='usa',\n",
    "        showland=True,\n",
    "        landcolor='rgb(240, 240, 240)',  # Light color for land\n",
    "        showocean=True,\n",
    "        oceancolor='rgb(255, 255, 255)',  # White ocean color\n",
    "        showcountries=True,\n",
    "        countrycolor='rgb(255, 255, 255)'  # White color for country borders\n",
    "    )\n",
    ")\n",
    "\n",
    "fig_map.show()\n"
   ]
  },
  {
   "cell_type": "code",
   "execution_count": 30,
   "metadata": {},
   "outputs": [
    {
     "data": {
      "application/vnd.plotly.v1+json": {
       "config": {
        "plotlyServerURL": "https://plot.ly"
       },
       "data": [
        {
         "hovertemplate": "<b>%{hovertext}</b><br><br>Fuel Type Code=BD<br>Total Count=%{marker.size}<br>Latitude=%{lat}<br>Longitude=%{lon}<extra></extra>",
         "hovertext": [
          "AK",
          "AL",
          "AR",
          "AZ",
          "CA",
          "CO",
          "CT",
          "DC",
          "DE",
          "FL",
          "GA",
          "HI",
          "IA",
          "ID",
          "IL",
          "IN",
          "KS",
          "KY",
          "LA",
          "MA",
          "MD",
          "ME",
          "MI",
          "MN",
          "MO",
          "MS",
          "MT",
          "NC",
          "ND",
          "NE",
          "NH",
          "NJ",
          "NM",
          "NV",
          "NY",
          "OH",
          "OK",
          "OR",
          "PA",
          "RI",
          "SC",
          "SD",
          "TN",
          "TX",
          "UT",
          "VA",
          "VT",
          "WA",
          "WI",
          "WV",
          "WY"
         ],
         "lat": [
          59.769632,
          33.149385040000006,
          35.28605478452381,
          33.32193447272727,
          35.68123785988946,
          39.65038613061905,
          41.468994677710846,
          38.90908324368421,
          39.284420823846155,
          27.87361186523077,
          33.43758773315508,
          21.134644521633987,
          42.01044740431373,
          43.71873369393939,
          41.051554351634145,
          40.308852056896555,
          38.49387393111111,
          38.001259122549016,
          31.03886318653846,
          42.21212110752688,
          39.12464393333333,
          43.79046214375,
          42.71156794502618,
          45.01279086698337,
          38.50542361006711,
          32.61881825769231,
          46.40108460714286,
          35.63475296939394,
          47.30727818333333,
          41.282287821978024,
          43.411488266666666,
          40.306625672753626,
          34.689143970731706,
          37.304669120408164,
          41.87460270554572,
          40.35206921115385,
          35.69378745223881,
          44.84587781025641,
          40.44079077888325,
          41.72494232857143,
          34.2017080715,
          44.329451762999994,
          35.93222569240506,
          31.09553660235142,
          39.90424470188679,
          37.784979639795914,
          44.033605884375,
          47.41322754924657,
          43.85164825629139,
          38.961762346428564,
          41.93267832083333
         ],
         "legendgroup": "BD",
         "lon": [
          -142.24668450000001,
          -86.57578833857143,
          -92.73385822380953,
          -112.00244725194806,
          -119.59373160773809,
          -105.23319142571428,
          -72.87198358493977,
          -77.02888349842105,
          -75.48205707923077,
          -81.65970471215384,
          -84.01403285240642,
          -157.4984723228758,
          -93.33293725529411,
          -114.88861554242425,
          -88.57941889878047,
          -86.3414257037931,
          -96.72070918222222,
          -85.33354005392157,
          -91.95932790769231,
          -71.34543366129033,
          -76.77595584444444,
          -71.1661214,
          -84.03920615931936,
          -93.74651232731591,
          -92.3537819375839,
          -89.6722033653846,
          -111.56985717857143,
          -79.76434644112554,
          -98.69940205277777,
          -97.78964983846154,
          -71.39264198095238,
          -74.4804454331884,
          -106.57989203902439,
          -116.00810157551021,
          -74.83666441749263,
          -83.13128711769231,
          -97.03794583731344,
          -122.61687731196581,
          -77.89222372741116,
          -71.43262282857144,
          -81.275386174,
          -98.237233304,
          -86.01817157784811,
          -97.26281626886305,
          -112.0091118783019,
          -77.99691915034013,
          -72.890002109375,
          -121.57048115958904,
          -89.20380258708609,
          -80.53789537499999,
          -107.40980571666667
         ],
         "marker": {
          "color": "#636efa",
          "opacity": 0.8,
          "size": [
           0,
           3,
           1,
           4,
           60,
           8,
           2,
           3,
           0,
           8,
           5,
           8,
           8,
           2,
           6,
           3,
           5,
           2,
           0,
           3,
           2,
           2,
           11,
           5,
           3,
           0,
           2,
           24,
           2,
           2,
           3,
           1,
           4,
           2,
           9,
           7,
           1,
           22,
           5,
           3,
           19,
           1,
           24,
           9,
           3,
           3,
           1,
           17,
           5,
           0,
           0
          ],
          "sizemode": "area",
          "sizeref": 0.6620408163265306
         },
         "mode": "markers",
         "name": "BD",
         "showlegend": true,
         "subplot": "mapbox",
         "type": "scattermapbox"
        },
        {
         "hovertemplate": "<b>%{hovertext}</b><br><br>Fuel Type Code=CNG<br>Total Count=%{marker.size}<br>Latitude=%{lat}<br>Longitude=%{lon}<extra></extra>",
         "hovertext": [
          "AK",
          "AL",
          "AR",
          "AZ",
          "CA",
          "CO",
          "CT",
          "DC",
          "DE",
          "FL",
          "GA",
          "HI",
          "IA",
          "ID",
          "IL",
          "IN",
          "KS",
          "KY",
          "LA",
          "MA",
          "MD",
          "ME",
          "MI",
          "MN",
          "MO",
          "MS",
          "MT",
          "NC",
          "ND",
          "NE",
          "NH",
          "NJ",
          "NM",
          "NV",
          "NY",
          "OH",
          "OK",
          "OR",
          "PA",
          "RI",
          "SC",
          "SD",
          "TN",
          "TX",
          "UT",
          "VA",
          "VT",
          "WA",
          "WI",
          "WV",
          "WY"
         ],
         "lat": [
          59.769632,
          33.149385040000006,
          35.28605478452381,
          33.32193447272727,
          35.68123785988946,
          39.65038613061905,
          41.468994677710846,
          38.90908324368421,
          39.284420823846155,
          27.87361186523077,
          33.43758773315508,
          21.134644521633987,
          42.01044740431373,
          43.71873369393939,
          41.051554351634145,
          40.308852056896555,
          38.49387393111111,
          38.001259122549016,
          31.03886318653846,
          42.21212110752688,
          39.12464393333333,
          43.79046214375,
          42.71156794502618,
          45.01279086698337,
          38.50542361006711,
          32.61881825769231,
          46.40108460714286,
          35.63475296939394,
          47.30727818333333,
          41.282287821978024,
          43.411488266666666,
          40.306625672753626,
          34.689143970731706,
          37.304669120408164,
          41.87460270554572,
          40.35206921115385,
          35.69378745223881,
          44.84587781025641,
          40.44079077888325,
          41.72494232857143,
          34.2017080715,
          44.329451762999994,
          35.93222569240506,
          31.09553660235142,
          39.90424470188679,
          37.784979639795914,
          44.033605884375,
          47.41322754924657,
          43.85164825629139,
          38.961762346428564,
          41.93267832083333
         ],
         "legendgroup": "CNG",
         "lon": [
          -142.24668450000001,
          -86.57578833857143,
          -92.73385822380953,
          -112.00244725194806,
          -119.59373160773809,
          -105.23319142571428,
          -72.87198358493977,
          -77.02888349842105,
          -75.48205707923077,
          -81.65970471215384,
          -84.01403285240642,
          -157.4984723228758,
          -93.33293725529411,
          -114.88861554242425,
          -88.57941889878047,
          -86.3414257037931,
          -96.72070918222222,
          -85.33354005392157,
          -91.95932790769231,
          -71.34543366129033,
          -76.77595584444444,
          -71.1661214,
          -84.03920615931936,
          -93.74651232731591,
          -92.3537819375839,
          -89.6722033653846,
          -111.56985717857143,
          -79.76434644112554,
          -98.69940205277777,
          -97.78964983846154,
          -71.39264198095238,
          -74.4804454331884,
          -106.57989203902439,
          -116.00810157551021,
          -74.83666441749263,
          -83.13128711769231,
          -97.03794583731344,
          -122.61687731196581,
          -77.89222372741116,
          -71.43262282857144,
          -81.275386174,
          -98.237233304,
          -86.01817157784811,
          -97.26281626886305,
          -112.0091118783019,
          -77.99691915034013,
          -72.890002109375,
          -121.57048115958904,
          -89.20380258708609,
          -80.53789537499999,
          -107.40980571666667
         ],
         "marker": {
          "color": "#EF553B",
          "opacity": 0.8,
          "size": [
           1,
           10,
           10,
           12,
           180,
           17,
           7,
           0,
           1,
           21,
           19,
           0,
           5,
           2,
           24,
           21,
           7,
           6,
           18,
           12,
           3,
           1,
           15,
           12,
           8,
           5,
           0,
           23,
           0,
           8,
           2,
           8,
           9,
           6,
           86,
           32,
           89,
           4,
           35,
           3,
           5,
           0,
           11,
           74,
           45,
           8,
           2,
           6,
           54,
           3,
           7
          ],
          "sizemode": "area",
          "sizeref": 0.6620408163265306
         },
         "mode": "markers",
         "name": "CNG",
         "showlegend": true,
         "subplot": "mapbox",
         "type": "scattermapbox"
        },
        {
         "hovertemplate": "<b>%{hovertext}</b><br><br>Fuel Type Code=E85<br>Total Count=%{marker.size}<br>Latitude=%{lat}<br>Longitude=%{lon}<extra></extra>",
         "hovertext": [
          "AK",
          "AL",
          "AR",
          "AZ",
          "CA",
          "CO",
          "CT",
          "DC",
          "DE",
          "FL",
          "GA",
          "HI",
          "IA",
          "ID",
          "IL",
          "IN",
          "KS",
          "KY",
          "LA",
          "MA",
          "MD",
          "ME",
          "MI",
          "MN",
          "MO",
          "MS",
          "MT",
          "NC",
          "ND",
          "NE",
          "NH",
          "NJ",
          "NM",
          "NV",
          "NY",
          "OH",
          "OK",
          "OR",
          "PA",
          "RI",
          "SC",
          "SD",
          "TN",
          "TX",
          "UT",
          "VA",
          "VT",
          "WA",
          "WI",
          "WV",
          "WY"
         ],
         "lat": [
          59.769632,
          33.149385040000006,
          35.28605478452381,
          33.32193447272727,
          35.68123785988946,
          39.65038613061905,
          41.468994677710846,
          38.90908324368421,
          39.284420823846155,
          27.87361186523077,
          33.43758773315508,
          21.134644521633987,
          42.01044740431373,
          43.71873369393939,
          41.051554351634145,
          40.308852056896555,
          38.49387393111111,
          38.001259122549016,
          31.03886318653846,
          42.21212110752688,
          39.12464393333333,
          43.79046214375,
          42.71156794502618,
          45.01279086698337,
          38.50542361006711,
          32.61881825769231,
          46.40108460714286,
          35.63475296939394,
          47.30727818333333,
          41.282287821978024,
          43.411488266666666,
          40.306625672753626,
          34.689143970731706,
          37.304669120408164,
          41.87460270554572,
          40.35206921115385,
          35.69378745223881,
          44.84587781025641,
          40.44079077888325,
          41.72494232857143,
          34.2017080715,
          44.329451762999994,
          35.93222569240506,
          31.09553660235142,
          39.90424470188679,
          37.784979639795914,
          44.033605884375,
          47.41322754924657,
          43.85164825629139,
          38.961762346428564,
          41.93267832083333
         ],
         "legendgroup": "E85",
         "lon": [
          -142.24668450000001,
          -86.57578833857143,
          -92.73385822380953,
          -112.00244725194806,
          -119.59373160773809,
          -105.23319142571428,
          -72.87198358493977,
          -77.02888349842105,
          -75.48205707923077,
          -81.65970471215384,
          -84.01403285240642,
          -157.4984723228758,
          -93.33293725529411,
          -114.88861554242425,
          -88.57941889878047,
          -86.3414257037931,
          -96.72070918222222,
          -85.33354005392157,
          -91.95932790769231,
          -71.34543366129033,
          -76.77595584444444,
          -71.1661214,
          -84.03920615931936,
          -93.74651232731591,
          -92.3537819375839,
          -89.6722033653846,
          -111.56985717857143,
          -79.76434644112554,
          -98.69940205277777,
          -97.78964983846154,
          -71.39264198095238,
          -74.4804454331884,
          -106.57989203902439,
          -116.00810157551021,
          -74.83666441749263,
          -83.13128711769231,
          -97.03794583731344,
          -122.61687731196581,
          -77.89222372741116,
          -71.43262282857144,
          -81.275386174,
          -98.237233304,
          -86.01817157784811,
          -97.26281626886305,
          -112.0091118783019,
          -77.99691915034013,
          -72.890002109375,
          -121.57048115958904,
          -89.20380258708609,
          -80.53789537499999,
          -107.40980571666667
         ],
         "marker": {
          "color": "#00cc96",
          "opacity": 0.8,
          "size": [
           0,
           25,
           44,
           24,
           83,
           79,
           2,
           1,
           0,
           55,
           37,
           0,
           201,
           5,
           218,
           188,
           23,
           60,
           8,
           9,
           18,
           0,
           232,
           268,
           102,
           3,
           1,
           12,
           65,
           75,
           0,
           3,
           9,
           21,
           80,
           126,
           25,
           5,
           36,
           0,
           65,
           85,
           63,
           126,
           3,
           11,
           0,
           10,
           150,
           7,
           6
          ],
          "sizemode": "area",
          "sizeref": 0.6620408163265306
         },
         "mode": "markers",
         "name": "E85",
         "showlegend": true,
         "subplot": "mapbox",
         "type": "scattermapbox"
        },
        {
         "hovertemplate": "<b>%{hovertext}</b><br><br>Fuel Type Code=ELEC<br>Total Count=%{marker.size}<br>Latitude=%{lat}<br>Longitude=%{lon}<extra></extra>",
         "hovertext": [
          "AK",
          "AL",
          "AR",
          "AZ",
          "CA",
          "CO",
          "CT",
          "DC",
          "DE",
          "FL",
          "GA",
          "HI",
          "IA",
          "ID",
          "IL",
          "IN",
          "KS",
          "KY",
          "LA",
          "MA",
          "MD",
          "ME",
          "MI",
          "MN",
          "MO",
          "MS",
          "MT",
          "NC",
          "ND",
          "NE",
          "NH",
          "NJ",
          "NM",
          "NV",
          "NY",
          "OH",
          "OK",
          "OR",
          "PA",
          "RI",
          "SC",
          "SD",
          "TN",
          "TX",
          "UT",
          "VA",
          "VT",
          "WA",
          "WI",
          "WV",
          "WY"
         ],
         "lat": [
          59.769632,
          33.149385040000006,
          35.28605478452381,
          33.32193447272727,
          35.68123785988946,
          39.65038613061905,
          41.468994677710846,
          38.90908324368421,
          39.284420823846155,
          27.87361186523077,
          33.43758773315508,
          21.134644521633987,
          42.01044740431373,
          43.71873369393939,
          41.051554351634145,
          40.308852056896555,
          38.49387393111111,
          38.001259122549016,
          31.03886318653846,
          42.21212110752688,
          39.12464393333333,
          43.79046214375,
          42.71156794502618,
          45.01279086698337,
          38.50542361006711,
          32.61881825769231,
          46.40108460714286,
          35.63475296939394,
          47.30727818333333,
          41.282287821978024,
          43.411488266666666,
          40.306625672753626,
          34.689143970731706,
          37.304669120408164,
          41.87460270554572,
          40.35206921115385,
          35.69378745223881,
          44.84587781025641,
          40.44079077888325,
          41.72494232857143,
          34.2017080715,
          44.329451762999994,
          35.93222569240506,
          31.09553660235142,
          39.90424470188679,
          37.784979639795914,
          44.033605884375,
          47.41322754924657,
          43.85164825629139,
          38.961762346428564,
          41.93267832083333
         ],
         "legendgroup": "ELEC",
         "lon": [
          -142.24668450000001,
          -86.57578833857143,
          -92.73385822380953,
          -112.00244725194806,
          -119.59373160773809,
          -105.23319142571428,
          -72.87198358493977,
          -77.02888349842105,
          -75.48205707923077,
          -81.65970471215384,
          -84.01403285240642,
          -157.4984723228758,
          -93.33293725529411,
          -114.88861554242425,
          -88.57941889878047,
          -86.3414257037931,
          -96.72070918222222,
          -85.33354005392157,
          -91.95932790769231,
          -71.34543366129033,
          -76.77595584444444,
          -71.1661214,
          -84.03920615931936,
          -93.74651232731591,
          -92.3537819375839,
          -89.6722033653846,
          -111.56985717857143,
          -79.76434644112554,
          -98.69940205277777,
          -97.78964983846154,
          -71.39264198095238,
          -74.4804454331884,
          -106.57989203902439,
          -116.00810157551021,
          -74.83666441749263,
          -83.13128711769231,
          -97.03794583731344,
          -122.61687731196581,
          -77.89222372741116,
          -71.43262282857144,
          -81.275386174,
          -98.237233304,
          -86.01817157784811,
          -97.26281626886305,
          -112.0091118783019,
          -77.99691915034013,
          -72.890002109375,
          -121.57048115958904,
          -89.20380258708609,
          -80.53789537499999,
          -107.40980571666667
         ],
         "marker": {
          "color": "#ab63fa",
          "opacity": 0.8,
          "size": [
           1,
           27,
           23,
           28,
           811,
           101,
           153,
           15,
           10,
           167,
           114,
           145,
           36,
           14,
           151,
           68,
           53,
           28,
           24,
           66,
           56,
           29,
           122,
           133,
           28,
           14,
           8,
           169,
           3,
           3,
           37,
           56,
           15,
           12,
           159,
           81,
           17,
           81,
           115,
           8,
           104,
           8,
           55,
           155,
           36,
           121,
           29,
           109,
           88,
           17,
           4
          ],
          "sizemode": "area",
          "sizeref": 0.6620408163265306
         },
         "mode": "markers",
         "name": "ELEC",
         "showlegend": true,
         "subplot": "mapbox",
         "type": "scattermapbox"
        },
        {
         "hovertemplate": "<b>%{hovertext}</b><br><br>Fuel Type Code=HY<br>Total Count=%{marker.size}<br>Latitude=%{lat}<br>Longitude=%{lon}<extra></extra>",
         "hovertext": [
          "AK",
          "AL",
          "AR",
          "AZ",
          "CA",
          "CO",
          "CT",
          "DC",
          "DE",
          "FL",
          "GA",
          "HI",
          "IA",
          "ID",
          "IL",
          "IN",
          "KS",
          "KY",
          "LA",
          "MA",
          "MD",
          "ME",
          "MI",
          "MN",
          "MO",
          "MS",
          "MT",
          "NC",
          "ND",
          "NE",
          "NH",
          "NJ",
          "NM",
          "NV",
          "NY",
          "OH",
          "OK",
          "OR",
          "PA",
          "RI",
          "SC",
          "SD",
          "TN",
          "TX",
          "UT",
          "VA",
          "VT",
          "WA",
          "WI",
          "WV",
          "WY"
         ],
         "lat": [
          59.769632,
          33.149385040000006,
          35.28605478452381,
          33.32193447272727,
          35.68123785988946,
          39.65038613061905,
          41.468994677710846,
          38.90908324368421,
          39.284420823846155,
          27.87361186523077,
          33.43758773315508,
          21.134644521633987,
          42.01044740431373,
          43.71873369393939,
          41.051554351634145,
          40.308852056896555,
          38.49387393111111,
          38.001259122549016,
          31.03886318653846,
          42.21212110752688,
          39.12464393333333,
          43.79046214375,
          42.71156794502618,
          45.01279086698337,
          38.50542361006711,
          32.61881825769231,
          46.40108460714286,
          35.63475296939394,
          47.30727818333333,
          41.282287821978024,
          43.411488266666666,
          40.306625672753626,
          34.689143970731706,
          37.304669120408164,
          41.87460270554572,
          40.35206921115385,
          35.69378745223881,
          44.84587781025641,
          40.44079077888325,
          41.72494232857143,
          34.2017080715,
          44.329451762999994,
          35.93222569240506,
          31.09553660235142,
          39.90424470188679,
          37.784979639795914,
          44.033605884375,
          47.41322754924657,
          43.85164825629139,
          38.961762346428564,
          41.93267832083333
         ],
         "legendgroup": "HY",
         "lon": [
          -142.24668450000001,
          -86.57578833857143,
          -92.73385822380953,
          -112.00244725194806,
          -119.59373160773809,
          -105.23319142571428,
          -72.87198358493977,
          -77.02888349842105,
          -75.48205707923077,
          -81.65970471215384,
          -84.01403285240642,
          -157.4984723228758,
          -93.33293725529411,
          -114.88861554242425,
          -88.57941889878047,
          -86.3414257037931,
          -96.72070918222222,
          -85.33354005392157,
          -91.95932790769231,
          -71.34543366129033,
          -76.77595584444444,
          -71.1661214,
          -84.03920615931936,
          -93.74651232731591,
          -92.3537819375839,
          -89.6722033653846,
          -111.56985717857143,
          -79.76434644112554,
          -98.69940205277777,
          -97.78964983846154,
          -71.39264198095238,
          -74.4804454331884,
          -106.57989203902439,
          -116.00810157551021,
          -74.83666441749263,
          -83.13128711769231,
          -97.03794583731344,
          -122.61687731196581,
          -77.89222372741116,
          -71.43262282857144,
          -81.275386174,
          -98.237233304,
          -86.01817157784811,
          -97.26281626886305,
          -112.0091118783019,
          -77.99691915034013,
          -72.890002109375,
          -121.57048115958904,
          -89.20380258708609,
          -80.53789537499999,
          -107.40980571666667
         ],
         "marker": {
          "color": "#FFA15A",
          "opacity": 0.8,
          "size": [
           0,
           0,
           0,
           0,
           9,
           0,
           1,
           0,
           0,
           0,
           0,
           0,
           0,
           0,
           0,
           0,
           0,
           0,
           0,
           0,
           0,
           0,
           0,
           0,
           0,
           0,
           0,
           0,
           0,
           0,
           0,
           0,
           0,
           0,
           0,
           0,
           0,
           0,
           0,
           0,
           0,
           0,
           0,
           0,
           0,
           0,
           0,
           0,
           0,
           0,
           0
          ],
          "sizemode": "area",
          "sizeref": 0.6620408163265306
         },
         "mode": "markers",
         "name": "HY",
         "showlegend": true,
         "subplot": "mapbox",
         "type": "scattermapbox"
        },
        {
         "hovertemplate": "<b>%{hovertext}</b><br><br>Fuel Type Code=LNG<br>Total Count=%{marker.size}<br>Latitude=%{lat}<br>Longitude=%{lon}<extra></extra>",
         "hovertext": [
          "AK",
          "AL",
          "AR",
          "AZ",
          "CA",
          "CO",
          "CT",
          "DC",
          "DE",
          "FL",
          "GA",
          "HI",
          "IA",
          "ID",
          "IL",
          "IN",
          "KS",
          "KY",
          "LA",
          "MA",
          "MD",
          "ME",
          "MI",
          "MN",
          "MO",
          "MS",
          "MT",
          "NC",
          "ND",
          "NE",
          "NH",
          "NJ",
          "NM",
          "NV",
          "NY",
          "OH",
          "OK",
          "OR",
          "PA",
          "RI",
          "SC",
          "SD",
          "TN",
          "TX",
          "UT",
          "VA",
          "VT",
          "WA",
          "WI",
          "WV",
          "WY"
         ],
         "lat": [
          59.769632,
          33.149385040000006,
          35.28605478452381,
          33.32193447272727,
          35.68123785988946,
          39.65038613061905,
          41.468994677710846,
          38.90908324368421,
          39.284420823846155,
          27.87361186523077,
          33.43758773315508,
          21.134644521633987,
          42.01044740431373,
          43.71873369393939,
          41.051554351634145,
          40.308852056896555,
          38.49387393111111,
          38.001259122549016,
          31.03886318653846,
          42.21212110752688,
          39.12464393333333,
          43.79046214375,
          42.71156794502618,
          45.01279086698337,
          38.50542361006711,
          32.61881825769231,
          46.40108460714286,
          35.63475296939394,
          47.30727818333333,
          41.282287821978024,
          43.411488266666666,
          40.306625672753626,
          34.689143970731706,
          37.304669120408164,
          41.87460270554572,
          40.35206921115385,
          35.69378745223881,
          44.84587781025641,
          40.44079077888325,
          41.72494232857143,
          34.2017080715,
          44.329451762999994,
          35.93222569240506,
          31.09553660235142,
          39.90424470188679,
          37.784979639795914,
          44.033605884375,
          47.41322754924657,
          43.85164825629139,
          38.961762346428564,
          41.93267832083333
         ],
         "legendgroup": "LNG",
         "lon": [
          -142.24668450000001,
          -86.57578833857143,
          -92.73385822380953,
          -112.00244725194806,
          -119.59373160773809,
          -105.23319142571428,
          -72.87198358493977,
          -77.02888349842105,
          -75.48205707923077,
          -81.65970471215384,
          -84.01403285240642,
          -157.4984723228758,
          -93.33293725529411,
          -114.88861554242425,
          -88.57941889878047,
          -86.3414257037931,
          -96.72070918222222,
          -85.33354005392157,
          -91.95932790769231,
          -71.34543366129033,
          -76.77595584444444,
          -71.1661214,
          -84.03920615931936,
          -93.74651232731591,
          -92.3537819375839,
          -89.6722033653846,
          -111.56985717857143,
          -79.76434644112554,
          -98.69940205277777,
          -97.78964983846154,
          -71.39264198095238,
          -74.4804454331884,
          -106.57989203902439,
          -116.00810157551021,
          -74.83666441749263,
          -83.13128711769231,
          -97.03794583731344,
          -122.61687731196581,
          -77.89222372741116,
          -71.43262282857144,
          -81.275386174,
          -98.237233304,
          -86.01817157784811,
          -97.26281626886305,
          -112.0091118783019,
          -77.99691915034013,
          -72.890002109375,
          -121.57048115958904,
          -89.20380258708609,
          -80.53789537499999,
          -107.40980571666667
         ],
         "marker": {
          "color": "#19d3f3",
          "opacity": 0.8,
          "size": [
           0,
           2,
           1,
           2,
           18,
           0,
           1,
           0,
           0,
           1,
           4,
           0,
           0,
           7,
           1,
           2,
           0,
           1,
           2,
           1,
           0,
           0,
           0,
           0,
           0,
           0,
           0,
           1,
           0,
           0,
           0,
           0,
           1,
           3,
           0,
           3,
           1,
           1,
           1,
           0,
           1,
           0,
           2,
           11,
           6,
           0,
           0,
           1,
           1,
           0,
           0
          ],
          "sizemode": "area",
          "sizeref": 0.6620408163265306
         },
         "mode": "markers",
         "name": "LNG",
         "showlegend": true,
         "subplot": "mapbox",
         "type": "scattermapbox"
        },
        {
         "hovertemplate": "<b>%{hovertext}</b><br><br>Fuel Type Code=LPG<br>Total Count=%{marker.size}<br>Latitude=%{lat}<br>Longitude=%{lon}<extra></extra>",
         "hovertext": [
          "AK",
          "AL",
          "AR",
          "AZ",
          "CA",
          "CO",
          "CT",
          "DC",
          "DE",
          "FL",
          "GA",
          "HI",
          "IA",
          "ID",
          "IL",
          "IN",
          "KS",
          "KY",
          "LA",
          "MA",
          "MD",
          "ME",
          "MI",
          "MN",
          "MO",
          "MS",
          "MT",
          "NC",
          "ND",
          "NE",
          "NH",
          "NJ",
          "NM",
          "NV",
          "NY",
          "OH",
          "OK",
          "OR",
          "PA",
          "RI",
          "SC",
          "SD",
          "TN",
          "TX",
          "UT",
          "VA",
          "VT",
          "WA",
          "WI",
          "WV",
          "WY"
         ],
         "lat": [
          59.769632,
          33.149385040000006,
          35.28605478452381,
          33.32193447272727,
          35.68123785988946,
          39.65038613061905,
          41.468994677710846,
          38.90908324368421,
          39.284420823846155,
          27.87361186523077,
          33.43758773315508,
          21.134644521633987,
          42.01044740431373,
          43.71873369393939,
          41.051554351634145,
          40.308852056896555,
          38.49387393111111,
          38.001259122549016,
          31.03886318653846,
          42.21212110752688,
          39.12464393333333,
          43.79046214375,
          42.71156794502618,
          45.01279086698337,
          38.50542361006711,
          32.61881825769231,
          46.40108460714286,
          35.63475296939394,
          47.30727818333333,
          41.282287821978024,
          43.411488266666666,
          40.306625672753626,
          34.689143970731706,
          37.304669120408164,
          41.87460270554572,
          40.35206921115385,
          35.69378745223881,
          44.84587781025641,
          40.44079077888325,
          41.72494232857143,
          34.2017080715,
          44.329451762999994,
          35.93222569240506,
          31.09553660235142,
          39.90424470188679,
          37.784979639795914,
          44.033605884375,
          47.41322754924657,
          43.85164825629139,
          38.961762346428564,
          41.93267832083333
         ],
         "legendgroup": "LPG",
         "lon": [
          -142.24668450000001,
          -86.57578833857143,
          -92.73385822380953,
          -112.00244725194806,
          -119.59373160773809,
          -105.23319142571428,
          -72.87198358493977,
          -77.02888349842105,
          -75.48205707923077,
          -81.65970471215384,
          -84.01403285240642,
          -157.4984723228758,
          -93.33293725529411,
          -114.88861554242425,
          -88.57941889878047,
          -86.3414257037931,
          -96.72070918222222,
          -85.33354005392157,
          -91.95932790769231,
          -71.34543366129033,
          -76.77595584444444,
          -71.1661214,
          -84.03920615931936,
          -93.74651232731591,
          -92.3537819375839,
          -89.6722033653846,
          -111.56985717857143,
          -79.76434644112554,
          -98.69940205277777,
          -97.78964983846154,
          -71.39264198095238,
          -74.4804454331884,
          -106.57989203902439,
          -116.00810157551021,
          -74.83666441749263,
          -83.13128711769231,
          -97.03794583731344,
          -122.61687731196581,
          -77.89222372741116,
          -71.43262282857144,
          -81.275386174,
          -98.237233304,
          -86.01817157784811,
          -97.26281626886305,
          -112.0091118783019,
          -77.99691915034013,
          -72.890002109375,
          -121.57048115958904,
          -89.20380258708609,
          -80.53789537499999,
          -107.40980571666667
         ],
         "marker": {
          "color": "#FF6692",
          "opacity": 0.8,
          "size": [
           0,
           3,
           5,
           7,
           15,
           5,
           0,
           0,
           2,
           8,
           8,
           0,
           5,
           3,
           10,
           8,
           2,
           5,
           0,
           2,
           2,
           0,
           2,
           3,
           8,
           4,
           3,
           2,
           2,
           3,
           0,
           1,
           3,
           5,
           5,
           11,
           1,
           4,
           5,
           0,
           6,
           6,
           3,
           12,
           13,
           4,
           0,
           3,
           4,
           1,
           7
          ],
          "sizemode": "area",
          "sizeref": 0.6620408163265306
         },
         "mode": "markers",
         "name": "LPG",
         "showlegend": true,
         "subplot": "mapbox",
         "type": "scattermapbox"
        }
       ],
       "layout": {
        "legend": {
         "itemsizing": "constant",
         "orientation": "h",
         "title": {
          "text": "Fuel Type Code"
         },
         "tracegroupgap": 0,
         "x": 0.5,
         "xanchor": "center",
         "y": -0.3,
         "yanchor": "bottom"
        },
        "mapbox": {
         "center": {
          "lat": 39.37797753905008,
          "lon": -93.1537177984001
         },
         "domain": {
          "x": [
           0,
           1
          ],
          "y": [
           0,
           1
          ]
         },
         "style": "open-street-map",
         "zoom": 3
        },
        "margin": {
         "b": 0,
         "l": 0,
         "r": 0,
         "t": 50
        },
        "template": {
         "data": {
          "bar": [
           {
            "error_x": {
             "color": "#2a3f5f"
            },
            "error_y": {
             "color": "#2a3f5f"
            },
            "marker": {
             "line": {
              "color": "#E5ECF6",
              "width": 0.5
             },
             "pattern": {
              "fillmode": "overlay",
              "size": 10,
              "solidity": 0.2
             }
            },
            "type": "bar"
           }
          ],
          "barpolar": [
           {
            "marker": {
             "line": {
              "color": "#E5ECF6",
              "width": 0.5
             },
             "pattern": {
              "fillmode": "overlay",
              "size": 10,
              "solidity": 0.2
             }
            },
            "type": "barpolar"
           }
          ],
          "carpet": [
           {
            "aaxis": {
             "endlinecolor": "#2a3f5f",
             "gridcolor": "white",
             "linecolor": "white",
             "minorgridcolor": "white",
             "startlinecolor": "#2a3f5f"
            },
            "baxis": {
             "endlinecolor": "#2a3f5f",
             "gridcolor": "white",
             "linecolor": "white",
             "minorgridcolor": "white",
             "startlinecolor": "#2a3f5f"
            },
            "type": "carpet"
           }
          ],
          "choropleth": [
           {
            "colorbar": {
             "outlinewidth": 0,
             "ticks": ""
            },
            "type": "choropleth"
           }
          ],
          "contour": [
           {
            "colorbar": {
             "outlinewidth": 0,
             "ticks": ""
            },
            "colorscale": [
             [
              0,
              "#0d0887"
             ],
             [
              0.1111111111111111,
              "#46039f"
             ],
             [
              0.2222222222222222,
              "#7201a8"
             ],
             [
              0.3333333333333333,
              "#9c179e"
             ],
             [
              0.4444444444444444,
              "#bd3786"
             ],
             [
              0.5555555555555556,
              "#d8576b"
             ],
             [
              0.6666666666666666,
              "#ed7953"
             ],
             [
              0.7777777777777778,
              "#fb9f3a"
             ],
             [
              0.8888888888888888,
              "#fdca26"
             ],
             [
              1,
              "#f0f921"
             ]
            ],
            "type": "contour"
           }
          ],
          "contourcarpet": [
           {
            "colorbar": {
             "outlinewidth": 0,
             "ticks": ""
            },
            "type": "contourcarpet"
           }
          ],
          "heatmap": [
           {
            "colorbar": {
             "outlinewidth": 0,
             "ticks": ""
            },
            "colorscale": [
             [
              0,
              "#0d0887"
             ],
             [
              0.1111111111111111,
              "#46039f"
             ],
             [
              0.2222222222222222,
              "#7201a8"
             ],
             [
              0.3333333333333333,
              "#9c179e"
             ],
             [
              0.4444444444444444,
              "#bd3786"
             ],
             [
              0.5555555555555556,
              "#d8576b"
             ],
             [
              0.6666666666666666,
              "#ed7953"
             ],
             [
              0.7777777777777778,
              "#fb9f3a"
             ],
             [
              0.8888888888888888,
              "#fdca26"
             ],
             [
              1,
              "#f0f921"
             ]
            ],
            "type": "heatmap"
           }
          ],
          "heatmapgl": [
           {
            "colorbar": {
             "outlinewidth": 0,
             "ticks": ""
            },
            "colorscale": [
             [
              0,
              "#0d0887"
             ],
             [
              0.1111111111111111,
              "#46039f"
             ],
             [
              0.2222222222222222,
              "#7201a8"
             ],
             [
              0.3333333333333333,
              "#9c179e"
             ],
             [
              0.4444444444444444,
              "#bd3786"
             ],
             [
              0.5555555555555556,
              "#d8576b"
             ],
             [
              0.6666666666666666,
              "#ed7953"
             ],
             [
              0.7777777777777778,
              "#fb9f3a"
             ],
             [
              0.8888888888888888,
              "#fdca26"
             ],
             [
              1,
              "#f0f921"
             ]
            ],
            "type": "heatmapgl"
           }
          ],
          "histogram": [
           {
            "marker": {
             "pattern": {
              "fillmode": "overlay",
              "size": 10,
              "solidity": 0.2
             }
            },
            "type": "histogram"
           }
          ],
          "histogram2d": [
           {
            "colorbar": {
             "outlinewidth": 0,
             "ticks": ""
            },
            "colorscale": [
             [
              0,
              "#0d0887"
             ],
             [
              0.1111111111111111,
              "#46039f"
             ],
             [
              0.2222222222222222,
              "#7201a8"
             ],
             [
              0.3333333333333333,
              "#9c179e"
             ],
             [
              0.4444444444444444,
              "#bd3786"
             ],
             [
              0.5555555555555556,
              "#d8576b"
             ],
             [
              0.6666666666666666,
              "#ed7953"
             ],
             [
              0.7777777777777778,
              "#fb9f3a"
             ],
             [
              0.8888888888888888,
              "#fdca26"
             ],
             [
              1,
              "#f0f921"
             ]
            ],
            "type": "histogram2d"
           }
          ],
          "histogram2dcontour": [
           {
            "colorbar": {
             "outlinewidth": 0,
             "ticks": ""
            },
            "colorscale": [
             [
              0,
              "#0d0887"
             ],
             [
              0.1111111111111111,
              "#46039f"
             ],
             [
              0.2222222222222222,
              "#7201a8"
             ],
             [
              0.3333333333333333,
              "#9c179e"
             ],
             [
              0.4444444444444444,
              "#bd3786"
             ],
             [
              0.5555555555555556,
              "#d8576b"
             ],
             [
              0.6666666666666666,
              "#ed7953"
             ],
             [
              0.7777777777777778,
              "#fb9f3a"
             ],
             [
              0.8888888888888888,
              "#fdca26"
             ],
             [
              1,
              "#f0f921"
             ]
            ],
            "type": "histogram2dcontour"
           }
          ],
          "mesh3d": [
           {
            "colorbar": {
             "outlinewidth": 0,
             "ticks": ""
            },
            "type": "mesh3d"
           }
          ],
          "parcoords": [
           {
            "line": {
             "colorbar": {
              "outlinewidth": 0,
              "ticks": ""
             }
            },
            "type": "parcoords"
           }
          ],
          "pie": [
           {
            "automargin": true,
            "type": "pie"
           }
          ],
          "scatter": [
           {
            "fillpattern": {
             "fillmode": "overlay",
             "size": 10,
             "solidity": 0.2
            },
            "type": "scatter"
           }
          ],
          "scatter3d": [
           {
            "line": {
             "colorbar": {
              "outlinewidth": 0,
              "ticks": ""
             }
            },
            "marker": {
             "colorbar": {
              "outlinewidth": 0,
              "ticks": ""
             }
            },
            "type": "scatter3d"
           }
          ],
          "scattercarpet": [
           {
            "marker": {
             "colorbar": {
              "outlinewidth": 0,
              "ticks": ""
             }
            },
            "type": "scattercarpet"
           }
          ],
          "scattergeo": [
           {
            "marker": {
             "colorbar": {
              "outlinewidth": 0,
              "ticks": ""
             }
            },
            "type": "scattergeo"
           }
          ],
          "scattergl": [
           {
            "marker": {
             "colorbar": {
              "outlinewidth": 0,
              "ticks": ""
             }
            },
            "type": "scattergl"
           }
          ],
          "scattermapbox": [
           {
            "marker": {
             "colorbar": {
              "outlinewidth": 0,
              "ticks": ""
             }
            },
            "type": "scattermapbox"
           }
          ],
          "scatterpolar": [
           {
            "marker": {
             "colorbar": {
              "outlinewidth": 0,
              "ticks": ""
             }
            },
            "type": "scatterpolar"
           }
          ],
          "scatterpolargl": [
           {
            "marker": {
             "colorbar": {
              "outlinewidth": 0,
              "ticks": ""
             }
            },
            "type": "scatterpolargl"
           }
          ],
          "scatterternary": [
           {
            "marker": {
             "colorbar": {
              "outlinewidth": 0,
              "ticks": ""
             }
            },
            "type": "scatterternary"
           }
          ],
          "surface": [
           {
            "colorbar": {
             "outlinewidth": 0,
             "ticks": ""
            },
            "colorscale": [
             [
              0,
              "#0d0887"
             ],
             [
              0.1111111111111111,
              "#46039f"
             ],
             [
              0.2222222222222222,
              "#7201a8"
             ],
             [
              0.3333333333333333,
              "#9c179e"
             ],
             [
              0.4444444444444444,
              "#bd3786"
             ],
             [
              0.5555555555555556,
              "#d8576b"
             ],
             [
              0.6666666666666666,
              "#ed7953"
             ],
             [
              0.7777777777777778,
              "#fb9f3a"
             ],
             [
              0.8888888888888888,
              "#fdca26"
             ],
             [
              1,
              "#f0f921"
             ]
            ],
            "type": "surface"
           }
          ],
          "table": [
           {
            "cells": {
             "fill": {
              "color": "#EBF0F8"
             },
             "line": {
              "color": "white"
             }
            },
            "header": {
             "fill": {
              "color": "#C8D4E3"
             },
             "line": {
              "color": "white"
             }
            },
            "type": "table"
           }
          ]
         },
         "layout": {
          "annotationdefaults": {
           "arrowcolor": "#2a3f5f",
           "arrowhead": 0,
           "arrowwidth": 1
          },
          "autotypenumbers": "strict",
          "coloraxis": {
           "colorbar": {
            "outlinewidth": 0,
            "ticks": ""
           }
          },
          "colorscale": {
           "diverging": [
            [
             0,
             "#8e0152"
            ],
            [
             0.1,
             "#c51b7d"
            ],
            [
             0.2,
             "#de77ae"
            ],
            [
             0.3,
             "#f1b6da"
            ],
            [
             0.4,
             "#fde0ef"
            ],
            [
             0.5,
             "#f7f7f7"
            ],
            [
             0.6,
             "#e6f5d0"
            ],
            [
             0.7,
             "#b8e186"
            ],
            [
             0.8,
             "#7fbc41"
            ],
            [
             0.9,
             "#4d9221"
            ],
            [
             1,
             "#276419"
            ]
           ],
           "sequential": [
            [
             0,
             "#0d0887"
            ],
            [
             0.1111111111111111,
             "#46039f"
            ],
            [
             0.2222222222222222,
             "#7201a8"
            ],
            [
             0.3333333333333333,
             "#9c179e"
            ],
            [
             0.4444444444444444,
             "#bd3786"
            ],
            [
             0.5555555555555556,
             "#d8576b"
            ],
            [
             0.6666666666666666,
             "#ed7953"
            ],
            [
             0.7777777777777778,
             "#fb9f3a"
            ],
            [
             0.8888888888888888,
             "#fdca26"
            ],
            [
             1,
             "#f0f921"
            ]
           ],
           "sequentialminus": [
            [
             0,
             "#0d0887"
            ],
            [
             0.1111111111111111,
             "#46039f"
            ],
            [
             0.2222222222222222,
             "#7201a8"
            ],
            [
             0.3333333333333333,
             "#9c179e"
            ],
            [
             0.4444444444444444,
             "#bd3786"
            ],
            [
             0.5555555555555556,
             "#d8576b"
            ],
            [
             0.6666666666666666,
             "#ed7953"
            ],
            [
             0.7777777777777778,
             "#fb9f3a"
            ],
            [
             0.8888888888888888,
             "#fdca26"
            ],
            [
             1,
             "#f0f921"
            ]
           ]
          },
          "colorway": [
           "#636efa",
           "#EF553B",
           "#00cc96",
           "#ab63fa",
           "#FFA15A",
           "#19d3f3",
           "#FF6692",
           "#B6E880",
           "#FF97FF",
           "#FECB52"
          ],
          "font": {
           "color": "#2a3f5f"
          },
          "geo": {
           "bgcolor": "white",
           "lakecolor": "white",
           "landcolor": "#E5ECF6",
           "showlakes": true,
           "showland": true,
           "subunitcolor": "white"
          },
          "hoverlabel": {
           "align": "left"
          },
          "hovermode": "closest",
          "mapbox": {
           "style": "light"
          },
          "paper_bgcolor": "white",
          "plot_bgcolor": "#E5ECF6",
          "polar": {
           "angularaxis": {
            "gridcolor": "white",
            "linecolor": "white",
            "ticks": ""
           },
           "bgcolor": "#E5ECF6",
           "radialaxis": {
            "gridcolor": "white",
            "linecolor": "white",
            "ticks": ""
           }
          },
          "scene": {
           "xaxis": {
            "backgroundcolor": "#E5ECF6",
            "gridcolor": "white",
            "gridwidth": 2,
            "linecolor": "white",
            "showbackground": true,
            "ticks": "",
            "zerolinecolor": "white"
           },
           "yaxis": {
            "backgroundcolor": "#E5ECF6",
            "gridcolor": "white",
            "gridwidth": 2,
            "linecolor": "white",
            "showbackground": true,
            "ticks": "",
            "zerolinecolor": "white"
           },
           "zaxis": {
            "backgroundcolor": "#E5ECF6",
            "gridcolor": "white",
            "gridwidth": 2,
            "linecolor": "white",
            "showbackground": true,
            "ticks": "",
            "zerolinecolor": "white"
           }
          },
          "shapedefaults": {
           "line": {
            "color": "#2a3f5f"
           }
          },
          "ternary": {
           "aaxis": {
            "gridcolor": "white",
            "linecolor": "white",
            "ticks": ""
           },
           "baxis": {
            "gridcolor": "white",
            "linecolor": "white",
            "ticks": ""
           },
           "bgcolor": "#E5ECF6",
           "caxis": {
            "gridcolor": "white",
            "linecolor": "white",
            "ticks": ""
           }
          },
          "title": {
           "x": 0.05
          },
          "xaxis": {
           "automargin": true,
           "gridcolor": "white",
           "linecolor": "white",
           "ticks": "",
           "title": {
            "standoff": 15
           },
           "zerolinecolor": "white",
           "zerolinewidth": 2
          },
          "yaxis": {
           "automargin": true,
           "gridcolor": "white",
           "linecolor": "white",
           "ticks": "",
           "title": {
            "standoff": 15
           },
           "zerolinecolor": "white",
           "zerolinewidth": 2
          }
         }
        },
        "title": {
         "text": "Distribution of Fuel Type Codes by State",
         "x": 0.5,
         "xanchor": "center",
         "yanchor": "top"
        }
       }
      }
     },
     "metadata": {},
     "output_type": "display_data"
    }
   ],
   "source": [
    "import plotly.express as px\n",
    "\n",
    "fig_map = px.scatter_mapbox(\n",
    "    df_long,\n",
    "    lat='Latitude',\n",
    "    lon='Longitude',\n",
    "    size='Count',  # Size of markers represents the count of each fuel type\n",
    "    color='Fuel Type Code',  # Color by fuel type code\n",
    "    hover_name='State',\n",
    "    size_max=35,\n",
    "    zoom=3,  # Adjust the zoom level to show the USA\n",
    "    title='Distribution of Fuel Type Codes by State',\n",
    "    labels={'Count': 'Total Count'},\n",
    "    opacity=0.8  # Make bubbles semi-transparent\n",
    ")\n",
    "\n",
    "fig_map.update_layout(\n",
    "    mapbox_style=\"open-street-map\",\n",
    "    title={\n",
    "        'text': 'Distribution of Fuel Type Codes by State',\n",
    "        'x': 0.5,\n",
    "        'xanchor': 'center',\n",
    "        'yanchor': 'top'\n",
    "    },\n",
    "    legend={\n",
    "        'orientation': 'h',\n",
    "        'yanchor': 'bottom',\n",
    "        'y': -0.3,\n",
    "        'xanchor': 'center',\n",
    "        'x': 0.5\n",
    "    },\n",
    "    margin=dict(l=0, r=0, t=50, b=0)\n",
    ")\n",
    "\n",
    "fig_map.show()"
   ]
  },
  {
   "cell_type": "code",
   "execution_count": 31,
   "metadata": {},
   "outputs": [
    {
     "data": {
      "application/vnd.plotly.v1+json": {
       "config": {
        "plotlyServerURL": "https://plot.ly"
       },
       "data": [
        {
         "alignmentgroup": "True",
         "hovertemplate": "Fuel Type Code=CNG<br>Count=%{text}<br>State=%{y}<extra></extra>",
         "legendgroup": "CNG",
         "marker": {
          "color": "#636efa",
          "pattern": {
           "shape": ""
          }
         },
         "name": "CNG",
         "offsetgroup": "CNG",
         "orientation": "h",
         "showlegend": true,
         "text": [
          1,
          10,
          10,
          12,
          180,
          17,
          7,
          1,
          21,
          19,
          5,
          2,
          24,
          21,
          7,
          6,
          18,
          12,
          3,
          1,
          15,
          12,
          8,
          5,
          23,
          8,
          2,
          8,
          9,
          6,
          86,
          32,
          89,
          4,
          35,
          3,
          5,
          11,
          74,
          45,
          8,
          2,
          6,
          54,
          3,
          7
         ],
         "textposition": "auto",
         "type": "bar",
         "x": [
          1,
          10,
          10,
          12,
          180,
          17,
          7,
          1,
          21,
          19,
          5,
          2,
          24,
          21,
          7,
          6,
          18,
          12,
          3,
          1,
          15,
          12,
          8,
          5,
          23,
          8,
          2,
          8,
          9,
          6,
          86,
          32,
          89,
          4,
          35,
          3,
          5,
          11,
          74,
          45,
          8,
          2,
          6,
          54,
          3,
          7
         ],
         "xaxis": "x",
         "y": [
          "AK",
          "AL",
          "AR",
          "AZ",
          "CA",
          "CO",
          "CT",
          "DE",
          "FL",
          "GA",
          "IA",
          "ID",
          "IL",
          "IN",
          "KS",
          "KY",
          "LA",
          "MA",
          "MD",
          "ME",
          "MI",
          "MN",
          "MO",
          "MS",
          "NC",
          "NE",
          "NH",
          "NJ",
          "NM",
          "NV",
          "NY",
          "OH",
          "OK",
          "OR",
          "PA",
          "RI",
          "SC",
          "TN",
          "TX",
          "UT",
          "VA",
          "VT",
          "WA",
          "WI",
          "WV",
          "WY"
         ],
         "yaxis": "y"
        },
        {
         "alignmentgroup": "True",
         "hovertemplate": "Fuel Type Code=ELEC<br>Count=%{text}<br>State=%{y}<extra></extra>",
         "legendgroup": "ELEC",
         "marker": {
          "color": "#EF553B",
          "pattern": {
           "shape": ""
          }
         },
         "name": "ELEC",
         "offsetgroup": "ELEC",
         "orientation": "h",
         "showlegend": true,
         "text": [
          1,
          27,
          23,
          28,
          811,
          101,
          153,
          15,
          10,
          167,
          114,
          145,
          36,
          14,
          151,
          68,
          53,
          28,
          24,
          66,
          56,
          29,
          122,
          133,
          28,
          14,
          8,
          169,
          3,
          3,
          37,
          56,
          15,
          12,
          159,
          81,
          17,
          81,
          115,
          8,
          104,
          8,
          55,
          155,
          36,
          121,
          29,
          109,
          88,
          17,
          4
         ],
         "textposition": "auto",
         "type": "bar",
         "x": [
          1,
          27,
          23,
          28,
          811,
          101,
          153,
          15,
          10,
          167,
          114,
          145,
          36,
          14,
          151,
          68,
          53,
          28,
          24,
          66,
          56,
          29,
          122,
          133,
          28,
          14,
          8,
          169,
          3,
          3,
          37,
          56,
          15,
          12,
          159,
          81,
          17,
          81,
          115,
          8,
          104,
          8,
          55,
          155,
          36,
          121,
          29,
          109,
          88,
          17,
          4
         ],
         "xaxis": "x",
         "y": [
          "AK",
          "AL",
          "AR",
          "AZ",
          "CA",
          "CO",
          "CT",
          "DC",
          "DE",
          "FL",
          "GA",
          "HI",
          "IA",
          "ID",
          "IL",
          "IN",
          "KS",
          "KY",
          "LA",
          "MA",
          "MD",
          "ME",
          "MI",
          "MN",
          "MO",
          "MS",
          "MT",
          "NC",
          "ND",
          "NE",
          "NH",
          "NJ",
          "NM",
          "NV",
          "NY",
          "OH",
          "OK",
          "OR",
          "PA",
          "RI",
          "SC",
          "SD",
          "TN",
          "TX",
          "UT",
          "VA",
          "VT",
          "WA",
          "WI",
          "WV",
          "WY"
         ],
         "yaxis": "y"
        },
        {
         "alignmentgroup": "True",
         "hovertemplate": "Fuel Type Code=BD<br>Count=%{text}<br>State=%{y}<extra></extra>",
         "legendgroup": "BD",
         "marker": {
          "color": "#00cc96",
          "pattern": {
           "shape": ""
          }
         },
         "name": "BD",
         "offsetgroup": "BD",
         "orientation": "h",
         "showlegend": true,
         "text": [
          3,
          1,
          4,
          60,
          8,
          2,
          3,
          8,
          5,
          8,
          8,
          2,
          6,
          3,
          5,
          2,
          3,
          2,
          2,
          11,
          5,
          3,
          2,
          24,
          2,
          2,
          3,
          1,
          4,
          2,
          9,
          7,
          1,
          22,
          5,
          3,
          19,
          1,
          24,
          9,
          3,
          3,
          1,
          17,
          5
         ],
         "textposition": "auto",
         "type": "bar",
         "x": [
          3,
          1,
          4,
          60,
          8,
          2,
          3,
          8,
          5,
          8,
          8,
          2,
          6,
          3,
          5,
          2,
          3,
          2,
          2,
          11,
          5,
          3,
          2,
          24,
          2,
          2,
          3,
          1,
          4,
          2,
          9,
          7,
          1,
          22,
          5,
          3,
          19,
          1,
          24,
          9,
          3,
          3,
          1,
          17,
          5
         ],
         "xaxis": "x",
         "y": [
          "AL",
          "AR",
          "AZ",
          "CA",
          "CO",
          "CT",
          "DC",
          "FL",
          "GA",
          "HI",
          "IA",
          "ID",
          "IL",
          "IN",
          "KS",
          "KY",
          "MA",
          "MD",
          "ME",
          "MI",
          "MN",
          "MO",
          "MT",
          "NC",
          "ND",
          "NE",
          "NH",
          "NJ",
          "NM",
          "NV",
          "NY",
          "OH",
          "OK",
          "OR",
          "PA",
          "RI",
          "SC",
          "SD",
          "TN",
          "TX",
          "UT",
          "VA",
          "VT",
          "WA",
          "WI"
         ],
         "yaxis": "y"
        },
        {
         "alignmentgroup": "True",
         "hovertemplate": "Fuel Type Code=E85<br>Count=%{text}<br>State=%{y}<extra></extra>",
         "legendgroup": "E85",
         "marker": {
          "color": "#ab63fa",
          "pattern": {
           "shape": ""
          }
         },
         "name": "E85",
         "offsetgroup": "E85",
         "orientation": "h",
         "showlegend": true,
         "text": [
          25,
          44,
          24,
          83,
          79,
          2,
          1,
          55,
          37,
          201,
          5,
          218,
          188,
          23,
          60,
          8,
          9,
          18,
          232,
          268,
          102,
          3,
          1,
          12,
          65,
          75,
          3,
          9,
          21,
          80,
          126,
          25,
          5,
          36,
          65,
          85,
          63,
          126,
          3,
          11,
          10,
          150,
          7,
          6
         ],
         "textposition": "auto",
         "type": "bar",
         "x": [
          25,
          44,
          24,
          83,
          79,
          2,
          1,
          55,
          37,
          201,
          5,
          218,
          188,
          23,
          60,
          8,
          9,
          18,
          232,
          268,
          102,
          3,
          1,
          12,
          65,
          75,
          3,
          9,
          21,
          80,
          126,
          25,
          5,
          36,
          65,
          85,
          63,
          126,
          3,
          11,
          10,
          150,
          7,
          6
         ],
         "xaxis": "x",
         "y": [
          "AL",
          "AR",
          "AZ",
          "CA",
          "CO",
          "CT",
          "DC",
          "FL",
          "GA",
          "IA",
          "ID",
          "IL",
          "IN",
          "KS",
          "KY",
          "LA",
          "MA",
          "MD",
          "MI",
          "MN",
          "MO",
          "MS",
          "MT",
          "NC",
          "ND",
          "NE",
          "NJ",
          "NM",
          "NV",
          "NY",
          "OH",
          "OK",
          "OR",
          "PA",
          "SC",
          "SD",
          "TN",
          "TX",
          "UT",
          "VA",
          "WA",
          "WI",
          "WV",
          "WY"
         ],
         "yaxis": "y"
        },
        {
         "alignmentgroup": "True",
         "hovertemplate": "Fuel Type Code=LNG<br>Count=%{text}<br>State=%{y}<extra></extra>",
         "legendgroup": "LNG",
         "marker": {
          "color": "#FFA15A",
          "pattern": {
           "shape": ""
          }
         },
         "name": "LNG",
         "offsetgroup": "LNG",
         "orientation": "h",
         "showlegend": true,
         "text": [
          2,
          1,
          2,
          18,
          1,
          1,
          4,
          7,
          1,
          2,
          1,
          2,
          1,
          1,
          1,
          3,
          3,
          1,
          1,
          1,
          1,
          2,
          11,
          6,
          1,
          1
         ],
         "textposition": "auto",
         "type": "bar",
         "x": [
          2,
          1,
          2,
          18,
          1,
          1,
          4,
          7,
          1,
          2,
          1,
          2,
          1,
          1,
          1,
          3,
          3,
          1,
          1,
          1,
          1,
          2,
          11,
          6,
          1,
          1
         ],
         "xaxis": "x",
         "y": [
          "AL",
          "AR",
          "AZ",
          "CA",
          "CT",
          "FL",
          "GA",
          "ID",
          "IL",
          "IN",
          "KY",
          "LA",
          "MA",
          "NC",
          "NM",
          "NV",
          "OH",
          "OK",
          "OR",
          "PA",
          "SC",
          "TN",
          "TX",
          "UT",
          "WA",
          "WI"
         ],
         "yaxis": "y"
        },
        {
         "alignmentgroup": "True",
         "hovertemplate": "Fuel Type Code=LPG<br>Count=%{text}<br>State=%{y}<extra></extra>",
         "legendgroup": "LPG",
         "marker": {
          "color": "#19d3f3",
          "pattern": {
           "shape": ""
          }
         },
         "name": "LPG",
         "offsetgroup": "LPG",
         "orientation": "h",
         "showlegend": true,
         "text": [
          3,
          5,
          7,
          15,
          5,
          2,
          8,
          8,
          5,
          3,
          10,
          8,
          2,
          5,
          2,
          2,
          2,
          3,
          8,
          4,
          3,
          2,
          2,
          3,
          1,
          3,
          5,
          5,
          11,
          1,
          4,
          5,
          6,
          6,
          3,
          12,
          13,
          4,
          3,
          4,
          1,
          7
         ],
         "textposition": "auto",
         "type": "bar",
         "x": [
          3,
          5,
          7,
          15,
          5,
          2,
          8,
          8,
          5,
          3,
          10,
          8,
          2,
          5,
          2,
          2,
          2,
          3,
          8,
          4,
          3,
          2,
          2,
          3,
          1,
          3,
          5,
          5,
          11,
          1,
          4,
          5,
          6,
          6,
          3,
          12,
          13,
          4,
          3,
          4,
          1,
          7
         ],
         "xaxis": "x",
         "y": [
          "AL",
          "AR",
          "AZ",
          "CA",
          "CO",
          "DE",
          "FL",
          "GA",
          "IA",
          "ID",
          "IL",
          "IN",
          "KS",
          "KY",
          "MA",
          "MD",
          "MI",
          "MN",
          "MO",
          "MS",
          "MT",
          "NC",
          "ND",
          "NE",
          "NJ",
          "NM",
          "NV",
          "NY",
          "OH",
          "OK",
          "OR",
          "PA",
          "SC",
          "SD",
          "TN",
          "TX",
          "UT",
          "VA",
          "WA",
          "WI",
          "WV",
          "WY"
         ],
         "yaxis": "y"
        },
        {
         "alignmentgroup": "True",
         "hovertemplate": "Fuel Type Code=HY<br>Count=%{text}<br>State=%{y}<extra></extra>",
         "legendgroup": "HY",
         "marker": {
          "color": "#FF6692",
          "pattern": {
           "shape": ""
          }
         },
         "name": "HY",
         "offsetgroup": "HY",
         "orientation": "h",
         "showlegend": true,
         "text": [
          9,
          1
         ],
         "textposition": "auto",
         "type": "bar",
         "x": [
          9,
          1
         ],
         "xaxis": "x",
         "y": [
          "CA",
          "CT"
         ],
         "yaxis": "y"
        }
       ],
       "layout": {
        "barmode": "relative",
        "height": 400,
        "legend": {
         "title": {
          "text": "Fuel Type Code"
         },
         "tracegroupgap": 0
        },
        "template": {
         "data": {
          "bar": [
           {
            "error_x": {
             "color": "#2a3f5f"
            },
            "error_y": {
             "color": "#2a3f5f"
            },
            "marker": {
             "line": {
              "color": "#E5ECF6",
              "width": 0.5
             },
             "pattern": {
              "fillmode": "overlay",
              "size": 10,
              "solidity": 0.2
             }
            },
            "type": "bar"
           }
          ],
          "barpolar": [
           {
            "marker": {
             "line": {
              "color": "#E5ECF6",
              "width": 0.5
             },
             "pattern": {
              "fillmode": "overlay",
              "size": 10,
              "solidity": 0.2
             }
            },
            "type": "barpolar"
           }
          ],
          "carpet": [
           {
            "aaxis": {
             "endlinecolor": "#2a3f5f",
             "gridcolor": "white",
             "linecolor": "white",
             "minorgridcolor": "white",
             "startlinecolor": "#2a3f5f"
            },
            "baxis": {
             "endlinecolor": "#2a3f5f",
             "gridcolor": "white",
             "linecolor": "white",
             "minorgridcolor": "white",
             "startlinecolor": "#2a3f5f"
            },
            "type": "carpet"
           }
          ],
          "choropleth": [
           {
            "colorbar": {
             "outlinewidth": 0,
             "ticks": ""
            },
            "type": "choropleth"
           }
          ],
          "contour": [
           {
            "colorbar": {
             "outlinewidth": 0,
             "ticks": ""
            },
            "colorscale": [
             [
              0,
              "#0d0887"
             ],
             [
              0.1111111111111111,
              "#46039f"
             ],
             [
              0.2222222222222222,
              "#7201a8"
             ],
             [
              0.3333333333333333,
              "#9c179e"
             ],
             [
              0.4444444444444444,
              "#bd3786"
             ],
             [
              0.5555555555555556,
              "#d8576b"
             ],
             [
              0.6666666666666666,
              "#ed7953"
             ],
             [
              0.7777777777777778,
              "#fb9f3a"
             ],
             [
              0.8888888888888888,
              "#fdca26"
             ],
             [
              1,
              "#f0f921"
             ]
            ],
            "type": "contour"
           }
          ],
          "contourcarpet": [
           {
            "colorbar": {
             "outlinewidth": 0,
             "ticks": ""
            },
            "type": "contourcarpet"
           }
          ],
          "heatmap": [
           {
            "colorbar": {
             "outlinewidth": 0,
             "ticks": ""
            },
            "colorscale": [
             [
              0,
              "#0d0887"
             ],
             [
              0.1111111111111111,
              "#46039f"
             ],
             [
              0.2222222222222222,
              "#7201a8"
             ],
             [
              0.3333333333333333,
              "#9c179e"
             ],
             [
              0.4444444444444444,
              "#bd3786"
             ],
             [
              0.5555555555555556,
              "#d8576b"
             ],
             [
              0.6666666666666666,
              "#ed7953"
             ],
             [
              0.7777777777777778,
              "#fb9f3a"
             ],
             [
              0.8888888888888888,
              "#fdca26"
             ],
             [
              1,
              "#f0f921"
             ]
            ],
            "type": "heatmap"
           }
          ],
          "heatmapgl": [
           {
            "colorbar": {
             "outlinewidth": 0,
             "ticks": ""
            },
            "colorscale": [
             [
              0,
              "#0d0887"
             ],
             [
              0.1111111111111111,
              "#46039f"
             ],
             [
              0.2222222222222222,
              "#7201a8"
             ],
             [
              0.3333333333333333,
              "#9c179e"
             ],
             [
              0.4444444444444444,
              "#bd3786"
             ],
             [
              0.5555555555555556,
              "#d8576b"
             ],
             [
              0.6666666666666666,
              "#ed7953"
             ],
             [
              0.7777777777777778,
              "#fb9f3a"
             ],
             [
              0.8888888888888888,
              "#fdca26"
             ],
             [
              1,
              "#f0f921"
             ]
            ],
            "type": "heatmapgl"
           }
          ],
          "histogram": [
           {
            "marker": {
             "pattern": {
              "fillmode": "overlay",
              "size": 10,
              "solidity": 0.2
             }
            },
            "type": "histogram"
           }
          ],
          "histogram2d": [
           {
            "colorbar": {
             "outlinewidth": 0,
             "ticks": ""
            },
            "colorscale": [
             [
              0,
              "#0d0887"
             ],
             [
              0.1111111111111111,
              "#46039f"
             ],
             [
              0.2222222222222222,
              "#7201a8"
             ],
             [
              0.3333333333333333,
              "#9c179e"
             ],
             [
              0.4444444444444444,
              "#bd3786"
             ],
             [
              0.5555555555555556,
              "#d8576b"
             ],
             [
              0.6666666666666666,
              "#ed7953"
             ],
             [
              0.7777777777777778,
              "#fb9f3a"
             ],
             [
              0.8888888888888888,
              "#fdca26"
             ],
             [
              1,
              "#f0f921"
             ]
            ],
            "type": "histogram2d"
           }
          ],
          "histogram2dcontour": [
           {
            "colorbar": {
             "outlinewidth": 0,
             "ticks": ""
            },
            "colorscale": [
             [
              0,
              "#0d0887"
             ],
             [
              0.1111111111111111,
              "#46039f"
             ],
             [
              0.2222222222222222,
              "#7201a8"
             ],
             [
              0.3333333333333333,
              "#9c179e"
             ],
             [
              0.4444444444444444,
              "#bd3786"
             ],
             [
              0.5555555555555556,
              "#d8576b"
             ],
             [
              0.6666666666666666,
              "#ed7953"
             ],
             [
              0.7777777777777778,
              "#fb9f3a"
             ],
             [
              0.8888888888888888,
              "#fdca26"
             ],
             [
              1,
              "#f0f921"
             ]
            ],
            "type": "histogram2dcontour"
           }
          ],
          "mesh3d": [
           {
            "colorbar": {
             "outlinewidth": 0,
             "ticks": ""
            },
            "type": "mesh3d"
           }
          ],
          "parcoords": [
           {
            "line": {
             "colorbar": {
              "outlinewidth": 0,
              "ticks": ""
             }
            },
            "type": "parcoords"
           }
          ],
          "pie": [
           {
            "automargin": true,
            "type": "pie"
           }
          ],
          "scatter": [
           {
            "fillpattern": {
             "fillmode": "overlay",
             "size": 10,
             "solidity": 0.2
            },
            "type": "scatter"
           }
          ],
          "scatter3d": [
           {
            "line": {
             "colorbar": {
              "outlinewidth": 0,
              "ticks": ""
             }
            },
            "marker": {
             "colorbar": {
              "outlinewidth": 0,
              "ticks": ""
             }
            },
            "type": "scatter3d"
           }
          ],
          "scattercarpet": [
           {
            "marker": {
             "colorbar": {
              "outlinewidth": 0,
              "ticks": ""
             }
            },
            "type": "scattercarpet"
           }
          ],
          "scattergeo": [
           {
            "marker": {
             "colorbar": {
              "outlinewidth": 0,
              "ticks": ""
             }
            },
            "type": "scattergeo"
           }
          ],
          "scattergl": [
           {
            "marker": {
             "colorbar": {
              "outlinewidth": 0,
              "ticks": ""
             }
            },
            "type": "scattergl"
           }
          ],
          "scattermapbox": [
           {
            "marker": {
             "colorbar": {
              "outlinewidth": 0,
              "ticks": ""
             }
            },
            "type": "scattermapbox"
           }
          ],
          "scatterpolar": [
           {
            "marker": {
             "colorbar": {
              "outlinewidth": 0,
              "ticks": ""
             }
            },
            "type": "scatterpolar"
           }
          ],
          "scatterpolargl": [
           {
            "marker": {
             "colorbar": {
              "outlinewidth": 0,
              "ticks": ""
             }
            },
            "type": "scatterpolargl"
           }
          ],
          "scatterternary": [
           {
            "marker": {
             "colorbar": {
              "outlinewidth": 0,
              "ticks": ""
             }
            },
            "type": "scatterternary"
           }
          ],
          "surface": [
           {
            "colorbar": {
             "outlinewidth": 0,
             "ticks": ""
            },
            "colorscale": [
             [
              0,
              "#0d0887"
             ],
             [
              0.1111111111111111,
              "#46039f"
             ],
             [
              0.2222222222222222,
              "#7201a8"
             ],
             [
              0.3333333333333333,
              "#9c179e"
             ],
             [
              0.4444444444444444,
              "#bd3786"
             ],
             [
              0.5555555555555556,
              "#d8576b"
             ],
             [
              0.6666666666666666,
              "#ed7953"
             ],
             [
              0.7777777777777778,
              "#fb9f3a"
             ],
             [
              0.8888888888888888,
              "#fdca26"
             ],
             [
              1,
              "#f0f921"
             ]
            ],
            "type": "surface"
           }
          ],
          "table": [
           {
            "cells": {
             "fill": {
              "color": "#EBF0F8"
             },
             "line": {
              "color": "white"
             }
            },
            "header": {
             "fill": {
              "color": "#C8D4E3"
             },
             "line": {
              "color": "white"
             }
            },
            "type": "table"
           }
          ]
         },
         "layout": {
          "annotationdefaults": {
           "arrowcolor": "#2a3f5f",
           "arrowhead": 0,
           "arrowwidth": 1
          },
          "autotypenumbers": "strict",
          "coloraxis": {
           "colorbar": {
            "outlinewidth": 0,
            "ticks": ""
           }
          },
          "colorscale": {
           "diverging": [
            [
             0,
             "#8e0152"
            ],
            [
             0.1,
             "#c51b7d"
            ],
            [
             0.2,
             "#de77ae"
            ],
            [
             0.3,
             "#f1b6da"
            ],
            [
             0.4,
             "#fde0ef"
            ],
            [
             0.5,
             "#f7f7f7"
            ],
            [
             0.6,
             "#e6f5d0"
            ],
            [
             0.7,
             "#b8e186"
            ],
            [
             0.8,
             "#7fbc41"
            ],
            [
             0.9,
             "#4d9221"
            ],
            [
             1,
             "#276419"
            ]
           ],
           "sequential": [
            [
             0,
             "#0d0887"
            ],
            [
             0.1111111111111111,
             "#46039f"
            ],
            [
             0.2222222222222222,
             "#7201a8"
            ],
            [
             0.3333333333333333,
             "#9c179e"
            ],
            [
             0.4444444444444444,
             "#bd3786"
            ],
            [
             0.5555555555555556,
             "#d8576b"
            ],
            [
             0.6666666666666666,
             "#ed7953"
            ],
            [
             0.7777777777777778,
             "#fb9f3a"
            ],
            [
             0.8888888888888888,
             "#fdca26"
            ],
            [
             1,
             "#f0f921"
            ]
           ],
           "sequentialminus": [
            [
             0,
             "#0d0887"
            ],
            [
             0.1111111111111111,
             "#46039f"
            ],
            [
             0.2222222222222222,
             "#7201a8"
            ],
            [
             0.3333333333333333,
             "#9c179e"
            ],
            [
             0.4444444444444444,
             "#bd3786"
            ],
            [
             0.5555555555555556,
             "#d8576b"
            ],
            [
             0.6666666666666666,
             "#ed7953"
            ],
            [
             0.7777777777777778,
             "#fb9f3a"
            ],
            [
             0.8888888888888888,
             "#fdca26"
            ],
            [
             1,
             "#f0f921"
            ]
           ]
          },
          "colorway": [
           "#636efa",
           "#EF553B",
           "#00cc96",
           "#ab63fa",
           "#FFA15A",
           "#19d3f3",
           "#FF6692",
           "#B6E880",
           "#FF97FF",
           "#FECB52"
          ],
          "font": {
           "color": "#2a3f5f"
          },
          "geo": {
           "bgcolor": "white",
           "lakecolor": "white",
           "landcolor": "#E5ECF6",
           "showlakes": true,
           "showland": true,
           "subunitcolor": "white"
          },
          "hoverlabel": {
           "align": "left"
          },
          "hovermode": "closest",
          "mapbox": {
           "style": "light"
          },
          "paper_bgcolor": "white",
          "plot_bgcolor": "#E5ECF6",
          "polar": {
           "angularaxis": {
            "gridcolor": "white",
            "linecolor": "white",
            "ticks": ""
           },
           "bgcolor": "#E5ECF6",
           "radialaxis": {
            "gridcolor": "white",
            "linecolor": "white",
            "ticks": ""
           }
          },
          "scene": {
           "xaxis": {
            "backgroundcolor": "#E5ECF6",
            "gridcolor": "white",
            "gridwidth": 2,
            "linecolor": "white",
            "showbackground": true,
            "ticks": "",
            "zerolinecolor": "white"
           },
           "yaxis": {
            "backgroundcolor": "#E5ECF6",
            "gridcolor": "white",
            "gridwidth": 2,
            "linecolor": "white",
            "showbackground": true,
            "ticks": "",
            "zerolinecolor": "white"
           },
           "zaxis": {
            "backgroundcolor": "#E5ECF6",
            "gridcolor": "white",
            "gridwidth": 2,
            "linecolor": "white",
            "showbackground": true,
            "ticks": "",
            "zerolinecolor": "white"
           }
          },
          "shapedefaults": {
           "line": {
            "color": "#2a3f5f"
           }
          },
          "ternary": {
           "aaxis": {
            "gridcolor": "white",
            "linecolor": "white",
            "ticks": ""
           },
           "baxis": {
            "gridcolor": "white",
            "linecolor": "white",
            "ticks": ""
           },
           "bgcolor": "#E5ECF6",
           "caxis": {
            "gridcolor": "white",
            "linecolor": "white",
            "ticks": ""
           }
          },
          "title": {
           "x": 0.05
          },
          "xaxis": {
           "automargin": true,
           "gridcolor": "white",
           "linecolor": "white",
           "ticks": "",
           "title": {
            "standoff": 15
           },
           "zerolinecolor": "white",
           "zerolinewidth": 2
          },
          "yaxis": {
           "automargin": true,
           "gridcolor": "white",
           "linecolor": "white",
           "ticks": "",
           "title": {
            "standoff": 15
           },
           "zerolinecolor": "white",
           "zerolinewidth": 2
          }
         }
        },
        "title": {
         "text": "Distribution of Fuel Type Codes by State"
        },
        "xaxis": {
         "anchor": "y",
         "domain": [
          0,
          1
         ],
         "title": {
          "text": "Count"
         }
        },
        "yaxis": {
         "anchor": "x",
         "domain": [
          0,
          1
         ],
         "title": {
          "text": "State"
         }
        }
       }
      }
     },
     "metadata": {},
     "output_type": "display_data"
    }
   ],
   "source": [
    "fig_state = px.bar(\n",
    "    f_counts,\n",
    "    y='State',  # Set 'y' to State to make bars horizontal\n",
    "    x='count',\n",
    "    color='Fuel Type Code',\n",
    "    title='Distribution of Fuel Type Codes by State',\n",
    "    labels={'State': 'State', 'count': 'Count'},\n",
    "    text='count',  # Show counts on the bars\n",
    "    height=400  # Adjust the height as needed\n",
    ")\n",
    "\n",
    "fig_state.show()"
   ]
  },
  {
   "cell_type": "code",
   "execution_count": 32,
   "metadata": {},
   "outputs": [
    {
     "data": {
      "application/vnd.plotly.v1+json": {
       "config": {
        "plotlyServerURL": "https://plot.ly"
       },
       "data": [
        {
         "alignmentgroup": "True",
         "hovertemplate": "Fuel Type Code=CNG<br>Count=%{text}<br>State=%{y}<extra></extra>",
         "legendgroup": "CNG",
         "marker": {
          "color": "#636efa",
          "pattern": {
           "shape": ""
          }
         },
         "name": "CNG",
         "offsetgroup": "CNG",
         "orientation": "h",
         "showlegend": true,
         "text": [
          1,
          10,
          10,
          12,
          180,
          17,
          7,
          1,
          21,
          19,
          5,
          2,
          24,
          21,
          7,
          6,
          18,
          12,
          3,
          1,
          15,
          12,
          8,
          5,
          23,
          8,
          2,
          8,
          9,
          6,
          86,
          32,
          89,
          4,
          35,
          3,
          5,
          11,
          74,
          45,
          8,
          2,
          6,
          54,
          3,
          7
         ],
         "textposition": "inside",
         "texttemplate": "%{text}",
         "type": "bar",
         "x": [
          1,
          10,
          10,
          12,
          180,
          17,
          7,
          1,
          21,
          19,
          5,
          2,
          24,
          21,
          7,
          6,
          18,
          12,
          3,
          1,
          15,
          12,
          8,
          5,
          23,
          8,
          2,
          8,
          9,
          6,
          86,
          32,
          89,
          4,
          35,
          3,
          5,
          11,
          74,
          45,
          8,
          2,
          6,
          54,
          3,
          7
         ],
         "xaxis": "x",
         "y": [
          "AK",
          "AL",
          "AR",
          "AZ",
          "CA",
          "CO",
          "CT",
          "DE",
          "FL",
          "GA",
          "IA",
          "ID",
          "IL",
          "IN",
          "KS",
          "KY",
          "LA",
          "MA",
          "MD",
          "ME",
          "MI",
          "MN",
          "MO",
          "MS",
          "NC",
          "NE",
          "NH",
          "NJ",
          "NM",
          "NV",
          "NY",
          "OH",
          "OK",
          "OR",
          "PA",
          "RI",
          "SC",
          "TN",
          "TX",
          "UT",
          "VA",
          "VT",
          "WA",
          "WI",
          "WV",
          "WY"
         ],
         "yaxis": "y"
        },
        {
         "alignmentgroup": "True",
         "hovertemplate": "Fuel Type Code=ELEC<br>Count=%{text}<br>State=%{y}<extra></extra>",
         "legendgroup": "ELEC",
         "marker": {
          "color": "#EF553B",
          "pattern": {
           "shape": ""
          }
         },
         "name": "ELEC",
         "offsetgroup": "ELEC",
         "orientation": "h",
         "showlegend": true,
         "text": [
          1,
          27,
          23,
          28,
          101,
          153,
          15,
          10,
          167,
          114,
          145,
          36,
          14,
          151,
          68,
          53,
          28,
          24,
          66,
          56,
          29,
          122,
          133,
          28,
          14,
          8,
          169,
          3,
          3,
          37,
          56,
          15,
          12,
          159,
          81,
          17,
          81,
          115,
          8,
          104,
          8,
          55,
          155,
          36,
          121,
          29,
          109,
          88,
          17,
          4
         ],
         "textposition": "inside",
         "texttemplate": "%{text}",
         "type": "bar",
         "x": [
          1,
          27,
          23,
          28,
          101,
          153,
          15,
          10,
          167,
          114,
          145,
          36,
          14,
          151,
          68,
          53,
          28,
          24,
          66,
          56,
          29,
          122,
          133,
          28,
          14,
          8,
          169,
          3,
          3,
          37,
          56,
          15,
          12,
          159,
          81,
          17,
          81,
          115,
          8,
          104,
          8,
          55,
          155,
          36,
          121,
          29,
          109,
          88,
          17,
          4
         ],
         "xaxis": "x",
         "y": [
          "AK",
          "AL",
          "AR",
          "AZ",
          "CO",
          "CT",
          "DC",
          "DE",
          "FL",
          "GA",
          "HI",
          "IA",
          "ID",
          "IL",
          "IN",
          "KS",
          "KY",
          "LA",
          "MA",
          "MD",
          "ME",
          "MI",
          "MN",
          "MO",
          "MS",
          "MT",
          "NC",
          "ND",
          "NE",
          "NH",
          "NJ",
          "NM",
          "NV",
          "NY",
          "OH",
          "OK",
          "OR",
          "PA",
          "RI",
          "SC",
          "SD",
          "TN",
          "TX",
          "UT",
          "VA",
          "VT",
          "WA",
          "WI",
          "WV",
          "WY"
         ],
         "yaxis": "y"
        },
        {
         "alignmentgroup": "True",
         "hovertemplate": "Fuel Type Code=BD<br>Count=%{text}<br>State=%{y}<extra></extra>",
         "legendgroup": "BD",
         "marker": {
          "color": "#00cc96",
          "pattern": {
           "shape": ""
          }
         },
         "name": "BD",
         "offsetgroup": "BD",
         "orientation": "h",
         "showlegend": true,
         "text": [
          3,
          1,
          4,
          60,
          8,
          2,
          3,
          8,
          5,
          8,
          8,
          2,
          6,
          3,
          5,
          2,
          3,
          2,
          2,
          11,
          5,
          3,
          2,
          24,
          2,
          2,
          3,
          1,
          4,
          2,
          9,
          7,
          1,
          22,
          5,
          3,
          19,
          1,
          24,
          9,
          3,
          3,
          1,
          17,
          5
         ],
         "textposition": "inside",
         "texttemplate": "%{text}",
         "type": "bar",
         "x": [
          3,
          1,
          4,
          60,
          8,
          2,
          3,
          8,
          5,
          8,
          8,
          2,
          6,
          3,
          5,
          2,
          3,
          2,
          2,
          11,
          5,
          3,
          2,
          24,
          2,
          2,
          3,
          1,
          4,
          2,
          9,
          7,
          1,
          22,
          5,
          3,
          19,
          1,
          24,
          9,
          3,
          3,
          1,
          17,
          5
         ],
         "xaxis": "x",
         "y": [
          "AL",
          "AR",
          "AZ",
          "CA",
          "CO",
          "CT",
          "DC",
          "FL",
          "GA",
          "HI",
          "IA",
          "ID",
          "IL",
          "IN",
          "KS",
          "KY",
          "MA",
          "MD",
          "ME",
          "MI",
          "MN",
          "MO",
          "MT",
          "NC",
          "ND",
          "NE",
          "NH",
          "NJ",
          "NM",
          "NV",
          "NY",
          "OH",
          "OK",
          "OR",
          "PA",
          "RI",
          "SC",
          "SD",
          "TN",
          "TX",
          "UT",
          "VA",
          "VT",
          "WA",
          "WI"
         ],
         "yaxis": "y"
        },
        {
         "alignmentgroup": "True",
         "hovertemplate": "Fuel Type Code=E85<br>Count=%{text}<br>State=%{y}<extra></extra>",
         "legendgroup": "E85",
         "marker": {
          "color": "#ab63fa",
          "pattern": {
           "shape": ""
          }
         },
         "name": "E85",
         "offsetgroup": "E85",
         "orientation": "h",
         "showlegend": true,
         "text": [
          25,
          44,
          24,
          83,
          79,
          2,
          1,
          55,
          37,
          201,
          5,
          218,
          188,
          23,
          60,
          8,
          9,
          18,
          232,
          268,
          102,
          3,
          1,
          12,
          65,
          75,
          3,
          9,
          21,
          80,
          126,
          25,
          5,
          36,
          65,
          85,
          63,
          126,
          3,
          11,
          10,
          150,
          7,
          6
         ],
         "textposition": "inside",
         "texttemplate": "%{text}",
         "type": "bar",
         "x": [
          25,
          44,
          24,
          83,
          79,
          2,
          1,
          55,
          37,
          201,
          5,
          218,
          188,
          23,
          60,
          8,
          9,
          18,
          232,
          268,
          102,
          3,
          1,
          12,
          65,
          75,
          3,
          9,
          21,
          80,
          126,
          25,
          5,
          36,
          65,
          85,
          63,
          126,
          3,
          11,
          10,
          150,
          7,
          6
         ],
         "xaxis": "x",
         "y": [
          "AL",
          "AR",
          "AZ",
          "CA",
          "CO",
          "CT",
          "DC",
          "FL",
          "GA",
          "IA",
          "ID",
          "IL",
          "IN",
          "KS",
          "KY",
          "LA",
          "MA",
          "MD",
          "MI",
          "MN",
          "MO",
          "MS",
          "MT",
          "NC",
          "ND",
          "NE",
          "NJ",
          "NM",
          "NV",
          "NY",
          "OH",
          "OK",
          "OR",
          "PA",
          "SC",
          "SD",
          "TN",
          "TX",
          "UT",
          "VA",
          "WA",
          "WI",
          "WV",
          "WY"
         ],
         "yaxis": "y"
        },
        {
         "alignmentgroup": "True",
         "hovertemplate": "Fuel Type Code=LNG<br>Count=%{text}<br>State=%{y}<extra></extra>",
         "legendgroup": "LNG",
         "marker": {
          "color": "#FFA15A",
          "pattern": {
           "shape": ""
          }
         },
         "name": "LNG",
         "offsetgroup": "LNG",
         "orientation": "h",
         "showlegend": true,
         "text": [
          2,
          1,
          2,
          18,
          1,
          1,
          4,
          7,
          1,
          2,
          1,
          2,
          1,
          1,
          1,
          3,
          3,
          1,
          1,
          1,
          1,
          2,
          11,
          6,
          1,
          1
         ],
         "textposition": "inside",
         "texttemplate": "%{text}",
         "type": "bar",
         "x": [
          2,
          1,
          2,
          18,
          1,
          1,
          4,
          7,
          1,
          2,
          1,
          2,
          1,
          1,
          1,
          3,
          3,
          1,
          1,
          1,
          1,
          2,
          11,
          6,
          1,
          1
         ],
         "xaxis": "x",
         "y": [
          "AL",
          "AR",
          "AZ",
          "CA",
          "CT",
          "FL",
          "GA",
          "ID",
          "IL",
          "IN",
          "KY",
          "LA",
          "MA",
          "NC",
          "NM",
          "NV",
          "OH",
          "OK",
          "OR",
          "PA",
          "SC",
          "TN",
          "TX",
          "UT",
          "WA",
          "WI"
         ],
         "yaxis": "y"
        },
        {
         "alignmentgroup": "True",
         "hovertemplate": "Fuel Type Code=LPG<br>Count=%{text}<br>State=%{y}<extra></extra>",
         "legendgroup": "LPG",
         "marker": {
          "color": "#19d3f3",
          "pattern": {
           "shape": ""
          }
         },
         "name": "LPG",
         "offsetgroup": "LPG",
         "orientation": "h",
         "showlegend": true,
         "text": [
          3,
          5,
          7,
          15,
          5,
          2,
          8,
          8,
          5,
          3,
          10,
          8,
          2,
          5,
          2,
          2,
          2,
          3,
          8,
          4,
          3,
          2,
          2,
          3,
          1,
          3,
          5,
          5,
          11,
          1,
          4,
          5,
          6,
          6,
          3,
          12,
          13,
          4,
          3,
          4,
          1,
          7
         ],
         "textposition": "inside",
         "texttemplate": "%{text}",
         "type": "bar",
         "x": [
          3,
          5,
          7,
          15,
          5,
          2,
          8,
          8,
          5,
          3,
          10,
          8,
          2,
          5,
          2,
          2,
          2,
          3,
          8,
          4,
          3,
          2,
          2,
          3,
          1,
          3,
          5,
          5,
          11,
          1,
          4,
          5,
          6,
          6,
          3,
          12,
          13,
          4,
          3,
          4,
          1,
          7
         ],
         "xaxis": "x",
         "y": [
          "AL",
          "AR",
          "AZ",
          "CA",
          "CO",
          "DE",
          "FL",
          "GA",
          "IA",
          "ID",
          "IL",
          "IN",
          "KS",
          "KY",
          "MA",
          "MD",
          "MI",
          "MN",
          "MO",
          "MS",
          "MT",
          "NC",
          "ND",
          "NE",
          "NJ",
          "NM",
          "NV",
          "NY",
          "OH",
          "OK",
          "OR",
          "PA",
          "SC",
          "SD",
          "TN",
          "TX",
          "UT",
          "VA",
          "WA",
          "WI",
          "WV",
          "WY"
         ],
         "yaxis": "y"
        },
        {
         "alignmentgroup": "True",
         "hovertemplate": "Fuel Type Code=HY<br>Count=%{text}<br>State=%{y}<extra></extra>",
         "legendgroup": "HY",
         "marker": {
          "color": "#FF6692",
          "pattern": {
           "shape": ""
          }
         },
         "name": "HY",
         "offsetgroup": "HY",
         "orientation": "h",
         "showlegend": true,
         "text": [
          9,
          1
         ],
         "textposition": "inside",
         "texttemplate": "%{text}",
         "type": "bar",
         "x": [
          9,
          1
         ],
         "xaxis": "x",
         "y": [
          "CA",
          "CT"
         ],
         "yaxis": "y"
        }
       ],
       "layout": {
        "barmode": "stack",
        "height": 400,
        "legend": {
         "title": {
          "text": "Fuel Type Code"
         },
         "tracegroupgap": 0
        },
        "template": {
         "data": {
          "bar": [
           {
            "error_x": {
             "color": "#2a3f5f"
            },
            "error_y": {
             "color": "#2a3f5f"
            },
            "marker": {
             "line": {
              "color": "#E5ECF6",
              "width": 0.5
             },
             "pattern": {
              "fillmode": "overlay",
              "size": 10,
              "solidity": 0.2
             }
            },
            "type": "bar"
           }
          ],
          "barpolar": [
           {
            "marker": {
             "line": {
              "color": "#E5ECF6",
              "width": 0.5
             },
             "pattern": {
              "fillmode": "overlay",
              "size": 10,
              "solidity": 0.2
             }
            },
            "type": "barpolar"
           }
          ],
          "carpet": [
           {
            "aaxis": {
             "endlinecolor": "#2a3f5f",
             "gridcolor": "white",
             "linecolor": "white",
             "minorgridcolor": "white",
             "startlinecolor": "#2a3f5f"
            },
            "baxis": {
             "endlinecolor": "#2a3f5f",
             "gridcolor": "white",
             "linecolor": "white",
             "minorgridcolor": "white",
             "startlinecolor": "#2a3f5f"
            },
            "type": "carpet"
           }
          ],
          "choropleth": [
           {
            "colorbar": {
             "outlinewidth": 0,
             "ticks": ""
            },
            "type": "choropleth"
           }
          ],
          "contour": [
           {
            "colorbar": {
             "outlinewidth": 0,
             "ticks": ""
            },
            "colorscale": [
             [
              0,
              "#0d0887"
             ],
             [
              0.1111111111111111,
              "#46039f"
             ],
             [
              0.2222222222222222,
              "#7201a8"
             ],
             [
              0.3333333333333333,
              "#9c179e"
             ],
             [
              0.4444444444444444,
              "#bd3786"
             ],
             [
              0.5555555555555556,
              "#d8576b"
             ],
             [
              0.6666666666666666,
              "#ed7953"
             ],
             [
              0.7777777777777778,
              "#fb9f3a"
             ],
             [
              0.8888888888888888,
              "#fdca26"
             ],
             [
              1,
              "#f0f921"
             ]
            ],
            "type": "contour"
           }
          ],
          "contourcarpet": [
           {
            "colorbar": {
             "outlinewidth": 0,
             "ticks": ""
            },
            "type": "contourcarpet"
           }
          ],
          "heatmap": [
           {
            "colorbar": {
             "outlinewidth": 0,
             "ticks": ""
            },
            "colorscale": [
             [
              0,
              "#0d0887"
             ],
             [
              0.1111111111111111,
              "#46039f"
             ],
             [
              0.2222222222222222,
              "#7201a8"
             ],
             [
              0.3333333333333333,
              "#9c179e"
             ],
             [
              0.4444444444444444,
              "#bd3786"
             ],
             [
              0.5555555555555556,
              "#d8576b"
             ],
             [
              0.6666666666666666,
              "#ed7953"
             ],
             [
              0.7777777777777778,
              "#fb9f3a"
             ],
             [
              0.8888888888888888,
              "#fdca26"
             ],
             [
              1,
              "#f0f921"
             ]
            ],
            "type": "heatmap"
           }
          ],
          "heatmapgl": [
           {
            "colorbar": {
             "outlinewidth": 0,
             "ticks": ""
            },
            "colorscale": [
             [
              0,
              "#0d0887"
             ],
             [
              0.1111111111111111,
              "#46039f"
             ],
             [
              0.2222222222222222,
              "#7201a8"
             ],
             [
              0.3333333333333333,
              "#9c179e"
             ],
             [
              0.4444444444444444,
              "#bd3786"
             ],
             [
              0.5555555555555556,
              "#d8576b"
             ],
             [
              0.6666666666666666,
              "#ed7953"
             ],
             [
              0.7777777777777778,
              "#fb9f3a"
             ],
             [
              0.8888888888888888,
              "#fdca26"
             ],
             [
              1,
              "#f0f921"
             ]
            ],
            "type": "heatmapgl"
           }
          ],
          "histogram": [
           {
            "marker": {
             "pattern": {
              "fillmode": "overlay",
              "size": 10,
              "solidity": 0.2
             }
            },
            "type": "histogram"
           }
          ],
          "histogram2d": [
           {
            "colorbar": {
             "outlinewidth": 0,
             "ticks": ""
            },
            "colorscale": [
             [
              0,
              "#0d0887"
             ],
             [
              0.1111111111111111,
              "#46039f"
             ],
             [
              0.2222222222222222,
              "#7201a8"
             ],
             [
              0.3333333333333333,
              "#9c179e"
             ],
             [
              0.4444444444444444,
              "#bd3786"
             ],
             [
              0.5555555555555556,
              "#d8576b"
             ],
             [
              0.6666666666666666,
              "#ed7953"
             ],
             [
              0.7777777777777778,
              "#fb9f3a"
             ],
             [
              0.8888888888888888,
              "#fdca26"
             ],
             [
              1,
              "#f0f921"
             ]
            ],
            "type": "histogram2d"
           }
          ],
          "histogram2dcontour": [
           {
            "colorbar": {
             "outlinewidth": 0,
             "ticks": ""
            },
            "colorscale": [
             [
              0,
              "#0d0887"
             ],
             [
              0.1111111111111111,
              "#46039f"
             ],
             [
              0.2222222222222222,
              "#7201a8"
             ],
             [
              0.3333333333333333,
              "#9c179e"
             ],
             [
              0.4444444444444444,
              "#bd3786"
             ],
             [
              0.5555555555555556,
              "#d8576b"
             ],
             [
              0.6666666666666666,
              "#ed7953"
             ],
             [
              0.7777777777777778,
              "#fb9f3a"
             ],
             [
              0.8888888888888888,
              "#fdca26"
             ],
             [
              1,
              "#f0f921"
             ]
            ],
            "type": "histogram2dcontour"
           }
          ],
          "mesh3d": [
           {
            "colorbar": {
             "outlinewidth": 0,
             "ticks": ""
            },
            "type": "mesh3d"
           }
          ],
          "parcoords": [
           {
            "line": {
             "colorbar": {
              "outlinewidth": 0,
              "ticks": ""
             }
            },
            "type": "parcoords"
           }
          ],
          "pie": [
           {
            "automargin": true,
            "type": "pie"
           }
          ],
          "scatter": [
           {
            "fillpattern": {
             "fillmode": "overlay",
             "size": 10,
             "solidity": 0.2
            },
            "type": "scatter"
           }
          ],
          "scatter3d": [
           {
            "line": {
             "colorbar": {
              "outlinewidth": 0,
              "ticks": ""
             }
            },
            "marker": {
             "colorbar": {
              "outlinewidth": 0,
              "ticks": ""
             }
            },
            "type": "scatter3d"
           }
          ],
          "scattercarpet": [
           {
            "marker": {
             "colorbar": {
              "outlinewidth": 0,
              "ticks": ""
             }
            },
            "type": "scattercarpet"
           }
          ],
          "scattergeo": [
           {
            "marker": {
             "colorbar": {
              "outlinewidth": 0,
              "ticks": ""
             }
            },
            "type": "scattergeo"
           }
          ],
          "scattergl": [
           {
            "marker": {
             "colorbar": {
              "outlinewidth": 0,
              "ticks": ""
             }
            },
            "type": "scattergl"
           }
          ],
          "scattermapbox": [
           {
            "marker": {
             "colorbar": {
              "outlinewidth": 0,
              "ticks": ""
             }
            },
            "type": "scattermapbox"
           }
          ],
          "scatterpolar": [
           {
            "marker": {
             "colorbar": {
              "outlinewidth": 0,
              "ticks": ""
             }
            },
            "type": "scatterpolar"
           }
          ],
          "scatterpolargl": [
           {
            "marker": {
             "colorbar": {
              "outlinewidth": 0,
              "ticks": ""
             }
            },
            "type": "scatterpolargl"
           }
          ],
          "scatterternary": [
           {
            "marker": {
             "colorbar": {
              "outlinewidth": 0,
              "ticks": ""
             }
            },
            "type": "scatterternary"
           }
          ],
          "surface": [
           {
            "colorbar": {
             "outlinewidth": 0,
             "ticks": ""
            },
            "colorscale": [
             [
              0,
              "#0d0887"
             ],
             [
              0.1111111111111111,
              "#46039f"
             ],
             [
              0.2222222222222222,
              "#7201a8"
             ],
             [
              0.3333333333333333,
              "#9c179e"
             ],
             [
              0.4444444444444444,
              "#bd3786"
             ],
             [
              0.5555555555555556,
              "#d8576b"
             ],
             [
              0.6666666666666666,
              "#ed7953"
             ],
             [
              0.7777777777777778,
              "#fb9f3a"
             ],
             [
              0.8888888888888888,
              "#fdca26"
             ],
             [
              1,
              "#f0f921"
             ]
            ],
            "type": "surface"
           }
          ],
          "table": [
           {
            "cells": {
             "fill": {
              "color": "#EBF0F8"
             },
             "line": {
              "color": "white"
             }
            },
            "header": {
             "fill": {
              "color": "#C8D4E3"
             },
             "line": {
              "color": "white"
             }
            },
            "type": "table"
           }
          ]
         },
         "layout": {
          "annotationdefaults": {
           "arrowcolor": "#2a3f5f",
           "arrowhead": 0,
           "arrowwidth": 1
          },
          "autotypenumbers": "strict",
          "coloraxis": {
           "colorbar": {
            "outlinewidth": 0,
            "ticks": ""
           }
          },
          "colorscale": {
           "diverging": [
            [
             0,
             "#8e0152"
            ],
            [
             0.1,
             "#c51b7d"
            ],
            [
             0.2,
             "#de77ae"
            ],
            [
             0.3,
             "#f1b6da"
            ],
            [
             0.4,
             "#fde0ef"
            ],
            [
             0.5,
             "#f7f7f7"
            ],
            [
             0.6,
             "#e6f5d0"
            ],
            [
             0.7,
             "#b8e186"
            ],
            [
             0.8,
             "#7fbc41"
            ],
            [
             0.9,
             "#4d9221"
            ],
            [
             1,
             "#276419"
            ]
           ],
           "sequential": [
            [
             0,
             "#0d0887"
            ],
            [
             0.1111111111111111,
             "#46039f"
            ],
            [
             0.2222222222222222,
             "#7201a8"
            ],
            [
             0.3333333333333333,
             "#9c179e"
            ],
            [
             0.4444444444444444,
             "#bd3786"
            ],
            [
             0.5555555555555556,
             "#d8576b"
            ],
            [
             0.6666666666666666,
             "#ed7953"
            ],
            [
             0.7777777777777778,
             "#fb9f3a"
            ],
            [
             0.8888888888888888,
             "#fdca26"
            ],
            [
             1,
             "#f0f921"
            ]
           ],
           "sequentialminus": [
            [
             0,
             "#0d0887"
            ],
            [
             0.1111111111111111,
             "#46039f"
            ],
            [
             0.2222222222222222,
             "#7201a8"
            ],
            [
             0.3333333333333333,
             "#9c179e"
            ],
            [
             0.4444444444444444,
             "#bd3786"
            ],
            [
             0.5555555555555556,
             "#d8576b"
            ],
            [
             0.6666666666666666,
             "#ed7953"
            ],
            [
             0.7777777777777778,
             "#fb9f3a"
            ],
            [
             0.8888888888888888,
             "#fdca26"
            ],
            [
             1,
             "#f0f921"
            ]
           ]
          },
          "colorway": [
           "#636efa",
           "#EF553B",
           "#00cc96",
           "#ab63fa",
           "#FFA15A",
           "#19d3f3",
           "#FF6692",
           "#B6E880",
           "#FF97FF",
           "#FECB52"
          ],
          "font": {
           "color": "#2a3f5f"
          },
          "geo": {
           "bgcolor": "white",
           "lakecolor": "white",
           "landcolor": "#E5ECF6",
           "showlakes": true,
           "showland": true,
           "subunitcolor": "white"
          },
          "hoverlabel": {
           "align": "left"
          },
          "hovermode": "closest",
          "mapbox": {
           "style": "light"
          },
          "paper_bgcolor": "white",
          "plot_bgcolor": "#E5ECF6",
          "polar": {
           "angularaxis": {
            "gridcolor": "white",
            "linecolor": "white",
            "ticks": ""
           },
           "bgcolor": "#E5ECF6",
           "radialaxis": {
            "gridcolor": "white",
            "linecolor": "white",
            "ticks": ""
           }
          },
          "scene": {
           "xaxis": {
            "backgroundcolor": "#E5ECF6",
            "gridcolor": "white",
            "gridwidth": 2,
            "linecolor": "white",
            "showbackground": true,
            "ticks": "",
            "zerolinecolor": "white"
           },
           "yaxis": {
            "backgroundcolor": "#E5ECF6",
            "gridcolor": "white",
            "gridwidth": 2,
            "linecolor": "white",
            "showbackground": true,
            "ticks": "",
            "zerolinecolor": "white"
           },
           "zaxis": {
            "backgroundcolor": "#E5ECF6",
            "gridcolor": "white",
            "gridwidth": 2,
            "linecolor": "white",
            "showbackground": true,
            "ticks": "",
            "zerolinecolor": "white"
           }
          },
          "shapedefaults": {
           "line": {
            "color": "#2a3f5f"
           }
          },
          "ternary": {
           "aaxis": {
            "gridcolor": "white",
            "linecolor": "white",
            "ticks": ""
           },
           "baxis": {
            "gridcolor": "white",
            "linecolor": "white",
            "ticks": ""
           },
           "bgcolor": "#E5ECF6",
           "caxis": {
            "gridcolor": "white",
            "linecolor": "white",
            "ticks": ""
           }
          },
          "title": {
           "x": 0.05
          },
          "xaxis": {
           "automargin": true,
           "gridcolor": "white",
           "linecolor": "white",
           "ticks": "",
           "title": {
            "standoff": 15
           },
           "zerolinecolor": "white",
           "zerolinewidth": 2
          },
          "yaxis": {
           "automargin": true,
           "gridcolor": "white",
           "linecolor": "white",
           "ticks": "",
           "title": {
            "standoff": 15
           },
           "zerolinecolor": "white",
           "zerolinewidth": 2
          }
         }
        },
        "title": {
         "text": "Number of Fuel Stations per State by Fuel Code"
        },
        "xaxis": {
         "anchor": "y",
         "domain": [
          0,
          1
         ],
         "title": {
          "text": "Count"
         }
        },
        "yaxis": {
         "anchor": "x",
         "domain": [
          0,
          1
         ],
         "title": {
          "text": "State"
         }
        }
       }
      }
     },
     "metadata": {},
     "output_type": "display_data"
    }
   ],
   "source": [
    "fig_state.update_xaxes(type='log')\n",
    "fig_state.update_xaxes(range=[0, 600])  # Adjust the range as needed\n",
    "\n",
    "# Filter out states with counts over 600\n",
    "df_high_counts = f_counts[f_counts['count'] < 600]\n",
    "\n",
    "# Create a separate plot or annotation\n",
    "fig_high_counts = px.bar(\n",
    "    df_high_counts,\n",
    "    y='State',\n",
    "    x='count',\n",
    "    color='Fuel Type Code',\n",
    "    title='Number of Fuel Stations per State by Fuel Code',\n",
    "    labels={'State': 'State', 'count': 'Count'},\n",
    "    text='count',\n",
    "    height=400\n",
    ")\n",
    "\n",
    "fig_high_counts.update_layout(barmode='stack')\n",
    "fig_high_counts.update_traces(texttemplate='%{text}', textposition='inside')\n",
    "fig_high_counts.show()"
   ]
  }
 ],
 "metadata": {
  "kernelspec": {
   "display_name": "gui_env",
   "language": "python",
   "name": "python3"
  },
  "language_info": {
   "codemirror_mode": {
    "name": "ipython",
    "version": 3
   },
   "file_extension": ".py",
   "mimetype": "text/x-python",
   "name": "python",
   "nbconvert_exporter": "python",
   "pygments_lexer": "ipython3",
   "version": "3.12.4"
  }
 },
 "nbformat": 4,
 "nbformat_minor": 2
}
